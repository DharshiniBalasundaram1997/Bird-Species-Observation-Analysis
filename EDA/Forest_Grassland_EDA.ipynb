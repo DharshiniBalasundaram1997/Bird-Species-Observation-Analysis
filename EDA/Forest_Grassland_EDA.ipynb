{
 "cells": [
  {
   "cell_type": "code",
   "execution_count": null,
   "id": "7ac4df5a",
   "metadata": {},
   "outputs": [],
   "source": [
    "!pip install matplotlib\n",
    "!pip install plotly\n",
    "!pip install seaborn\n",
    "!pip install numpy\n",
    "!pip install scikit-learn"
   ]
  },
  {
   "cell_type": "code",
   "execution_count": 154,
   "id": "ac1b709a",
   "metadata": {},
   "outputs": [],
   "source": [
    "import pandas as pd\n",
    "import matplotlib.pyplot as plt\n",
    "import plotly.express as px\n",
    "import seaborn as sns\n",
    "import numpy as np\n",
    "from sklearn.preprocessing import OrdinalEncoder \n",
    "from sklearn.preprocessing import LabelEncoder\n",
    "import plotly.graph_objects as go\n",
    "import os"
   ]
  },
  {
   "cell_type": "markdown",
   "id": "ee71ffdd",
   "metadata": {},
   "source": [
    "**Read the csv File**"
   ]
  },
  {
   "cell_type": "code",
   "execution_count": 107,
   "id": "47fd91c6",
   "metadata": {},
   "outputs": [],
   "source": [
    "Forest=pd.read_csv(\"C:/Users/dhars/Downloads/Dhass/codeing/GUVI/2. MainBoot/4.Project_Code/Project2/Bird_Species_Observation/DataSet/CleanDataSet/Cleaned_Forest_DataSet.csv\")\n",
    "Grassland=pd.read_csv(\"C:/Users/dhars/Downloads/Dhass/codeing/GUVI/2. MainBoot/4.Project_Code/Project2/Bird_Species_Observation/DataSet/CleanDataSet/Cleaned_Grassland_DataSet.csv\")"
   ]
  },
  {
   "cell_type": "code",
   "execution_count": 76,
   "id": "f63bf4b3",
   "metadata": {},
   "outputs": [],
   "source": [
    "pd.set_option('display.max_rows', None)\n",
    "pd.set_option('display.max_columns', None)\n",
    "pd.set_option('display.width', None)\n",
    "pd.set_option('display.max_colwidth', None)"
   ]
  },
  {
   "cell_type": "markdown",
   "id": "0f870bc8",
   "metadata": {},
   "source": [
    "**Combined Land Type**"
   ]
  },
  {
   "cell_type": "code",
   "execution_count": 108,
   "id": "23f81c2c",
   "metadata": {},
   "outputs": [
    {
     "data": {
      "text/html": [
       "<div>\n",
       "<style scoped>\n",
       "    .dataframe tbody tr th:only-of-type {\n",
       "        vertical-align: middle;\n",
       "    }\n",
       "\n",
       "    .dataframe tbody tr th {\n",
       "        vertical-align: top;\n",
       "    }\n",
       "\n",
       "    .dataframe thead th {\n",
       "        text-align: right;\n",
       "    }\n",
       "</style>\n",
       "<table border=\"1\" class=\"dataframe\">\n",
       "  <thead>\n",
       "    <tr style=\"text-align: right;\">\n",
       "      <th></th>\n",
       "      <th>Admin_Unit_Code</th>\n",
       "      <th>Site_Name</th>\n",
       "      <th>Plot_Name</th>\n",
       "      <th>Location_Type</th>\n",
       "      <th>Year</th>\n",
       "      <th>Date</th>\n",
       "      <th>Start_Time</th>\n",
       "      <th>End_Time</th>\n",
       "      <th>Observer</th>\n",
       "      <th>Visit</th>\n",
       "      <th>Interval_Length</th>\n",
       "      <th>ID_Method</th>\n",
       "      <th>Distance</th>\n",
       "      <th>Flyover_Observed</th>\n",
       "      <th>Sex</th>\n",
       "      <th>Common_Name</th>\n",
       "      <th>Scientific_Name</th>\n",
       "      <th>AcceptedTSN</th>\n",
       "      <th>NPSTaxonCode</th>\n",
       "      <th>AOU_Code</th>\n",
       "      <th>PIF_Watchlist_Status</th>\n",
       "      <th>Regional_Stewardship_Status</th>\n",
       "      <th>Temperature</th>\n",
       "      <th>Humidity</th>\n",
       "      <th>Sky</th>\n",
       "      <th>Wind</th>\n",
       "      <th>Disturbance</th>\n",
       "      <th>Initial_Three_Min_Cnt</th>\n",
       "      <th>TaxonCode</th>\n",
       "      <th>Previously_Obs</th>\n",
       "    </tr>\n",
       "  </thead>\n",
       "  <tbody>\n",
       "    <tr>\n",
       "      <th>0</th>\n",
       "      <td>ANTI</td>\n",
       "      <td>ANTI 1</td>\n",
       "      <td>ANTI-0036</td>\n",
       "      <td>Forest</td>\n",
       "      <td>2018</td>\n",
       "      <td>2018-05-22</td>\n",
       "      <td>06:19:00</td>\n",
       "      <td>06:29:00</td>\n",
       "      <td>Elizabeth Oswald</td>\n",
       "      <td>1</td>\n",
       "      <td>0-2.5 min</td>\n",
       "      <td>Singing</td>\n",
       "      <td>&lt;= 50 Meters</td>\n",
       "      <td>False</td>\n",
       "      <td>Undetermined</td>\n",
       "      <td>Eastern Towhee</td>\n",
       "      <td>Pipilo erythrophthalmus</td>\n",
       "      <td>179276.0</td>\n",
       "      <td>83803.0</td>\n",
       "      <td>EATO</td>\n",
       "      <td>False</td>\n",
       "      <td>True</td>\n",
       "      <td>19.9</td>\n",
       "      <td>79.400002</td>\n",
       "      <td>Cloudy/Overcast</td>\n",
       "      <td>Calm (&lt; 1 mph) smoke rises vertically</td>\n",
       "      <td>No effect on count</td>\n",
       "      <td>True</td>\n",
       "      <td>NaN</td>\n",
       "      <td>NaN</td>\n",
       "    </tr>\n",
       "    <tr>\n",
       "      <th>1</th>\n",
       "      <td>ANTI</td>\n",
       "      <td>ANTI 1</td>\n",
       "      <td>ANTI-0036</td>\n",
       "      <td>Forest</td>\n",
       "      <td>2018</td>\n",
       "      <td>2018-05-22</td>\n",
       "      <td>06:19:00</td>\n",
       "      <td>06:29:00</td>\n",
       "      <td>Elizabeth Oswald</td>\n",
       "      <td>1</td>\n",
       "      <td>0-2.5 min</td>\n",
       "      <td>Calling</td>\n",
       "      <td>&lt;= 50 Meters</td>\n",
       "      <td>False</td>\n",
       "      <td>Undetermined</td>\n",
       "      <td>White-breasted Nuthatch</td>\n",
       "      <td>Sitta carolinensis</td>\n",
       "      <td>178775.0</td>\n",
       "      <td>90935.0</td>\n",
       "      <td>WBNU</td>\n",
       "      <td>False</td>\n",
       "      <td>False</td>\n",
       "      <td>19.9</td>\n",
       "      <td>79.400002</td>\n",
       "      <td>Cloudy/Overcast</td>\n",
       "      <td>Calm (&lt; 1 mph) smoke rises vertically</td>\n",
       "      <td>No effect on count</td>\n",
       "      <td>True</td>\n",
       "      <td>NaN</td>\n",
       "      <td>NaN</td>\n",
       "    </tr>\n",
       "    <tr>\n",
       "      <th>2</th>\n",
       "      <td>ANTI</td>\n",
       "      <td>ANTI 1</td>\n",
       "      <td>ANTI-0036</td>\n",
       "      <td>Forest</td>\n",
       "      <td>2018</td>\n",
       "      <td>2018-05-22</td>\n",
       "      <td>06:19:00</td>\n",
       "      <td>06:29:00</td>\n",
       "      <td>Elizabeth Oswald</td>\n",
       "      <td>1</td>\n",
       "      <td>2.5 - 5 min</td>\n",
       "      <td>Calling</td>\n",
       "      <td>50 - 100 Meters</td>\n",
       "      <td>False</td>\n",
       "      <td>Undetermined</td>\n",
       "      <td>Red-bellied Woodpecker</td>\n",
       "      <td>Melanerpes carolinus</td>\n",
       "      <td>178195.0</td>\n",
       "      <td>84865.0</td>\n",
       "      <td>RBWO</td>\n",
       "      <td>False</td>\n",
       "      <td>False</td>\n",
       "      <td>19.9</td>\n",
       "      <td>79.400002</td>\n",
       "      <td>Cloudy/Overcast</td>\n",
       "      <td>Calm (&lt; 1 mph) smoke rises vertically</td>\n",
       "      <td>No effect on count</td>\n",
       "      <td>False</td>\n",
       "      <td>NaN</td>\n",
       "      <td>NaN</td>\n",
       "    </tr>\n",
       "    <tr>\n",
       "      <th>3</th>\n",
       "      <td>ANTI</td>\n",
       "      <td>ANTI 1</td>\n",
       "      <td>ANTI-0036</td>\n",
       "      <td>Forest</td>\n",
       "      <td>2018</td>\n",
       "      <td>2018-05-22</td>\n",
       "      <td>06:19:00</td>\n",
       "      <td>06:29:00</td>\n",
       "      <td>Elizabeth Oswald</td>\n",
       "      <td>1</td>\n",
       "      <td>2.5 - 5 min</td>\n",
       "      <td>Singing</td>\n",
       "      <td>&lt;= 50 Meters</td>\n",
       "      <td>False</td>\n",
       "      <td>Undetermined</td>\n",
       "      <td>Orchard Oriole</td>\n",
       "      <td>Icterus spurius</td>\n",
       "      <td>179064.0</td>\n",
       "      <td>93634.0</td>\n",
       "      <td>OROR</td>\n",
       "      <td>False</td>\n",
       "      <td>False</td>\n",
       "      <td>19.9</td>\n",
       "      <td>79.400002</td>\n",
       "      <td>Cloudy/Overcast</td>\n",
       "      <td>Calm (&lt; 1 mph) smoke rises vertically</td>\n",
       "      <td>No effect on count</td>\n",
       "      <td>False</td>\n",
       "      <td>NaN</td>\n",
       "      <td>NaN</td>\n",
       "    </tr>\n",
       "    <tr>\n",
       "      <th>4</th>\n",
       "      <td>ANTI</td>\n",
       "      <td>ANTI 1</td>\n",
       "      <td>ANTI-0036</td>\n",
       "      <td>Forest</td>\n",
       "      <td>2018</td>\n",
       "      <td>2018-05-22</td>\n",
       "      <td>06:19:00</td>\n",
       "      <td>06:29:00</td>\n",
       "      <td>Elizabeth Oswald</td>\n",
       "      <td>1</td>\n",
       "      <td>2.5 - 5 min</td>\n",
       "      <td>Visualization</td>\n",
       "      <td>&lt;= 50 Meters</td>\n",
       "      <td>False</td>\n",
       "      <td>Undetermined</td>\n",
       "      <td>Northern Mockingbird</td>\n",
       "      <td>Mimus polyglottos</td>\n",
       "      <td>178620.0</td>\n",
       "      <td>88394.0</td>\n",
       "      <td>NOMO</td>\n",
       "      <td>False</td>\n",
       "      <td>False</td>\n",
       "      <td>19.9</td>\n",
       "      <td>79.400002</td>\n",
       "      <td>Cloudy/Overcast</td>\n",
       "      <td>Calm (&lt; 1 mph) smoke rises vertically</td>\n",
       "      <td>No effect on count</td>\n",
       "      <td>False</td>\n",
       "      <td>NaN</td>\n",
       "      <td>NaN</td>\n",
       "    </tr>\n",
       "  </tbody>\n",
       "</table>\n",
       "</div>"
      ],
      "text/plain": [
       "  Admin_Unit_Code Site_Name  Plot_Name Location_Type  Year        Date  \\\n",
       "0            ANTI    ANTI 1  ANTI-0036        Forest  2018  2018-05-22   \n",
       "1            ANTI    ANTI 1  ANTI-0036        Forest  2018  2018-05-22   \n",
       "2            ANTI    ANTI 1  ANTI-0036        Forest  2018  2018-05-22   \n",
       "3            ANTI    ANTI 1  ANTI-0036        Forest  2018  2018-05-22   \n",
       "4            ANTI    ANTI 1  ANTI-0036        Forest  2018  2018-05-22   \n",
       "\n",
       "  Start_Time  End_Time          Observer  Visit Interval_Length  \\\n",
       "0   06:19:00  06:29:00  Elizabeth Oswald      1       0-2.5 min   \n",
       "1   06:19:00  06:29:00  Elizabeth Oswald      1       0-2.5 min   \n",
       "2   06:19:00  06:29:00  Elizabeth Oswald      1     2.5 - 5 min   \n",
       "3   06:19:00  06:29:00  Elizabeth Oswald      1     2.5 - 5 min   \n",
       "4   06:19:00  06:29:00  Elizabeth Oswald      1     2.5 - 5 min   \n",
       "\n",
       "       ID_Method         Distance  Flyover_Observed           Sex  \\\n",
       "0        Singing     <= 50 Meters             False  Undetermined   \n",
       "1        Calling     <= 50 Meters             False  Undetermined   \n",
       "2        Calling  50 - 100 Meters             False  Undetermined   \n",
       "3        Singing     <= 50 Meters             False  Undetermined   \n",
       "4  Visualization     <= 50 Meters             False  Undetermined   \n",
       "\n",
       "               Common_Name          Scientific_Name  AcceptedTSN  \\\n",
       "0           Eastern Towhee  Pipilo erythrophthalmus     179276.0   \n",
       "1  White-breasted Nuthatch       Sitta carolinensis     178775.0   \n",
       "2   Red-bellied Woodpecker     Melanerpes carolinus     178195.0   \n",
       "3           Orchard Oriole          Icterus spurius     179064.0   \n",
       "4     Northern Mockingbird        Mimus polyglottos     178620.0   \n",
       "\n",
       "   NPSTaxonCode AOU_Code  PIF_Watchlist_Status  Regional_Stewardship_Status  \\\n",
       "0       83803.0     EATO                 False                         True   \n",
       "1       90935.0     WBNU                 False                        False   \n",
       "2       84865.0     RBWO                 False                        False   \n",
       "3       93634.0     OROR                 False                        False   \n",
       "4       88394.0     NOMO                 False                        False   \n",
       "\n",
       "   Temperature   Humidity              Sky  \\\n",
       "0         19.9  79.400002  Cloudy/Overcast   \n",
       "1         19.9  79.400002  Cloudy/Overcast   \n",
       "2         19.9  79.400002  Cloudy/Overcast   \n",
       "3         19.9  79.400002  Cloudy/Overcast   \n",
       "4         19.9  79.400002  Cloudy/Overcast   \n",
       "\n",
       "                                    Wind         Disturbance  \\\n",
       "0  Calm (< 1 mph) smoke rises vertically  No effect on count   \n",
       "1  Calm (< 1 mph) smoke rises vertically  No effect on count   \n",
       "2  Calm (< 1 mph) smoke rises vertically  No effect on count   \n",
       "3  Calm (< 1 mph) smoke rises vertically  No effect on count   \n",
       "4  Calm (< 1 mph) smoke rises vertically  No effect on count   \n",
       "\n",
       "   Initial_Three_Min_Cnt  TaxonCode Previously_Obs  \n",
       "0                   True        NaN            NaN  \n",
       "1                   True        NaN            NaN  \n",
       "2                  False        NaN            NaN  \n",
       "3                  False        NaN            NaN  \n",
       "4                  False        NaN            NaN  "
      ]
     },
     "execution_count": 108,
     "metadata": {},
     "output_type": "execute_result"
    }
   ],
   "source": [
    "combined_land_type = pd.concat([Forest,Grassland], axis=0, join='outer', ignore_index=True)\n",
    "combined_land_type.head()"
   ]
  },
  {
   "cell_type": "markdown",
   "id": "038caf7a",
   "metadata": {},
   "source": [
    "**Saving the cleaned DataSet:**"
   ]
  },
  {
   "cell_type": "code",
   "execution_count": 109,
   "id": "6872e172",
   "metadata": {},
   "outputs": [],
   "source": [
    "# Create the directory if it doesn't exist\n",
    "output_dir = 'C:/Users/dhars/Downloads/Dhass/codeing/GUVI/2. MainBoot/4.Project_Code/Project2/Bird_Species_Observation/DataSet/UnCleanDataSet'\n",
    "os.makedirs(output_dir, exist_ok=True)\n",
    "\n",
    "# Now save the file\n",
    "combined_land_type.to_csv(os.path.join(output_dir, 'Combined_UnCleanDataSet.csv'), index=False)"
   ]
  },
  {
   "cell_type": "markdown",
   "id": "93b98b9a",
   "metadata": {},
   "source": [
    "**Read Combined DataSet:**"
   ]
  },
  {
   "cell_type": "code",
   "execution_count": 110,
   "id": "f5a094d6",
   "metadata": {},
   "outputs": [
    {
     "name": "stdout",
     "output_type": "stream",
     "text": [
      "<class 'pandas.core.frame.DataFrame'>\n",
      "RangeIndex: 17077 entries, 0 to 17076\n",
      "Data columns (total 30 columns):\n",
      " #   Column                       Non-Null Count  Dtype  \n",
      "---  ------                       --------------  -----  \n",
      " 0   Admin_Unit_Code              17077 non-null  object \n",
      " 1   Site_Name                    8546 non-null   object \n",
      " 2   Plot_Name                    17077 non-null  object \n",
      " 3   Location_Type                17077 non-null  object \n",
      " 4   Year                         17077 non-null  int64  \n",
      " 5   Date                         17077 non-null  object \n",
      " 6   Start_Time                   17077 non-null  object \n",
      " 7   End_Time                     17077 non-null  object \n",
      " 8   Observer                     17077 non-null  object \n",
      " 9   Visit                        17077 non-null  int64  \n",
      " 10  Interval_Length              17077 non-null  object \n",
      " 11  ID_Method                    17077 non-null  object \n",
      " 12  Distance                     17077 non-null  object \n",
      " 13  Flyover_Observed             17077 non-null  bool   \n",
      " 14  Sex                          17077 non-null  object \n",
      " 15  Common_Name                  17077 non-null  object \n",
      " 16  Scientific_Name              17077 non-null  object \n",
      " 17  AcceptedTSN                  17077 non-null  float64\n",
      " 18  NPSTaxonCode                 8546 non-null   float64\n",
      " 19  AOU_Code                     17077 non-null  object \n",
      " 20  PIF_Watchlist_Status         17077 non-null  bool   \n",
      " 21  Regional_Stewardship_Status  17077 non-null  bool   \n",
      " 22  Temperature                  17077 non-null  float64\n",
      " 23  Humidity                     17077 non-null  float64\n",
      " 24  Sky                          17077 non-null  object \n",
      " 25  Wind                         17077 non-null  object \n",
      " 26  Disturbance                  17077 non-null  object \n",
      " 27  Initial_Three_Min_Cnt        17077 non-null  bool   \n",
      " 28  TaxonCode                    8531 non-null   float64\n",
      " 29  Previously_Obs               8531 non-null   object \n",
      "dtypes: bool(4), float64(5), int64(2), object(19)\n",
      "memory usage: 3.5+ MB\n"
     ]
    }
   ],
   "source": [
    "UnCleaned_Combined_land_type=pd.read_csv(\"C:/Users/dhars/Downloads/Dhass/codeing/GUVI/2. MainBoot/4.Project_Code/Project2/Bird_Species_Observation/DataSet/UnCleanDataSet/Combined_UnCleanDataSet.csv\")\n",
    "UnCleaned_Combined_land_type.info()"
   ]
  },
  {
   "cell_type": "markdown",
   "id": "65795f01",
   "metadata": {},
   "source": [
    "+  Verifying DataType for Date & timestamp Column:"
   ]
  },
  {
   "cell_type": "code",
   "execution_count": 111,
   "id": "9ac6e20e",
   "metadata": {},
   "outputs": [
    {
     "name": "stdout",
     "output_type": "stream",
     "text": [
      "<class 'pandas.core.frame.DataFrame'>\n",
      "RangeIndex: 17077 entries, 0 to 17076\n",
      "Data columns (total 3 columns):\n",
      " #   Column      Non-Null Count  Dtype \n",
      "---  ------      --------------  ----- \n",
      " 0   Start_Time  17077 non-null  object\n",
      " 1   End_Time    17077 non-null  object\n",
      " 2   Date        17077 non-null  object\n",
      "dtypes: object(3)\n",
      "memory usage: 400.4+ KB\n"
     ]
    }
   ],
   "source": [
    "UnCleaned_Combined_land_type[['Start_Time', 'End_Time','Date']].info()"
   ]
  },
  {
   "cell_type": "markdown",
   "id": "dbcfdac8",
   "metadata": {},
   "source": [
    "- Doing the datatype conversion Date and Timestamp Column:"
   ]
  },
  {
   "cell_type": "code",
   "execution_count": 112,
   "id": "67e2f8fd",
   "metadata": {},
   "outputs": [
    {
     "data": {
      "text/html": [
       "<div>\n",
       "<style scoped>\n",
       "    .dataframe tbody tr th:only-of-type {\n",
       "        vertical-align: middle;\n",
       "    }\n",
       "\n",
       "    .dataframe tbody tr th {\n",
       "        vertical-align: top;\n",
       "    }\n",
       "\n",
       "    .dataframe thead th {\n",
       "        text-align: right;\n",
       "    }\n",
       "</style>\n",
       "<table border=\"1\" class=\"dataframe\">\n",
       "  <thead>\n",
       "    <tr style=\"text-align: right;\">\n",
       "      <th></th>\n",
       "      <th>Admin_Unit_Code</th>\n",
       "      <th>Site_Name</th>\n",
       "      <th>Plot_Name</th>\n",
       "      <th>Location_Type</th>\n",
       "      <th>Year</th>\n",
       "      <th>Date</th>\n",
       "      <th>Start_Time</th>\n",
       "      <th>End_Time</th>\n",
       "      <th>Observer</th>\n",
       "      <th>Visit</th>\n",
       "      <th>Interval_Length</th>\n",
       "      <th>ID_Method</th>\n",
       "      <th>Distance</th>\n",
       "      <th>Flyover_Observed</th>\n",
       "      <th>Sex</th>\n",
       "      <th>Common_Name</th>\n",
       "      <th>Scientific_Name</th>\n",
       "      <th>AcceptedTSN</th>\n",
       "      <th>NPSTaxonCode</th>\n",
       "      <th>AOU_Code</th>\n",
       "      <th>PIF_Watchlist_Status</th>\n",
       "      <th>Regional_Stewardship_Status</th>\n",
       "      <th>Temperature</th>\n",
       "      <th>Humidity</th>\n",
       "      <th>Sky</th>\n",
       "      <th>Wind</th>\n",
       "      <th>Disturbance</th>\n",
       "      <th>Initial_Three_Min_Cnt</th>\n",
       "      <th>TaxonCode</th>\n",
       "      <th>Previously_Obs</th>\n",
       "      <th>Start_Timestamp</th>\n",
       "      <th>End_Timestamp</th>\n",
       "      <th>Start_Hour</th>\n",
       "      <th>End_Hour</th>\n",
       "      <th>Start_Time_Only</th>\n",
       "      <th>End_Time_Only</th>\n",
       "      <th>Duration</th>\n",
       "      <th>Duration_Hours</th>\n",
       "    </tr>\n",
       "  </thead>\n",
       "  <tbody>\n",
       "    <tr>\n",
       "      <th>0</th>\n",
       "      <td>ANTI</td>\n",
       "      <td>ANTI 1</td>\n",
       "      <td>ANTI-0036</td>\n",
       "      <td>Forest</td>\n",
       "      <td>2018</td>\n",
       "      <td>2018-05-22</td>\n",
       "      <td>06:19:00</td>\n",
       "      <td>06:29:00</td>\n",
       "      <td>Elizabeth Oswald</td>\n",
       "      <td>1</td>\n",
       "      <td>0-2.5 min</td>\n",
       "      <td>Singing</td>\n",
       "      <td>&lt;= 50 Meters</td>\n",
       "      <td>False</td>\n",
       "      <td>Undetermined</td>\n",
       "      <td>Eastern Towhee</td>\n",
       "      <td>Pipilo erythrophthalmus</td>\n",
       "      <td>179276.0</td>\n",
       "      <td>83803.0</td>\n",
       "      <td>EATO</td>\n",
       "      <td>False</td>\n",
       "      <td>True</td>\n",
       "      <td>19.9</td>\n",
       "      <td>79.400002</td>\n",
       "      <td>Cloudy/Overcast</td>\n",
       "      <td>Calm (&lt; 1 mph) smoke rises vertically</td>\n",
       "      <td>No effect on count</td>\n",
       "      <td>True</td>\n",
       "      <td>NaN</td>\n",
       "      <td>NaN</td>\n",
       "      <td>2018-05-22 06:19:00</td>\n",
       "      <td>2018-05-22 06:29:00</td>\n",
       "      <td>6</td>\n",
       "      <td>6</td>\n",
       "      <td>06:19:00</td>\n",
       "      <td>06:29:00</td>\n",
       "      <td>0 days 00:10:00</td>\n",
       "      <td>0.166667</td>\n",
       "    </tr>\n",
       "    <tr>\n",
       "      <th>1</th>\n",
       "      <td>ANTI</td>\n",
       "      <td>ANTI 1</td>\n",
       "      <td>ANTI-0036</td>\n",
       "      <td>Forest</td>\n",
       "      <td>2018</td>\n",
       "      <td>2018-05-22</td>\n",
       "      <td>06:19:00</td>\n",
       "      <td>06:29:00</td>\n",
       "      <td>Elizabeth Oswald</td>\n",
       "      <td>1</td>\n",
       "      <td>0-2.5 min</td>\n",
       "      <td>Calling</td>\n",
       "      <td>&lt;= 50 Meters</td>\n",
       "      <td>False</td>\n",
       "      <td>Undetermined</td>\n",
       "      <td>White-breasted Nuthatch</td>\n",
       "      <td>Sitta carolinensis</td>\n",
       "      <td>178775.0</td>\n",
       "      <td>90935.0</td>\n",
       "      <td>WBNU</td>\n",
       "      <td>False</td>\n",
       "      <td>False</td>\n",
       "      <td>19.9</td>\n",
       "      <td>79.400002</td>\n",
       "      <td>Cloudy/Overcast</td>\n",
       "      <td>Calm (&lt; 1 mph) smoke rises vertically</td>\n",
       "      <td>No effect on count</td>\n",
       "      <td>True</td>\n",
       "      <td>NaN</td>\n",
       "      <td>NaN</td>\n",
       "      <td>2018-05-22 06:19:00</td>\n",
       "      <td>2018-05-22 06:29:00</td>\n",
       "      <td>6</td>\n",
       "      <td>6</td>\n",
       "      <td>06:19:00</td>\n",
       "      <td>06:29:00</td>\n",
       "      <td>0 days 00:10:00</td>\n",
       "      <td>0.166667</td>\n",
       "    </tr>\n",
       "    <tr>\n",
       "      <th>2</th>\n",
       "      <td>ANTI</td>\n",
       "      <td>ANTI 1</td>\n",
       "      <td>ANTI-0036</td>\n",
       "      <td>Forest</td>\n",
       "      <td>2018</td>\n",
       "      <td>2018-05-22</td>\n",
       "      <td>06:19:00</td>\n",
       "      <td>06:29:00</td>\n",
       "      <td>Elizabeth Oswald</td>\n",
       "      <td>1</td>\n",
       "      <td>2.5 - 5 min</td>\n",
       "      <td>Calling</td>\n",
       "      <td>50 - 100 Meters</td>\n",
       "      <td>False</td>\n",
       "      <td>Undetermined</td>\n",
       "      <td>Red-bellied Woodpecker</td>\n",
       "      <td>Melanerpes carolinus</td>\n",
       "      <td>178195.0</td>\n",
       "      <td>84865.0</td>\n",
       "      <td>RBWO</td>\n",
       "      <td>False</td>\n",
       "      <td>False</td>\n",
       "      <td>19.9</td>\n",
       "      <td>79.400002</td>\n",
       "      <td>Cloudy/Overcast</td>\n",
       "      <td>Calm (&lt; 1 mph) smoke rises vertically</td>\n",
       "      <td>No effect on count</td>\n",
       "      <td>False</td>\n",
       "      <td>NaN</td>\n",
       "      <td>NaN</td>\n",
       "      <td>2018-05-22 06:19:00</td>\n",
       "      <td>2018-05-22 06:29:00</td>\n",
       "      <td>6</td>\n",
       "      <td>6</td>\n",
       "      <td>06:19:00</td>\n",
       "      <td>06:29:00</td>\n",
       "      <td>0 days 00:10:00</td>\n",
       "      <td>0.166667</td>\n",
       "    </tr>\n",
       "    <tr>\n",
       "      <th>3</th>\n",
       "      <td>ANTI</td>\n",
       "      <td>ANTI 1</td>\n",
       "      <td>ANTI-0036</td>\n",
       "      <td>Forest</td>\n",
       "      <td>2018</td>\n",
       "      <td>2018-05-22</td>\n",
       "      <td>06:19:00</td>\n",
       "      <td>06:29:00</td>\n",
       "      <td>Elizabeth Oswald</td>\n",
       "      <td>1</td>\n",
       "      <td>2.5 - 5 min</td>\n",
       "      <td>Singing</td>\n",
       "      <td>&lt;= 50 Meters</td>\n",
       "      <td>False</td>\n",
       "      <td>Undetermined</td>\n",
       "      <td>Orchard Oriole</td>\n",
       "      <td>Icterus spurius</td>\n",
       "      <td>179064.0</td>\n",
       "      <td>93634.0</td>\n",
       "      <td>OROR</td>\n",
       "      <td>False</td>\n",
       "      <td>False</td>\n",
       "      <td>19.9</td>\n",
       "      <td>79.400002</td>\n",
       "      <td>Cloudy/Overcast</td>\n",
       "      <td>Calm (&lt; 1 mph) smoke rises vertically</td>\n",
       "      <td>No effect on count</td>\n",
       "      <td>False</td>\n",
       "      <td>NaN</td>\n",
       "      <td>NaN</td>\n",
       "      <td>2018-05-22 06:19:00</td>\n",
       "      <td>2018-05-22 06:29:00</td>\n",
       "      <td>6</td>\n",
       "      <td>6</td>\n",
       "      <td>06:19:00</td>\n",
       "      <td>06:29:00</td>\n",
       "      <td>0 days 00:10:00</td>\n",
       "      <td>0.166667</td>\n",
       "    </tr>\n",
       "    <tr>\n",
       "      <th>4</th>\n",
       "      <td>ANTI</td>\n",
       "      <td>ANTI 1</td>\n",
       "      <td>ANTI-0036</td>\n",
       "      <td>Forest</td>\n",
       "      <td>2018</td>\n",
       "      <td>2018-05-22</td>\n",
       "      <td>06:19:00</td>\n",
       "      <td>06:29:00</td>\n",
       "      <td>Elizabeth Oswald</td>\n",
       "      <td>1</td>\n",
       "      <td>2.5 - 5 min</td>\n",
       "      <td>Visualization</td>\n",
       "      <td>&lt;= 50 Meters</td>\n",
       "      <td>False</td>\n",
       "      <td>Undetermined</td>\n",
       "      <td>Northern Mockingbird</td>\n",
       "      <td>Mimus polyglottos</td>\n",
       "      <td>178620.0</td>\n",
       "      <td>88394.0</td>\n",
       "      <td>NOMO</td>\n",
       "      <td>False</td>\n",
       "      <td>False</td>\n",
       "      <td>19.9</td>\n",
       "      <td>79.400002</td>\n",
       "      <td>Cloudy/Overcast</td>\n",
       "      <td>Calm (&lt; 1 mph) smoke rises vertically</td>\n",
       "      <td>No effect on count</td>\n",
       "      <td>False</td>\n",
       "      <td>NaN</td>\n",
       "      <td>NaN</td>\n",
       "      <td>2018-05-22 06:19:00</td>\n",
       "      <td>2018-05-22 06:29:00</td>\n",
       "      <td>6</td>\n",
       "      <td>6</td>\n",
       "      <td>06:19:00</td>\n",
       "      <td>06:29:00</td>\n",
       "      <td>0 days 00:10:00</td>\n",
       "      <td>0.166667</td>\n",
       "    </tr>\n",
       "  </tbody>\n",
       "</table>\n",
       "</div>"
      ],
      "text/plain": [
       "  Admin_Unit_Code Site_Name  Plot_Name Location_Type  Year       Date  \\\n",
       "0            ANTI    ANTI 1  ANTI-0036        Forest  2018 2018-05-22   \n",
       "1            ANTI    ANTI 1  ANTI-0036        Forest  2018 2018-05-22   \n",
       "2            ANTI    ANTI 1  ANTI-0036        Forest  2018 2018-05-22   \n",
       "3            ANTI    ANTI 1  ANTI-0036        Forest  2018 2018-05-22   \n",
       "4            ANTI    ANTI 1  ANTI-0036        Forest  2018 2018-05-22   \n",
       "\n",
       "  Start_Time  End_Time          Observer  Visit Interval_Length  \\\n",
       "0   06:19:00  06:29:00  Elizabeth Oswald      1       0-2.5 min   \n",
       "1   06:19:00  06:29:00  Elizabeth Oswald      1       0-2.5 min   \n",
       "2   06:19:00  06:29:00  Elizabeth Oswald      1     2.5 - 5 min   \n",
       "3   06:19:00  06:29:00  Elizabeth Oswald      1     2.5 - 5 min   \n",
       "4   06:19:00  06:29:00  Elizabeth Oswald      1     2.5 - 5 min   \n",
       "\n",
       "       ID_Method         Distance  Flyover_Observed           Sex  \\\n",
       "0        Singing     <= 50 Meters             False  Undetermined   \n",
       "1        Calling     <= 50 Meters             False  Undetermined   \n",
       "2        Calling  50 - 100 Meters             False  Undetermined   \n",
       "3        Singing     <= 50 Meters             False  Undetermined   \n",
       "4  Visualization     <= 50 Meters             False  Undetermined   \n",
       "\n",
       "               Common_Name          Scientific_Name  AcceptedTSN  \\\n",
       "0           Eastern Towhee  Pipilo erythrophthalmus     179276.0   \n",
       "1  White-breasted Nuthatch       Sitta carolinensis     178775.0   \n",
       "2   Red-bellied Woodpecker     Melanerpes carolinus     178195.0   \n",
       "3           Orchard Oriole          Icterus spurius     179064.0   \n",
       "4     Northern Mockingbird        Mimus polyglottos     178620.0   \n",
       "\n",
       "   NPSTaxonCode AOU_Code  PIF_Watchlist_Status  Regional_Stewardship_Status  \\\n",
       "0       83803.0     EATO                 False                         True   \n",
       "1       90935.0     WBNU                 False                        False   \n",
       "2       84865.0     RBWO                 False                        False   \n",
       "3       93634.0     OROR                 False                        False   \n",
       "4       88394.0     NOMO                 False                        False   \n",
       "\n",
       "   Temperature   Humidity              Sky  \\\n",
       "0         19.9  79.400002  Cloudy/Overcast   \n",
       "1         19.9  79.400002  Cloudy/Overcast   \n",
       "2         19.9  79.400002  Cloudy/Overcast   \n",
       "3         19.9  79.400002  Cloudy/Overcast   \n",
       "4         19.9  79.400002  Cloudy/Overcast   \n",
       "\n",
       "                                    Wind         Disturbance  \\\n",
       "0  Calm (< 1 mph) smoke rises vertically  No effect on count   \n",
       "1  Calm (< 1 mph) smoke rises vertically  No effect on count   \n",
       "2  Calm (< 1 mph) smoke rises vertically  No effect on count   \n",
       "3  Calm (< 1 mph) smoke rises vertically  No effect on count   \n",
       "4  Calm (< 1 mph) smoke rises vertically  No effect on count   \n",
       "\n",
       "   Initial_Three_Min_Cnt  TaxonCode Previously_Obs     Start_Timestamp  \\\n",
       "0                   True        NaN            NaN 2018-05-22 06:19:00   \n",
       "1                   True        NaN            NaN 2018-05-22 06:19:00   \n",
       "2                  False        NaN            NaN 2018-05-22 06:19:00   \n",
       "3                  False        NaN            NaN 2018-05-22 06:19:00   \n",
       "4                  False        NaN            NaN 2018-05-22 06:19:00   \n",
       "\n",
       "        End_Timestamp  Start_Hour  End_Hour Start_Time_Only End_Time_Only  \\\n",
       "0 2018-05-22 06:29:00           6         6        06:19:00      06:29:00   \n",
       "1 2018-05-22 06:29:00           6         6        06:19:00      06:29:00   \n",
       "2 2018-05-22 06:29:00           6         6        06:19:00      06:29:00   \n",
       "3 2018-05-22 06:29:00           6         6        06:19:00      06:29:00   \n",
       "4 2018-05-22 06:29:00           6         6        06:19:00      06:29:00   \n",
       "\n",
       "         Duration  Duration_Hours  \n",
       "0 0 days 00:10:00        0.166667  \n",
       "1 0 days 00:10:00        0.166667  \n",
       "2 0 days 00:10:00        0.166667  \n",
       "3 0 days 00:10:00        0.166667  \n",
       "4 0 days 00:10:00        0.166667  "
      ]
     },
     "execution_count": 112,
     "metadata": {},
     "output_type": "execute_result"
    }
   ],
   "source": [
    "# Step 1: Convert 'Date' to datetime\n",
    "UnCleaned_Combined_land_type['Date'] = pd.to_datetime(UnCleaned_Combined_land_type['Date'], errors='coerce')\n",
    "\n",
    "# Step 2: Convert 'Start_Time' and 'End_Time' to time\n",
    "UnCleaned_Combined_land_type['Start_Time'] = pd.to_datetime(UnCleaned_Combined_land_type['Start_Time'], format='%H:%M:%S', errors='coerce').dt.time\n",
    "UnCleaned_Combined_land_type['End_Time'] = pd.to_datetime(UnCleaned_Combined_land_type['End_Time'], format='%H:%M:%S', errors='coerce').dt.time\n",
    "\n",
    "# Step 3: Combine 'Date' and 'Start_Time' / 'End_Time' into timestamps\n",
    "UnCleaned_Combined_land_type['Start_Timestamp'] = pd.to_datetime(UnCleaned_Combined_land_type['Date'].astype(str) + ' ' + UnCleaned_Combined_land_type['Start_Time'].astype(str), errors='coerce')\n",
    "UnCleaned_Combined_land_type['End_Timestamp'] = pd.to_datetime(UnCleaned_Combined_land_type['Date'].astype(str) + ' ' + UnCleaned_Combined_land_type['End_Time'].astype(str), errors='coerce')\n",
    "\n",
    "# Step 4: Extract hours\n",
    "UnCleaned_Combined_land_type['Start_Hour'] = UnCleaned_Combined_land_type['Start_Timestamp'].dt.hour\n",
    "UnCleaned_Combined_land_type['End_Hour'] = UnCleaned_Combined_land_type['End_Timestamp'].dt.hour\n",
    "\n",
    "#Step 5: extract just the time portion (like 06:19:00) from your Start_Timestamp column\n",
    "UnCleaned_Combined_land_type['Start_Time_Only'] = UnCleaned_Combined_land_type['Start_Timestamp'].dt.strftime('%H:%M:%S')\n",
    "UnCleaned_Combined_land_type['End_Time_Only'] = UnCleaned_Combined_land_type['End_Timestamp'].dt.strftime('%H:%M:%S')\n",
    "\n",
    "# Subtract timestamps to get duration\n",
    "UnCleaned_Combined_land_type['Duration'] = UnCleaned_Combined_land_type['End_Timestamp'] - UnCleaned_Combined_land_type['Start_Timestamp']\n",
    "\n",
    "# Convert to hours as float\n",
    "UnCleaned_Combined_land_type['Duration_Hours'] = UnCleaned_Combined_land_type['Duration'].dt.total_seconds() / 3600\n",
    "\n",
    "UnCleaned_Combined_land_type.head()"
   ]
  },
  {
   "cell_type": "code",
   "execution_count": 113,
   "id": "ab99a73b",
   "metadata": {},
   "outputs": [
    {
     "name": "stdout",
     "output_type": "stream",
     "text": [
      "<class 'pandas.core.frame.DataFrame'>\n",
      "RangeIndex: 17077 entries, 0 to 17076\n",
      "Data columns (total 11 columns):\n",
      " #   Column           Non-Null Count  Dtype          \n",
      "---  ------           --------------  -----          \n",
      " 0   Start_Time       17077 non-null  object         \n",
      " 1   End_Time         17077 non-null  object         \n",
      " 2   Date             17077 non-null  datetime64[ns] \n",
      " 3   Start_Timestamp  17077 non-null  datetime64[ns] \n",
      " 4   End_Timestamp    17077 non-null  datetime64[ns] \n",
      " 5   Duration         17077 non-null  timedelta64[ns]\n",
      " 6   Duration_Hours   17077 non-null  float64        \n",
      " 7   Start_Hour       17077 non-null  int32          \n",
      " 8   End_Hour         17077 non-null  int32          \n",
      " 9   Start_Time_Only  17077 non-null  object         \n",
      " 10  End_Time_Only    17077 non-null  object         \n",
      "dtypes: datetime64[ns](3), float64(1), int32(2), object(4), timedelta64[ns](1)\n",
      "memory usage: 1.3+ MB\n"
     ]
    }
   ],
   "source": [
    "UnCleaned_Combined_land_type[['Start_Time', 'End_Time','Date','Start_Timestamp','End_Timestamp','Duration','Duration_Hours',\n",
    "        'Start_Hour','End_Hour','Start_Time_Only','End_Time_Only']].info()"
   ]
  },
  {
   "cell_type": "markdown",
   "id": "09f39c4f",
   "metadata": {},
   "source": [
    "- Splitting Month, Date, WeekDay Names, Weeks:"
   ]
  },
  {
   "cell_type": "code",
   "execution_count": 114,
   "id": "ca5757d1",
   "metadata": {},
   "outputs": [
    {
     "data": {
      "text/html": [
       "<div>\n",
       "<style scoped>\n",
       "    .dataframe tbody tr th:only-of-type {\n",
       "        vertical-align: middle;\n",
       "    }\n",
       "\n",
       "    .dataframe tbody tr th {\n",
       "        vertical-align: top;\n",
       "    }\n",
       "\n",
       "    .dataframe thead th {\n",
       "        text-align: right;\n",
       "    }\n",
       "</style>\n",
       "<table border=\"1\" class=\"dataframe\">\n",
       "  <thead>\n",
       "    <tr style=\"text-align: right;\">\n",
       "      <th></th>\n",
       "      <th>Admin_Unit_Code</th>\n",
       "      <th>Site_Name</th>\n",
       "      <th>Plot_Name</th>\n",
       "      <th>Location_Type</th>\n",
       "      <th>Year</th>\n",
       "      <th>Date</th>\n",
       "      <th>Start_Time</th>\n",
       "      <th>End_Time</th>\n",
       "      <th>Observer</th>\n",
       "      <th>Visit</th>\n",
       "      <th>Interval_Length</th>\n",
       "      <th>ID_Method</th>\n",
       "      <th>Distance</th>\n",
       "      <th>Flyover_Observed</th>\n",
       "      <th>Sex</th>\n",
       "      <th>Common_Name</th>\n",
       "      <th>Scientific_Name</th>\n",
       "      <th>AcceptedTSN</th>\n",
       "      <th>NPSTaxonCode</th>\n",
       "      <th>AOU_Code</th>\n",
       "      <th>PIF_Watchlist_Status</th>\n",
       "      <th>Regional_Stewardship_Status</th>\n",
       "      <th>Temperature</th>\n",
       "      <th>Humidity</th>\n",
       "      <th>Sky</th>\n",
       "      <th>Wind</th>\n",
       "      <th>Disturbance</th>\n",
       "      <th>Initial_Three_Min_Cnt</th>\n",
       "      <th>TaxonCode</th>\n",
       "      <th>Previously_Obs</th>\n",
       "      <th>Start_Timestamp</th>\n",
       "      <th>End_Timestamp</th>\n",
       "      <th>Start_Hour</th>\n",
       "      <th>End_Hour</th>\n",
       "      <th>Start_Time_Only</th>\n",
       "      <th>End_Time_Only</th>\n",
       "      <th>Duration</th>\n",
       "      <th>Duration_Hours</th>\n",
       "      <th>Month</th>\n",
       "      <th>Dates</th>\n",
       "      <th>WeekDay_Name</th>\n",
       "      <th>iso</th>\n",
       "    </tr>\n",
       "  </thead>\n",
       "  <tbody>\n",
       "    <tr>\n",
       "      <th>0</th>\n",
       "      <td>ANTI</td>\n",
       "      <td>ANTI 1</td>\n",
       "      <td>ANTI-0036</td>\n",
       "      <td>Forest</td>\n",
       "      <td>2018</td>\n",
       "      <td>2018-05-22</td>\n",
       "      <td>06:19:00</td>\n",
       "      <td>06:29:00</td>\n",
       "      <td>Elizabeth Oswald</td>\n",
       "      <td>1</td>\n",
       "      <td>0-2.5 min</td>\n",
       "      <td>Singing</td>\n",
       "      <td>&lt;= 50 Meters</td>\n",
       "      <td>False</td>\n",
       "      <td>Undetermined</td>\n",
       "      <td>Eastern Towhee</td>\n",
       "      <td>Pipilo erythrophthalmus</td>\n",
       "      <td>179276.0</td>\n",
       "      <td>83803.0</td>\n",
       "      <td>EATO</td>\n",
       "      <td>False</td>\n",
       "      <td>True</td>\n",
       "      <td>19.9</td>\n",
       "      <td>79.400002</td>\n",
       "      <td>Cloudy/Overcast</td>\n",
       "      <td>Calm (&lt; 1 mph) smoke rises vertically</td>\n",
       "      <td>No effect on count</td>\n",
       "      <td>True</td>\n",
       "      <td>NaN</td>\n",
       "      <td>NaN</td>\n",
       "      <td>2018-05-22 06:19:00</td>\n",
       "      <td>2018-05-22 06:29:00</td>\n",
       "      <td>6</td>\n",
       "      <td>6</td>\n",
       "      <td>06:19:00</td>\n",
       "      <td>06:29:00</td>\n",
       "      <td>0 days 00:10:00</td>\n",
       "      <td>0.166667</td>\n",
       "      <td>5</td>\n",
       "      <td>22</td>\n",
       "      <td>Tuesday</td>\n",
       "      <td>21</td>\n",
       "    </tr>\n",
       "    <tr>\n",
       "      <th>1</th>\n",
       "      <td>ANTI</td>\n",
       "      <td>ANTI 1</td>\n",
       "      <td>ANTI-0036</td>\n",
       "      <td>Forest</td>\n",
       "      <td>2018</td>\n",
       "      <td>2018-05-22</td>\n",
       "      <td>06:19:00</td>\n",
       "      <td>06:29:00</td>\n",
       "      <td>Elizabeth Oswald</td>\n",
       "      <td>1</td>\n",
       "      <td>0-2.5 min</td>\n",
       "      <td>Calling</td>\n",
       "      <td>&lt;= 50 Meters</td>\n",
       "      <td>False</td>\n",
       "      <td>Undetermined</td>\n",
       "      <td>White-breasted Nuthatch</td>\n",
       "      <td>Sitta carolinensis</td>\n",
       "      <td>178775.0</td>\n",
       "      <td>90935.0</td>\n",
       "      <td>WBNU</td>\n",
       "      <td>False</td>\n",
       "      <td>False</td>\n",
       "      <td>19.9</td>\n",
       "      <td>79.400002</td>\n",
       "      <td>Cloudy/Overcast</td>\n",
       "      <td>Calm (&lt; 1 mph) smoke rises vertically</td>\n",
       "      <td>No effect on count</td>\n",
       "      <td>True</td>\n",
       "      <td>NaN</td>\n",
       "      <td>NaN</td>\n",
       "      <td>2018-05-22 06:19:00</td>\n",
       "      <td>2018-05-22 06:29:00</td>\n",
       "      <td>6</td>\n",
       "      <td>6</td>\n",
       "      <td>06:19:00</td>\n",
       "      <td>06:29:00</td>\n",
       "      <td>0 days 00:10:00</td>\n",
       "      <td>0.166667</td>\n",
       "      <td>5</td>\n",
       "      <td>22</td>\n",
       "      <td>Tuesday</td>\n",
       "      <td>21</td>\n",
       "    </tr>\n",
       "    <tr>\n",
       "      <th>2</th>\n",
       "      <td>ANTI</td>\n",
       "      <td>ANTI 1</td>\n",
       "      <td>ANTI-0036</td>\n",
       "      <td>Forest</td>\n",
       "      <td>2018</td>\n",
       "      <td>2018-05-22</td>\n",
       "      <td>06:19:00</td>\n",
       "      <td>06:29:00</td>\n",
       "      <td>Elizabeth Oswald</td>\n",
       "      <td>1</td>\n",
       "      <td>2.5 - 5 min</td>\n",
       "      <td>Calling</td>\n",
       "      <td>50 - 100 Meters</td>\n",
       "      <td>False</td>\n",
       "      <td>Undetermined</td>\n",
       "      <td>Red-bellied Woodpecker</td>\n",
       "      <td>Melanerpes carolinus</td>\n",
       "      <td>178195.0</td>\n",
       "      <td>84865.0</td>\n",
       "      <td>RBWO</td>\n",
       "      <td>False</td>\n",
       "      <td>False</td>\n",
       "      <td>19.9</td>\n",
       "      <td>79.400002</td>\n",
       "      <td>Cloudy/Overcast</td>\n",
       "      <td>Calm (&lt; 1 mph) smoke rises vertically</td>\n",
       "      <td>No effect on count</td>\n",
       "      <td>False</td>\n",
       "      <td>NaN</td>\n",
       "      <td>NaN</td>\n",
       "      <td>2018-05-22 06:19:00</td>\n",
       "      <td>2018-05-22 06:29:00</td>\n",
       "      <td>6</td>\n",
       "      <td>6</td>\n",
       "      <td>06:19:00</td>\n",
       "      <td>06:29:00</td>\n",
       "      <td>0 days 00:10:00</td>\n",
       "      <td>0.166667</td>\n",
       "      <td>5</td>\n",
       "      <td>22</td>\n",
       "      <td>Tuesday</td>\n",
       "      <td>21</td>\n",
       "    </tr>\n",
       "    <tr>\n",
       "      <th>3</th>\n",
       "      <td>ANTI</td>\n",
       "      <td>ANTI 1</td>\n",
       "      <td>ANTI-0036</td>\n",
       "      <td>Forest</td>\n",
       "      <td>2018</td>\n",
       "      <td>2018-05-22</td>\n",
       "      <td>06:19:00</td>\n",
       "      <td>06:29:00</td>\n",
       "      <td>Elizabeth Oswald</td>\n",
       "      <td>1</td>\n",
       "      <td>2.5 - 5 min</td>\n",
       "      <td>Singing</td>\n",
       "      <td>&lt;= 50 Meters</td>\n",
       "      <td>False</td>\n",
       "      <td>Undetermined</td>\n",
       "      <td>Orchard Oriole</td>\n",
       "      <td>Icterus spurius</td>\n",
       "      <td>179064.0</td>\n",
       "      <td>93634.0</td>\n",
       "      <td>OROR</td>\n",
       "      <td>False</td>\n",
       "      <td>False</td>\n",
       "      <td>19.9</td>\n",
       "      <td>79.400002</td>\n",
       "      <td>Cloudy/Overcast</td>\n",
       "      <td>Calm (&lt; 1 mph) smoke rises vertically</td>\n",
       "      <td>No effect on count</td>\n",
       "      <td>False</td>\n",
       "      <td>NaN</td>\n",
       "      <td>NaN</td>\n",
       "      <td>2018-05-22 06:19:00</td>\n",
       "      <td>2018-05-22 06:29:00</td>\n",
       "      <td>6</td>\n",
       "      <td>6</td>\n",
       "      <td>06:19:00</td>\n",
       "      <td>06:29:00</td>\n",
       "      <td>0 days 00:10:00</td>\n",
       "      <td>0.166667</td>\n",
       "      <td>5</td>\n",
       "      <td>22</td>\n",
       "      <td>Tuesday</td>\n",
       "      <td>21</td>\n",
       "    </tr>\n",
       "    <tr>\n",
       "      <th>4</th>\n",
       "      <td>ANTI</td>\n",
       "      <td>ANTI 1</td>\n",
       "      <td>ANTI-0036</td>\n",
       "      <td>Forest</td>\n",
       "      <td>2018</td>\n",
       "      <td>2018-05-22</td>\n",
       "      <td>06:19:00</td>\n",
       "      <td>06:29:00</td>\n",
       "      <td>Elizabeth Oswald</td>\n",
       "      <td>1</td>\n",
       "      <td>2.5 - 5 min</td>\n",
       "      <td>Visualization</td>\n",
       "      <td>&lt;= 50 Meters</td>\n",
       "      <td>False</td>\n",
       "      <td>Undetermined</td>\n",
       "      <td>Northern Mockingbird</td>\n",
       "      <td>Mimus polyglottos</td>\n",
       "      <td>178620.0</td>\n",
       "      <td>88394.0</td>\n",
       "      <td>NOMO</td>\n",
       "      <td>False</td>\n",
       "      <td>False</td>\n",
       "      <td>19.9</td>\n",
       "      <td>79.400002</td>\n",
       "      <td>Cloudy/Overcast</td>\n",
       "      <td>Calm (&lt; 1 mph) smoke rises vertically</td>\n",
       "      <td>No effect on count</td>\n",
       "      <td>False</td>\n",
       "      <td>NaN</td>\n",
       "      <td>NaN</td>\n",
       "      <td>2018-05-22 06:19:00</td>\n",
       "      <td>2018-05-22 06:29:00</td>\n",
       "      <td>6</td>\n",
       "      <td>6</td>\n",
       "      <td>06:19:00</td>\n",
       "      <td>06:29:00</td>\n",
       "      <td>0 days 00:10:00</td>\n",
       "      <td>0.166667</td>\n",
       "      <td>5</td>\n",
       "      <td>22</td>\n",
       "      <td>Tuesday</td>\n",
       "      <td>21</td>\n",
       "    </tr>\n",
       "  </tbody>\n",
       "</table>\n",
       "</div>"
      ],
      "text/plain": [
       "  Admin_Unit_Code Site_Name  Plot_Name Location_Type  Year       Date  \\\n",
       "0            ANTI    ANTI 1  ANTI-0036        Forest  2018 2018-05-22   \n",
       "1            ANTI    ANTI 1  ANTI-0036        Forest  2018 2018-05-22   \n",
       "2            ANTI    ANTI 1  ANTI-0036        Forest  2018 2018-05-22   \n",
       "3            ANTI    ANTI 1  ANTI-0036        Forest  2018 2018-05-22   \n",
       "4            ANTI    ANTI 1  ANTI-0036        Forest  2018 2018-05-22   \n",
       "\n",
       "  Start_Time  End_Time          Observer  Visit Interval_Length  \\\n",
       "0   06:19:00  06:29:00  Elizabeth Oswald      1       0-2.5 min   \n",
       "1   06:19:00  06:29:00  Elizabeth Oswald      1       0-2.5 min   \n",
       "2   06:19:00  06:29:00  Elizabeth Oswald      1     2.5 - 5 min   \n",
       "3   06:19:00  06:29:00  Elizabeth Oswald      1     2.5 - 5 min   \n",
       "4   06:19:00  06:29:00  Elizabeth Oswald      1     2.5 - 5 min   \n",
       "\n",
       "       ID_Method         Distance  Flyover_Observed           Sex  \\\n",
       "0        Singing     <= 50 Meters             False  Undetermined   \n",
       "1        Calling     <= 50 Meters             False  Undetermined   \n",
       "2        Calling  50 - 100 Meters             False  Undetermined   \n",
       "3        Singing     <= 50 Meters             False  Undetermined   \n",
       "4  Visualization     <= 50 Meters             False  Undetermined   \n",
       "\n",
       "               Common_Name          Scientific_Name  AcceptedTSN  \\\n",
       "0           Eastern Towhee  Pipilo erythrophthalmus     179276.0   \n",
       "1  White-breasted Nuthatch       Sitta carolinensis     178775.0   \n",
       "2   Red-bellied Woodpecker     Melanerpes carolinus     178195.0   \n",
       "3           Orchard Oriole          Icterus spurius     179064.0   \n",
       "4     Northern Mockingbird        Mimus polyglottos     178620.0   \n",
       "\n",
       "   NPSTaxonCode AOU_Code  PIF_Watchlist_Status  Regional_Stewardship_Status  \\\n",
       "0       83803.0     EATO                 False                         True   \n",
       "1       90935.0     WBNU                 False                        False   \n",
       "2       84865.0     RBWO                 False                        False   \n",
       "3       93634.0     OROR                 False                        False   \n",
       "4       88394.0     NOMO                 False                        False   \n",
       "\n",
       "   Temperature   Humidity              Sky  \\\n",
       "0         19.9  79.400002  Cloudy/Overcast   \n",
       "1         19.9  79.400002  Cloudy/Overcast   \n",
       "2         19.9  79.400002  Cloudy/Overcast   \n",
       "3         19.9  79.400002  Cloudy/Overcast   \n",
       "4         19.9  79.400002  Cloudy/Overcast   \n",
       "\n",
       "                                    Wind         Disturbance  \\\n",
       "0  Calm (< 1 mph) smoke rises vertically  No effect on count   \n",
       "1  Calm (< 1 mph) smoke rises vertically  No effect on count   \n",
       "2  Calm (< 1 mph) smoke rises vertically  No effect on count   \n",
       "3  Calm (< 1 mph) smoke rises vertically  No effect on count   \n",
       "4  Calm (< 1 mph) smoke rises vertically  No effect on count   \n",
       "\n",
       "   Initial_Three_Min_Cnt  TaxonCode Previously_Obs     Start_Timestamp  \\\n",
       "0                   True        NaN            NaN 2018-05-22 06:19:00   \n",
       "1                   True        NaN            NaN 2018-05-22 06:19:00   \n",
       "2                  False        NaN            NaN 2018-05-22 06:19:00   \n",
       "3                  False        NaN            NaN 2018-05-22 06:19:00   \n",
       "4                  False        NaN            NaN 2018-05-22 06:19:00   \n",
       "\n",
       "        End_Timestamp  Start_Hour  End_Hour Start_Time_Only End_Time_Only  \\\n",
       "0 2018-05-22 06:29:00           6         6        06:19:00      06:29:00   \n",
       "1 2018-05-22 06:29:00           6         6        06:19:00      06:29:00   \n",
       "2 2018-05-22 06:29:00           6         6        06:19:00      06:29:00   \n",
       "3 2018-05-22 06:29:00           6         6        06:19:00      06:29:00   \n",
       "4 2018-05-22 06:29:00           6         6        06:19:00      06:29:00   \n",
       "\n",
       "         Duration  Duration_Hours  Month  Dates WeekDay_Name  iso  \n",
       "0 0 days 00:10:00        0.166667      5     22      Tuesday   21  \n",
       "1 0 days 00:10:00        0.166667      5     22      Tuesday   21  \n",
       "2 0 days 00:10:00        0.166667      5     22      Tuesday   21  \n",
       "3 0 days 00:10:00        0.166667      5     22      Tuesday   21  \n",
       "4 0 days 00:10:00        0.166667      5     22      Tuesday   21  "
      ]
     },
     "execution_count": 114,
     "metadata": {},
     "output_type": "execute_result"
    }
   ],
   "source": [
    "UnCleaned_Combined_land_type['Month']  = pd.DatetimeIndex(UnCleaned_Combined_land_type.Date).month #We are splitting month only\n",
    "\n",
    "UnCleaned_Combined_land_type['Dates']  = pd.DatetimeIndex(UnCleaned_Combined_land_type.Date).day #We are splitting date only\n",
    "\n",
    "UnCleaned_Combined_land_type['WeekDay_Name'] = pd.DatetimeIndex(UnCleaned_Combined_land_type.Date).day_name()\n",
    "\n",
    "UnCleaned_Combined_land_type['iso'] = UnCleaned_Combined_land_type.Date.dt.isocalendar().week # It will give wether it is first week or second week\n",
    "\n",
    "UnCleaned_Combined_land_type.head()"
   ]
  },
  {
   "cell_type": "markdown",
   "id": "7af67c6d",
   "metadata": {},
   "source": [
    "- Converting months to seasons:"
   ]
  },
  {
   "cell_type": "code",
   "execution_count": 115,
   "id": "977d287d",
   "metadata": {},
   "outputs": [
    {
     "data": {
      "text/html": [
       "<div>\n",
       "<style scoped>\n",
       "    .dataframe tbody tr th:only-of-type {\n",
       "        vertical-align: middle;\n",
       "    }\n",
       "\n",
       "    .dataframe tbody tr th {\n",
       "        vertical-align: top;\n",
       "    }\n",
       "\n",
       "    .dataframe thead th {\n",
       "        text-align: right;\n",
       "    }\n",
       "</style>\n",
       "<table border=\"1\" class=\"dataframe\">\n",
       "  <thead>\n",
       "    <tr style=\"text-align: right;\">\n",
       "      <th></th>\n",
       "      <th>Admin_Unit_Code</th>\n",
       "      <th>Site_Name</th>\n",
       "      <th>Plot_Name</th>\n",
       "      <th>Location_Type</th>\n",
       "      <th>Year</th>\n",
       "      <th>Date</th>\n",
       "      <th>Start_Time</th>\n",
       "      <th>End_Time</th>\n",
       "      <th>Observer</th>\n",
       "      <th>Visit</th>\n",
       "      <th>Interval_Length</th>\n",
       "      <th>ID_Method</th>\n",
       "      <th>Distance</th>\n",
       "      <th>Flyover_Observed</th>\n",
       "      <th>Sex</th>\n",
       "      <th>Common_Name</th>\n",
       "      <th>Scientific_Name</th>\n",
       "      <th>AcceptedTSN</th>\n",
       "      <th>NPSTaxonCode</th>\n",
       "      <th>AOU_Code</th>\n",
       "      <th>PIF_Watchlist_Status</th>\n",
       "      <th>Regional_Stewardship_Status</th>\n",
       "      <th>Temperature</th>\n",
       "      <th>Humidity</th>\n",
       "      <th>Sky</th>\n",
       "      <th>Wind</th>\n",
       "      <th>Disturbance</th>\n",
       "      <th>Initial_Three_Min_Cnt</th>\n",
       "      <th>TaxonCode</th>\n",
       "      <th>Previously_Obs</th>\n",
       "      <th>Start_Timestamp</th>\n",
       "      <th>End_Timestamp</th>\n",
       "      <th>Start_Hour</th>\n",
       "      <th>End_Hour</th>\n",
       "      <th>Start_Time_Only</th>\n",
       "      <th>End_Time_Only</th>\n",
       "      <th>Duration</th>\n",
       "      <th>Duration_Hours</th>\n",
       "      <th>Month</th>\n",
       "      <th>Dates</th>\n",
       "      <th>WeekDay_Name</th>\n",
       "      <th>iso</th>\n",
       "      <th>Season</th>\n",
       "    </tr>\n",
       "  </thead>\n",
       "  <tbody>\n",
       "    <tr>\n",
       "      <th>0</th>\n",
       "      <td>ANTI</td>\n",
       "      <td>ANTI 1</td>\n",
       "      <td>ANTI-0036</td>\n",
       "      <td>Forest</td>\n",
       "      <td>2018</td>\n",
       "      <td>2018-05-22</td>\n",
       "      <td>06:19:00</td>\n",
       "      <td>06:29:00</td>\n",
       "      <td>Elizabeth Oswald</td>\n",
       "      <td>1</td>\n",
       "      <td>0-2.5 min</td>\n",
       "      <td>Singing</td>\n",
       "      <td>&lt;= 50 Meters</td>\n",
       "      <td>False</td>\n",
       "      <td>Undetermined</td>\n",
       "      <td>Eastern Towhee</td>\n",
       "      <td>Pipilo erythrophthalmus</td>\n",
       "      <td>179276.0</td>\n",
       "      <td>83803.0</td>\n",
       "      <td>EATO</td>\n",
       "      <td>False</td>\n",
       "      <td>True</td>\n",
       "      <td>19.9</td>\n",
       "      <td>79.400002</td>\n",
       "      <td>Cloudy/Overcast</td>\n",
       "      <td>Calm (&lt; 1 mph) smoke rises vertically</td>\n",
       "      <td>No effect on count</td>\n",
       "      <td>True</td>\n",
       "      <td>NaN</td>\n",
       "      <td>NaN</td>\n",
       "      <td>2018-05-22 06:19:00</td>\n",
       "      <td>2018-05-22 06:29:00</td>\n",
       "      <td>6</td>\n",
       "      <td>6</td>\n",
       "      <td>06:19:00</td>\n",
       "      <td>06:29:00</td>\n",
       "      <td>0 days 00:10:00</td>\n",
       "      <td>0.166667</td>\n",
       "      <td>5</td>\n",
       "      <td>22</td>\n",
       "      <td>Tuesday</td>\n",
       "      <td>21</td>\n",
       "      <td>Spring</td>\n",
       "    </tr>\n",
       "    <tr>\n",
       "      <th>1</th>\n",
       "      <td>ANTI</td>\n",
       "      <td>ANTI 1</td>\n",
       "      <td>ANTI-0036</td>\n",
       "      <td>Forest</td>\n",
       "      <td>2018</td>\n",
       "      <td>2018-05-22</td>\n",
       "      <td>06:19:00</td>\n",
       "      <td>06:29:00</td>\n",
       "      <td>Elizabeth Oswald</td>\n",
       "      <td>1</td>\n",
       "      <td>0-2.5 min</td>\n",
       "      <td>Calling</td>\n",
       "      <td>&lt;= 50 Meters</td>\n",
       "      <td>False</td>\n",
       "      <td>Undetermined</td>\n",
       "      <td>White-breasted Nuthatch</td>\n",
       "      <td>Sitta carolinensis</td>\n",
       "      <td>178775.0</td>\n",
       "      <td>90935.0</td>\n",
       "      <td>WBNU</td>\n",
       "      <td>False</td>\n",
       "      <td>False</td>\n",
       "      <td>19.9</td>\n",
       "      <td>79.400002</td>\n",
       "      <td>Cloudy/Overcast</td>\n",
       "      <td>Calm (&lt; 1 mph) smoke rises vertically</td>\n",
       "      <td>No effect on count</td>\n",
       "      <td>True</td>\n",
       "      <td>NaN</td>\n",
       "      <td>NaN</td>\n",
       "      <td>2018-05-22 06:19:00</td>\n",
       "      <td>2018-05-22 06:29:00</td>\n",
       "      <td>6</td>\n",
       "      <td>6</td>\n",
       "      <td>06:19:00</td>\n",
       "      <td>06:29:00</td>\n",
       "      <td>0 days 00:10:00</td>\n",
       "      <td>0.166667</td>\n",
       "      <td>5</td>\n",
       "      <td>22</td>\n",
       "      <td>Tuesday</td>\n",
       "      <td>21</td>\n",
       "      <td>Spring</td>\n",
       "    </tr>\n",
       "    <tr>\n",
       "      <th>2</th>\n",
       "      <td>ANTI</td>\n",
       "      <td>ANTI 1</td>\n",
       "      <td>ANTI-0036</td>\n",
       "      <td>Forest</td>\n",
       "      <td>2018</td>\n",
       "      <td>2018-05-22</td>\n",
       "      <td>06:19:00</td>\n",
       "      <td>06:29:00</td>\n",
       "      <td>Elizabeth Oswald</td>\n",
       "      <td>1</td>\n",
       "      <td>2.5 - 5 min</td>\n",
       "      <td>Calling</td>\n",
       "      <td>50 - 100 Meters</td>\n",
       "      <td>False</td>\n",
       "      <td>Undetermined</td>\n",
       "      <td>Red-bellied Woodpecker</td>\n",
       "      <td>Melanerpes carolinus</td>\n",
       "      <td>178195.0</td>\n",
       "      <td>84865.0</td>\n",
       "      <td>RBWO</td>\n",
       "      <td>False</td>\n",
       "      <td>False</td>\n",
       "      <td>19.9</td>\n",
       "      <td>79.400002</td>\n",
       "      <td>Cloudy/Overcast</td>\n",
       "      <td>Calm (&lt; 1 mph) smoke rises vertically</td>\n",
       "      <td>No effect on count</td>\n",
       "      <td>False</td>\n",
       "      <td>NaN</td>\n",
       "      <td>NaN</td>\n",
       "      <td>2018-05-22 06:19:00</td>\n",
       "      <td>2018-05-22 06:29:00</td>\n",
       "      <td>6</td>\n",
       "      <td>6</td>\n",
       "      <td>06:19:00</td>\n",
       "      <td>06:29:00</td>\n",
       "      <td>0 days 00:10:00</td>\n",
       "      <td>0.166667</td>\n",
       "      <td>5</td>\n",
       "      <td>22</td>\n",
       "      <td>Tuesday</td>\n",
       "      <td>21</td>\n",
       "      <td>Spring</td>\n",
       "    </tr>\n",
       "    <tr>\n",
       "      <th>3</th>\n",
       "      <td>ANTI</td>\n",
       "      <td>ANTI 1</td>\n",
       "      <td>ANTI-0036</td>\n",
       "      <td>Forest</td>\n",
       "      <td>2018</td>\n",
       "      <td>2018-05-22</td>\n",
       "      <td>06:19:00</td>\n",
       "      <td>06:29:00</td>\n",
       "      <td>Elizabeth Oswald</td>\n",
       "      <td>1</td>\n",
       "      <td>2.5 - 5 min</td>\n",
       "      <td>Singing</td>\n",
       "      <td>&lt;= 50 Meters</td>\n",
       "      <td>False</td>\n",
       "      <td>Undetermined</td>\n",
       "      <td>Orchard Oriole</td>\n",
       "      <td>Icterus spurius</td>\n",
       "      <td>179064.0</td>\n",
       "      <td>93634.0</td>\n",
       "      <td>OROR</td>\n",
       "      <td>False</td>\n",
       "      <td>False</td>\n",
       "      <td>19.9</td>\n",
       "      <td>79.400002</td>\n",
       "      <td>Cloudy/Overcast</td>\n",
       "      <td>Calm (&lt; 1 mph) smoke rises vertically</td>\n",
       "      <td>No effect on count</td>\n",
       "      <td>False</td>\n",
       "      <td>NaN</td>\n",
       "      <td>NaN</td>\n",
       "      <td>2018-05-22 06:19:00</td>\n",
       "      <td>2018-05-22 06:29:00</td>\n",
       "      <td>6</td>\n",
       "      <td>6</td>\n",
       "      <td>06:19:00</td>\n",
       "      <td>06:29:00</td>\n",
       "      <td>0 days 00:10:00</td>\n",
       "      <td>0.166667</td>\n",
       "      <td>5</td>\n",
       "      <td>22</td>\n",
       "      <td>Tuesday</td>\n",
       "      <td>21</td>\n",
       "      <td>Spring</td>\n",
       "    </tr>\n",
       "    <tr>\n",
       "      <th>4</th>\n",
       "      <td>ANTI</td>\n",
       "      <td>ANTI 1</td>\n",
       "      <td>ANTI-0036</td>\n",
       "      <td>Forest</td>\n",
       "      <td>2018</td>\n",
       "      <td>2018-05-22</td>\n",
       "      <td>06:19:00</td>\n",
       "      <td>06:29:00</td>\n",
       "      <td>Elizabeth Oswald</td>\n",
       "      <td>1</td>\n",
       "      <td>2.5 - 5 min</td>\n",
       "      <td>Visualization</td>\n",
       "      <td>&lt;= 50 Meters</td>\n",
       "      <td>False</td>\n",
       "      <td>Undetermined</td>\n",
       "      <td>Northern Mockingbird</td>\n",
       "      <td>Mimus polyglottos</td>\n",
       "      <td>178620.0</td>\n",
       "      <td>88394.0</td>\n",
       "      <td>NOMO</td>\n",
       "      <td>False</td>\n",
       "      <td>False</td>\n",
       "      <td>19.9</td>\n",
       "      <td>79.400002</td>\n",
       "      <td>Cloudy/Overcast</td>\n",
       "      <td>Calm (&lt; 1 mph) smoke rises vertically</td>\n",
       "      <td>No effect on count</td>\n",
       "      <td>False</td>\n",
       "      <td>NaN</td>\n",
       "      <td>NaN</td>\n",
       "      <td>2018-05-22 06:19:00</td>\n",
       "      <td>2018-05-22 06:29:00</td>\n",
       "      <td>6</td>\n",
       "      <td>6</td>\n",
       "      <td>06:19:00</td>\n",
       "      <td>06:29:00</td>\n",
       "      <td>0 days 00:10:00</td>\n",
       "      <td>0.166667</td>\n",
       "      <td>5</td>\n",
       "      <td>22</td>\n",
       "      <td>Tuesday</td>\n",
       "      <td>21</td>\n",
       "      <td>Spring</td>\n",
       "    </tr>\n",
       "  </tbody>\n",
       "</table>\n",
       "</div>"
      ],
      "text/plain": [
       "  Admin_Unit_Code Site_Name  Plot_Name Location_Type  Year       Date  \\\n",
       "0            ANTI    ANTI 1  ANTI-0036        Forest  2018 2018-05-22   \n",
       "1            ANTI    ANTI 1  ANTI-0036        Forest  2018 2018-05-22   \n",
       "2            ANTI    ANTI 1  ANTI-0036        Forest  2018 2018-05-22   \n",
       "3            ANTI    ANTI 1  ANTI-0036        Forest  2018 2018-05-22   \n",
       "4            ANTI    ANTI 1  ANTI-0036        Forest  2018 2018-05-22   \n",
       "\n",
       "  Start_Time  End_Time          Observer  Visit Interval_Length  \\\n",
       "0   06:19:00  06:29:00  Elizabeth Oswald      1       0-2.5 min   \n",
       "1   06:19:00  06:29:00  Elizabeth Oswald      1       0-2.5 min   \n",
       "2   06:19:00  06:29:00  Elizabeth Oswald      1     2.5 - 5 min   \n",
       "3   06:19:00  06:29:00  Elizabeth Oswald      1     2.5 - 5 min   \n",
       "4   06:19:00  06:29:00  Elizabeth Oswald      1     2.5 - 5 min   \n",
       "\n",
       "       ID_Method         Distance  Flyover_Observed           Sex  \\\n",
       "0        Singing     <= 50 Meters             False  Undetermined   \n",
       "1        Calling     <= 50 Meters             False  Undetermined   \n",
       "2        Calling  50 - 100 Meters             False  Undetermined   \n",
       "3        Singing     <= 50 Meters             False  Undetermined   \n",
       "4  Visualization     <= 50 Meters             False  Undetermined   \n",
       "\n",
       "               Common_Name          Scientific_Name  AcceptedTSN  \\\n",
       "0           Eastern Towhee  Pipilo erythrophthalmus     179276.0   \n",
       "1  White-breasted Nuthatch       Sitta carolinensis     178775.0   \n",
       "2   Red-bellied Woodpecker     Melanerpes carolinus     178195.0   \n",
       "3           Orchard Oriole          Icterus spurius     179064.0   \n",
       "4     Northern Mockingbird        Mimus polyglottos     178620.0   \n",
       "\n",
       "   NPSTaxonCode AOU_Code  PIF_Watchlist_Status  Regional_Stewardship_Status  \\\n",
       "0       83803.0     EATO                 False                         True   \n",
       "1       90935.0     WBNU                 False                        False   \n",
       "2       84865.0     RBWO                 False                        False   \n",
       "3       93634.0     OROR                 False                        False   \n",
       "4       88394.0     NOMO                 False                        False   \n",
       "\n",
       "   Temperature   Humidity              Sky  \\\n",
       "0         19.9  79.400002  Cloudy/Overcast   \n",
       "1         19.9  79.400002  Cloudy/Overcast   \n",
       "2         19.9  79.400002  Cloudy/Overcast   \n",
       "3         19.9  79.400002  Cloudy/Overcast   \n",
       "4         19.9  79.400002  Cloudy/Overcast   \n",
       "\n",
       "                                    Wind         Disturbance  \\\n",
       "0  Calm (< 1 mph) smoke rises vertically  No effect on count   \n",
       "1  Calm (< 1 mph) smoke rises vertically  No effect on count   \n",
       "2  Calm (< 1 mph) smoke rises vertically  No effect on count   \n",
       "3  Calm (< 1 mph) smoke rises vertically  No effect on count   \n",
       "4  Calm (< 1 mph) smoke rises vertically  No effect on count   \n",
       "\n",
       "   Initial_Three_Min_Cnt  TaxonCode Previously_Obs     Start_Timestamp  \\\n",
       "0                   True        NaN            NaN 2018-05-22 06:19:00   \n",
       "1                   True        NaN            NaN 2018-05-22 06:19:00   \n",
       "2                  False        NaN            NaN 2018-05-22 06:19:00   \n",
       "3                  False        NaN            NaN 2018-05-22 06:19:00   \n",
       "4                  False        NaN            NaN 2018-05-22 06:19:00   \n",
       "\n",
       "        End_Timestamp  Start_Hour  End_Hour Start_Time_Only End_Time_Only  \\\n",
       "0 2018-05-22 06:29:00           6         6        06:19:00      06:29:00   \n",
       "1 2018-05-22 06:29:00           6         6        06:19:00      06:29:00   \n",
       "2 2018-05-22 06:29:00           6         6        06:19:00      06:29:00   \n",
       "3 2018-05-22 06:29:00           6         6        06:19:00      06:29:00   \n",
       "4 2018-05-22 06:29:00           6         6        06:19:00      06:29:00   \n",
       "\n",
       "         Duration  Duration_Hours  Month  Dates WeekDay_Name  iso  Season  \n",
       "0 0 days 00:10:00        0.166667      5     22      Tuesday   21  Spring  \n",
       "1 0 days 00:10:00        0.166667      5     22      Tuesday   21  Spring  \n",
       "2 0 days 00:10:00        0.166667      5     22      Tuesday   21  Spring  \n",
       "3 0 days 00:10:00        0.166667      5     22      Tuesday   21  Spring  \n",
       "4 0 days 00:10:00        0.166667      5     22      Tuesday   21  Spring  "
      ]
     },
     "execution_count": 115,
     "metadata": {},
     "output_type": "execute_result"
    }
   ],
   "source": [
    "# Optional: Map months to seasons\n",
    "def month_to_season(month):\n",
    "    if month in [12, 1, 2]:\n",
    "        return 'Winter'\n",
    "    elif month in [3, 4, 5]:\n",
    "        return 'Spring'\n",
    "    elif month in [6, 7, 8]:\n",
    "        return 'Summer'\n",
    "    else:\n",
    "        return 'Autumn'\n",
    "\n",
    "UnCleaned_Combined_land_type['Season'] = UnCleaned_Combined_land_type['Month'].apply(month_to_season)\n",
    "UnCleaned_Combined_land_type.head()"
   ]
  },
  {
   "cell_type": "markdown",
   "id": "c3e88763",
   "metadata": {},
   "source": [
    "- Verifying isna:"
   ]
  },
  {
   "cell_type": "code",
   "execution_count": 116,
   "id": "c8c0cab5",
   "metadata": {},
   "outputs": [
    {
     "data": {
      "text/plain": [
       "Previously_Obs                 8546\n",
       "TaxonCode                      8546\n",
       "Site_Name                      8531\n",
       "NPSTaxonCode                   8531\n",
       "Location_Type                     0\n",
       "Date                              0\n",
       "Start_Time                        0\n",
       "End_Time                          0\n",
       "Year                              0\n",
       "Admin_Unit_Code                   0\n",
       "Plot_Name                         0\n",
       "Interval_Length                   0\n",
       "Visit                             0\n",
       "Observer                          0\n",
       "ID_Method                         0\n",
       "Sex                               0\n",
       "Common_Name                       0\n",
       "Flyover_Observed                  0\n",
       "Distance                          0\n",
       "AOU_Code                          0\n",
       "PIF_Watchlist_Status              0\n",
       "Regional_Stewardship_Status       0\n",
       "Temperature                       0\n",
       "Humidity                          0\n",
       "Sky                               0\n",
       "Scientific_Name                   0\n",
       "AcceptedTSN                       0\n",
       "Disturbance                       0\n",
       "Wind                              0\n",
       "Initial_Three_Min_Cnt             0\n",
       "Start_Timestamp                   0\n",
       "End_Timestamp                     0\n",
       "Start_Hour                        0\n",
       "End_Hour                          0\n",
       "Start_Time_Only                   0\n",
       "End_Time_Only                     0\n",
       "Duration                          0\n",
       "Duration_Hours                    0\n",
       "Month                             0\n",
       "Dates                             0\n",
       "WeekDay_Name                      0\n",
       "iso                               0\n",
       "Season                            0\n",
       "dtype: int64"
      ]
     },
     "execution_count": 116,
     "metadata": {},
     "output_type": "execute_result"
    }
   ],
   "source": [
    "UnCleaned_Combined_land_type.isna().sum().sort_values(ascending=False)"
   ]
  },
  {
   "cell_type": "markdown",
   "id": "4ad35ec8",
   "metadata": {},
   "source": [
    "- Total rows present in the combined dataset:"
   ]
  },
  {
   "cell_type": "code",
   "execution_count": 117,
   "id": "c00818ca",
   "metadata": {},
   "outputs": [
    {
     "name": "stdout",
     "output_type": "stream",
     "text": [
      "Total row count: 17077\n"
     ]
    }
   ],
   "source": [
    "total_rows = UnCleaned_Combined_land_type.shape[0]\n",
    "print(\"Total row count:\", total_rows)"
   ]
  },
  {
   "cell_type": "markdown",
   "id": "dc6437cf",
   "metadata": {},
   "source": [
    "- 2. Fetching only null value count:"
   ]
  },
  {
   "cell_type": "code",
   "execution_count": 118,
   "id": "d9a6a02b",
   "metadata": {},
   "outputs": [
    {
     "data": {
      "text/html": [
       "<div>\n",
       "<style scoped>\n",
       "    .dataframe tbody tr th:only-of-type {\n",
       "        vertical-align: middle;\n",
       "    }\n",
       "\n",
       "    .dataframe tbody tr th {\n",
       "        vertical-align: top;\n",
       "    }\n",
       "\n",
       "    .dataframe thead th {\n",
       "        text-align: right;\n",
       "    }\n",
       "</style>\n",
       "<table border=\"1\" class=\"dataframe\">\n",
       "  <thead>\n",
       "    <tr style=\"text-align: right;\">\n",
       "      <th></th>\n",
       "      <th>column</th>\n",
       "      <th>missing_count</th>\n",
       "    </tr>\n",
       "  </thead>\n",
       "  <tbody>\n",
       "    <tr>\n",
       "      <th>29</th>\n",
       "      <td>Previously_Obs</td>\n",
       "      <td>8546</td>\n",
       "    </tr>\n",
       "    <tr>\n",
       "      <th>28</th>\n",
       "      <td>TaxonCode</td>\n",
       "      <td>8546</td>\n",
       "    </tr>\n",
       "    <tr>\n",
       "      <th>18</th>\n",
       "      <td>NPSTaxonCode</td>\n",
       "      <td>8531</td>\n",
       "    </tr>\n",
       "    <tr>\n",
       "      <th>1</th>\n",
       "      <td>Site_Name</td>\n",
       "      <td>8531</td>\n",
       "    </tr>\n",
       "  </tbody>\n",
       "</table>\n",
       "</div>"
      ],
      "text/plain": [
       "            column  missing_count\n",
       "29  Previously_Obs           8546\n",
       "28       TaxonCode           8546\n",
       "18    NPSTaxonCode           8531\n",
       "1        Site_Name           8531"
      ]
     },
     "execution_count": 118,
     "metadata": {},
     "output_type": "execute_result"
    }
   ],
   "source": [
    "# Step 1: Get missing counts as a Series\n",
    "na_series = UnCleaned_Combined_land_type.isna().sum()\n",
    "# na_series\n",
    "\n",
    "# Step 2: Convert to DataFrame\n",
    "na_df = na_series.reset_index()\n",
    "# na_df\n",
    "\n",
    "# Step 3: Rename columns\n",
    "na_df.columns = ['column', 'missing_count']\n",
    "\n",
    "#Step 4: Filter and sort\n",
    "na_df.query(\"missing_count > 0\").sort_values(by='missing_count', ascending=False)"
   ]
  },
  {
   "cell_type": "markdown",
   "id": "8d7fbb3f",
   "metadata": {},
   "source": [
    "> *Data Imputation:*"
   ]
  },
  {
   "cell_type": "markdown",
   "id": "68d10e24",
   "metadata": {},
   "source": [
    "- 1. Replacing the nan values in Previously_Obs column:"
   ]
  },
  {
   "cell_type": "code",
   "execution_count": 119,
   "id": "3003a3a4",
   "metadata": {},
   "outputs": [
    {
     "data": {
      "text/plain": [
       "array([nan, False], dtype=object)"
      ]
     },
     "execution_count": 119,
     "metadata": {},
     "output_type": "execute_result"
    }
   ],
   "source": [
    "UnCleaned_Combined_land_type['Previously_Obs'].unique()"
   ]
  },
  {
   "cell_type": "code",
   "execution_count": 120,
   "id": "b737ad34",
   "metadata": {},
   "outputs": [
    {
     "data": {
      "text/html": [
       "<div>\n",
       "<style scoped>\n",
       "    .dataframe tbody tr th:only-of-type {\n",
       "        vertical-align: middle;\n",
       "    }\n",
       "\n",
       "    .dataframe tbody tr th {\n",
       "        vertical-align: top;\n",
       "    }\n",
       "\n",
       "    .dataframe thead th {\n",
       "        text-align: right;\n",
       "    }\n",
       "</style>\n",
       "<table border=\"1\" class=\"dataframe\">\n",
       "  <thead>\n",
       "    <tr style=\"text-align: right;\">\n",
       "      <th></th>\n",
       "      <th>Previously_Obs</th>\n",
       "      <th>count</th>\n",
       "    </tr>\n",
       "  </thead>\n",
       "  <tbody>\n",
       "    <tr>\n",
       "      <th>0</th>\n",
       "      <td>NaN</td>\n",
       "      <td>8546</td>\n",
       "    </tr>\n",
       "    <tr>\n",
       "      <th>1</th>\n",
       "      <td>False</td>\n",
       "      <td>8531</td>\n",
       "    </tr>\n",
       "  </tbody>\n",
       "</table>\n",
       "</div>"
      ],
      "text/plain": [
       "  Previously_Obs  count\n",
       "0            NaN   8546\n",
       "1          False   8531"
      ]
     },
     "execution_count": 120,
     "metadata": {},
     "output_type": "execute_result"
    }
   ],
   "source": [
    "# Count with NaN included\n",
    "Previously_Obs = UnCleaned_Combined_land_type['Previously_Obs'].value_counts(dropna=False).reset_index()\n",
    "Previously_Obs"
   ]
  },
  {
   "cell_type": "code",
   "execution_count": 121,
   "id": "8b052cdf",
   "metadata": {},
   "outputs": [
    {
     "name": "stdout",
     "output_type": "stream",
     "text": [
      "<class 'pandas.core.series.Series'>\n",
      "RangeIndex: 17077 entries, 0 to 17076\n",
      "Series name: Previously_Obs\n",
      "Non-Null Count  Dtype \n",
      "--------------  ----- \n",
      "8531 non-null   object\n",
      "dtypes: object(1)\n",
      "memory usage: 133.5+ KB\n"
     ]
    }
   ],
   "source": [
    "UnCleaned_Combined_land_type['Previously_Obs'].info()"
   ]
  },
  {
   "cell_type": "code",
   "execution_count": 122,
   "id": "9093364b",
   "metadata": {},
   "outputs": [
    {
     "name": "stderr",
     "output_type": "stream",
     "text": [
      "C:\\Users\\dhars\\AppData\\Local\\Temp\\ipykernel_13436\\4226178810.py:1: FutureWarning: Downcasting object dtype arrays on .fillna, .ffill, .bfill is deprecated and will change in a future version. Call result.infer_objects(copy=False) instead. To opt-in to the future behavior, set `pd.set_option('future.no_silent_downcasting', True)`\n",
      "  UnCleaned_Combined_land_type['Previously_Obs'] = UnCleaned_Combined_land_type['Previously_Obs'].fillna(False).astype(bool)\n"
     ]
    },
    {
     "data": {
      "text/html": [
       "<div>\n",
       "<style scoped>\n",
       "    .dataframe tbody tr th:only-of-type {\n",
       "        vertical-align: middle;\n",
       "    }\n",
       "\n",
       "    .dataframe tbody tr th {\n",
       "        vertical-align: top;\n",
       "    }\n",
       "\n",
       "    .dataframe thead th {\n",
       "        text-align: right;\n",
       "    }\n",
       "</style>\n",
       "<table border=\"1\" class=\"dataframe\">\n",
       "  <thead>\n",
       "    <tr style=\"text-align: right;\">\n",
       "      <th></th>\n",
       "      <th>Admin_Unit_Code</th>\n",
       "      <th>Site_Name</th>\n",
       "      <th>Plot_Name</th>\n",
       "      <th>Location_Type</th>\n",
       "      <th>Year</th>\n",
       "      <th>Date</th>\n",
       "      <th>Start_Time</th>\n",
       "      <th>End_Time</th>\n",
       "      <th>Observer</th>\n",
       "      <th>Visit</th>\n",
       "      <th>Interval_Length</th>\n",
       "      <th>ID_Method</th>\n",
       "      <th>Distance</th>\n",
       "      <th>Flyover_Observed</th>\n",
       "      <th>Sex</th>\n",
       "      <th>Common_Name</th>\n",
       "      <th>Scientific_Name</th>\n",
       "      <th>AcceptedTSN</th>\n",
       "      <th>NPSTaxonCode</th>\n",
       "      <th>AOU_Code</th>\n",
       "      <th>PIF_Watchlist_Status</th>\n",
       "      <th>Regional_Stewardship_Status</th>\n",
       "      <th>Temperature</th>\n",
       "      <th>Humidity</th>\n",
       "      <th>Sky</th>\n",
       "      <th>Wind</th>\n",
       "      <th>Disturbance</th>\n",
       "      <th>Initial_Three_Min_Cnt</th>\n",
       "      <th>TaxonCode</th>\n",
       "      <th>Previously_Obs</th>\n",
       "      <th>Start_Timestamp</th>\n",
       "      <th>End_Timestamp</th>\n",
       "      <th>Start_Hour</th>\n",
       "      <th>End_Hour</th>\n",
       "      <th>Start_Time_Only</th>\n",
       "      <th>End_Time_Only</th>\n",
       "      <th>Duration</th>\n",
       "      <th>Duration_Hours</th>\n",
       "      <th>Month</th>\n",
       "      <th>Dates</th>\n",
       "      <th>WeekDay_Name</th>\n",
       "      <th>iso</th>\n",
       "      <th>Season</th>\n",
       "    </tr>\n",
       "  </thead>\n",
       "  <tbody>\n",
       "    <tr>\n",
       "      <th>0</th>\n",
       "      <td>ANTI</td>\n",
       "      <td>ANTI 1</td>\n",
       "      <td>ANTI-0036</td>\n",
       "      <td>Forest</td>\n",
       "      <td>2018</td>\n",
       "      <td>2018-05-22</td>\n",
       "      <td>06:19:00</td>\n",
       "      <td>06:29:00</td>\n",
       "      <td>Elizabeth Oswald</td>\n",
       "      <td>1</td>\n",
       "      <td>0-2.5 min</td>\n",
       "      <td>Singing</td>\n",
       "      <td>&lt;= 50 Meters</td>\n",
       "      <td>False</td>\n",
       "      <td>Undetermined</td>\n",
       "      <td>Eastern Towhee</td>\n",
       "      <td>Pipilo erythrophthalmus</td>\n",
       "      <td>179276.0</td>\n",
       "      <td>83803.0</td>\n",
       "      <td>EATO</td>\n",
       "      <td>False</td>\n",
       "      <td>True</td>\n",
       "      <td>19.9</td>\n",
       "      <td>79.400002</td>\n",
       "      <td>Cloudy/Overcast</td>\n",
       "      <td>Calm (&lt; 1 mph) smoke rises vertically</td>\n",
       "      <td>No effect on count</td>\n",
       "      <td>True</td>\n",
       "      <td>NaN</td>\n",
       "      <td>False</td>\n",
       "      <td>2018-05-22 06:19:00</td>\n",
       "      <td>2018-05-22 06:29:00</td>\n",
       "      <td>6</td>\n",
       "      <td>6</td>\n",
       "      <td>06:19:00</td>\n",
       "      <td>06:29:00</td>\n",
       "      <td>0 days 00:10:00</td>\n",
       "      <td>0.166667</td>\n",
       "      <td>5</td>\n",
       "      <td>22</td>\n",
       "      <td>Tuesday</td>\n",
       "      <td>21</td>\n",
       "      <td>Spring</td>\n",
       "    </tr>\n",
       "    <tr>\n",
       "      <th>1</th>\n",
       "      <td>ANTI</td>\n",
       "      <td>ANTI 1</td>\n",
       "      <td>ANTI-0036</td>\n",
       "      <td>Forest</td>\n",
       "      <td>2018</td>\n",
       "      <td>2018-05-22</td>\n",
       "      <td>06:19:00</td>\n",
       "      <td>06:29:00</td>\n",
       "      <td>Elizabeth Oswald</td>\n",
       "      <td>1</td>\n",
       "      <td>0-2.5 min</td>\n",
       "      <td>Calling</td>\n",
       "      <td>&lt;= 50 Meters</td>\n",
       "      <td>False</td>\n",
       "      <td>Undetermined</td>\n",
       "      <td>White-breasted Nuthatch</td>\n",
       "      <td>Sitta carolinensis</td>\n",
       "      <td>178775.0</td>\n",
       "      <td>90935.0</td>\n",
       "      <td>WBNU</td>\n",
       "      <td>False</td>\n",
       "      <td>False</td>\n",
       "      <td>19.9</td>\n",
       "      <td>79.400002</td>\n",
       "      <td>Cloudy/Overcast</td>\n",
       "      <td>Calm (&lt; 1 mph) smoke rises vertically</td>\n",
       "      <td>No effect on count</td>\n",
       "      <td>True</td>\n",
       "      <td>NaN</td>\n",
       "      <td>False</td>\n",
       "      <td>2018-05-22 06:19:00</td>\n",
       "      <td>2018-05-22 06:29:00</td>\n",
       "      <td>6</td>\n",
       "      <td>6</td>\n",
       "      <td>06:19:00</td>\n",
       "      <td>06:29:00</td>\n",
       "      <td>0 days 00:10:00</td>\n",
       "      <td>0.166667</td>\n",
       "      <td>5</td>\n",
       "      <td>22</td>\n",
       "      <td>Tuesday</td>\n",
       "      <td>21</td>\n",
       "      <td>Spring</td>\n",
       "    </tr>\n",
       "    <tr>\n",
       "      <th>2</th>\n",
       "      <td>ANTI</td>\n",
       "      <td>ANTI 1</td>\n",
       "      <td>ANTI-0036</td>\n",
       "      <td>Forest</td>\n",
       "      <td>2018</td>\n",
       "      <td>2018-05-22</td>\n",
       "      <td>06:19:00</td>\n",
       "      <td>06:29:00</td>\n",
       "      <td>Elizabeth Oswald</td>\n",
       "      <td>1</td>\n",
       "      <td>2.5 - 5 min</td>\n",
       "      <td>Calling</td>\n",
       "      <td>50 - 100 Meters</td>\n",
       "      <td>False</td>\n",
       "      <td>Undetermined</td>\n",
       "      <td>Red-bellied Woodpecker</td>\n",
       "      <td>Melanerpes carolinus</td>\n",
       "      <td>178195.0</td>\n",
       "      <td>84865.0</td>\n",
       "      <td>RBWO</td>\n",
       "      <td>False</td>\n",
       "      <td>False</td>\n",
       "      <td>19.9</td>\n",
       "      <td>79.400002</td>\n",
       "      <td>Cloudy/Overcast</td>\n",
       "      <td>Calm (&lt; 1 mph) smoke rises vertically</td>\n",
       "      <td>No effect on count</td>\n",
       "      <td>False</td>\n",
       "      <td>NaN</td>\n",
       "      <td>False</td>\n",
       "      <td>2018-05-22 06:19:00</td>\n",
       "      <td>2018-05-22 06:29:00</td>\n",
       "      <td>6</td>\n",
       "      <td>6</td>\n",
       "      <td>06:19:00</td>\n",
       "      <td>06:29:00</td>\n",
       "      <td>0 days 00:10:00</td>\n",
       "      <td>0.166667</td>\n",
       "      <td>5</td>\n",
       "      <td>22</td>\n",
       "      <td>Tuesday</td>\n",
       "      <td>21</td>\n",
       "      <td>Spring</td>\n",
       "    </tr>\n",
       "    <tr>\n",
       "      <th>3</th>\n",
       "      <td>ANTI</td>\n",
       "      <td>ANTI 1</td>\n",
       "      <td>ANTI-0036</td>\n",
       "      <td>Forest</td>\n",
       "      <td>2018</td>\n",
       "      <td>2018-05-22</td>\n",
       "      <td>06:19:00</td>\n",
       "      <td>06:29:00</td>\n",
       "      <td>Elizabeth Oswald</td>\n",
       "      <td>1</td>\n",
       "      <td>2.5 - 5 min</td>\n",
       "      <td>Singing</td>\n",
       "      <td>&lt;= 50 Meters</td>\n",
       "      <td>False</td>\n",
       "      <td>Undetermined</td>\n",
       "      <td>Orchard Oriole</td>\n",
       "      <td>Icterus spurius</td>\n",
       "      <td>179064.0</td>\n",
       "      <td>93634.0</td>\n",
       "      <td>OROR</td>\n",
       "      <td>False</td>\n",
       "      <td>False</td>\n",
       "      <td>19.9</td>\n",
       "      <td>79.400002</td>\n",
       "      <td>Cloudy/Overcast</td>\n",
       "      <td>Calm (&lt; 1 mph) smoke rises vertically</td>\n",
       "      <td>No effect on count</td>\n",
       "      <td>False</td>\n",
       "      <td>NaN</td>\n",
       "      <td>False</td>\n",
       "      <td>2018-05-22 06:19:00</td>\n",
       "      <td>2018-05-22 06:29:00</td>\n",
       "      <td>6</td>\n",
       "      <td>6</td>\n",
       "      <td>06:19:00</td>\n",
       "      <td>06:29:00</td>\n",
       "      <td>0 days 00:10:00</td>\n",
       "      <td>0.166667</td>\n",
       "      <td>5</td>\n",
       "      <td>22</td>\n",
       "      <td>Tuesday</td>\n",
       "      <td>21</td>\n",
       "      <td>Spring</td>\n",
       "    </tr>\n",
       "    <tr>\n",
       "      <th>4</th>\n",
       "      <td>ANTI</td>\n",
       "      <td>ANTI 1</td>\n",
       "      <td>ANTI-0036</td>\n",
       "      <td>Forest</td>\n",
       "      <td>2018</td>\n",
       "      <td>2018-05-22</td>\n",
       "      <td>06:19:00</td>\n",
       "      <td>06:29:00</td>\n",
       "      <td>Elizabeth Oswald</td>\n",
       "      <td>1</td>\n",
       "      <td>2.5 - 5 min</td>\n",
       "      <td>Visualization</td>\n",
       "      <td>&lt;= 50 Meters</td>\n",
       "      <td>False</td>\n",
       "      <td>Undetermined</td>\n",
       "      <td>Northern Mockingbird</td>\n",
       "      <td>Mimus polyglottos</td>\n",
       "      <td>178620.0</td>\n",
       "      <td>88394.0</td>\n",
       "      <td>NOMO</td>\n",
       "      <td>False</td>\n",
       "      <td>False</td>\n",
       "      <td>19.9</td>\n",
       "      <td>79.400002</td>\n",
       "      <td>Cloudy/Overcast</td>\n",
       "      <td>Calm (&lt; 1 mph) smoke rises vertically</td>\n",
       "      <td>No effect on count</td>\n",
       "      <td>False</td>\n",
       "      <td>NaN</td>\n",
       "      <td>False</td>\n",
       "      <td>2018-05-22 06:19:00</td>\n",
       "      <td>2018-05-22 06:29:00</td>\n",
       "      <td>6</td>\n",
       "      <td>6</td>\n",
       "      <td>06:19:00</td>\n",
       "      <td>06:29:00</td>\n",
       "      <td>0 days 00:10:00</td>\n",
       "      <td>0.166667</td>\n",
       "      <td>5</td>\n",
       "      <td>22</td>\n",
       "      <td>Tuesday</td>\n",
       "      <td>21</td>\n",
       "      <td>Spring</td>\n",
       "    </tr>\n",
       "  </tbody>\n",
       "</table>\n",
       "</div>"
      ],
      "text/plain": [
       "  Admin_Unit_Code Site_Name  Plot_Name Location_Type  Year       Date  \\\n",
       "0            ANTI    ANTI 1  ANTI-0036        Forest  2018 2018-05-22   \n",
       "1            ANTI    ANTI 1  ANTI-0036        Forest  2018 2018-05-22   \n",
       "2            ANTI    ANTI 1  ANTI-0036        Forest  2018 2018-05-22   \n",
       "3            ANTI    ANTI 1  ANTI-0036        Forest  2018 2018-05-22   \n",
       "4            ANTI    ANTI 1  ANTI-0036        Forest  2018 2018-05-22   \n",
       "\n",
       "  Start_Time  End_Time          Observer  Visit Interval_Length  \\\n",
       "0   06:19:00  06:29:00  Elizabeth Oswald      1       0-2.5 min   \n",
       "1   06:19:00  06:29:00  Elizabeth Oswald      1       0-2.5 min   \n",
       "2   06:19:00  06:29:00  Elizabeth Oswald      1     2.5 - 5 min   \n",
       "3   06:19:00  06:29:00  Elizabeth Oswald      1     2.5 - 5 min   \n",
       "4   06:19:00  06:29:00  Elizabeth Oswald      1     2.5 - 5 min   \n",
       "\n",
       "       ID_Method         Distance  Flyover_Observed           Sex  \\\n",
       "0        Singing     <= 50 Meters             False  Undetermined   \n",
       "1        Calling     <= 50 Meters             False  Undetermined   \n",
       "2        Calling  50 - 100 Meters             False  Undetermined   \n",
       "3        Singing     <= 50 Meters             False  Undetermined   \n",
       "4  Visualization     <= 50 Meters             False  Undetermined   \n",
       "\n",
       "               Common_Name          Scientific_Name  AcceptedTSN  \\\n",
       "0           Eastern Towhee  Pipilo erythrophthalmus     179276.0   \n",
       "1  White-breasted Nuthatch       Sitta carolinensis     178775.0   \n",
       "2   Red-bellied Woodpecker     Melanerpes carolinus     178195.0   \n",
       "3           Orchard Oriole          Icterus spurius     179064.0   \n",
       "4     Northern Mockingbird        Mimus polyglottos     178620.0   \n",
       "\n",
       "   NPSTaxonCode AOU_Code  PIF_Watchlist_Status  Regional_Stewardship_Status  \\\n",
       "0       83803.0     EATO                 False                         True   \n",
       "1       90935.0     WBNU                 False                        False   \n",
       "2       84865.0     RBWO                 False                        False   \n",
       "3       93634.0     OROR                 False                        False   \n",
       "4       88394.0     NOMO                 False                        False   \n",
       "\n",
       "   Temperature   Humidity              Sky  \\\n",
       "0         19.9  79.400002  Cloudy/Overcast   \n",
       "1         19.9  79.400002  Cloudy/Overcast   \n",
       "2         19.9  79.400002  Cloudy/Overcast   \n",
       "3         19.9  79.400002  Cloudy/Overcast   \n",
       "4         19.9  79.400002  Cloudy/Overcast   \n",
       "\n",
       "                                    Wind         Disturbance  \\\n",
       "0  Calm (< 1 mph) smoke rises vertically  No effect on count   \n",
       "1  Calm (< 1 mph) smoke rises vertically  No effect on count   \n",
       "2  Calm (< 1 mph) smoke rises vertically  No effect on count   \n",
       "3  Calm (< 1 mph) smoke rises vertically  No effect on count   \n",
       "4  Calm (< 1 mph) smoke rises vertically  No effect on count   \n",
       "\n",
       "   Initial_Three_Min_Cnt  TaxonCode  Previously_Obs     Start_Timestamp  \\\n",
       "0                   True        NaN           False 2018-05-22 06:19:00   \n",
       "1                   True        NaN           False 2018-05-22 06:19:00   \n",
       "2                  False        NaN           False 2018-05-22 06:19:00   \n",
       "3                  False        NaN           False 2018-05-22 06:19:00   \n",
       "4                  False        NaN           False 2018-05-22 06:19:00   \n",
       "\n",
       "        End_Timestamp  Start_Hour  End_Hour Start_Time_Only End_Time_Only  \\\n",
       "0 2018-05-22 06:29:00           6         6        06:19:00      06:29:00   \n",
       "1 2018-05-22 06:29:00           6         6        06:19:00      06:29:00   \n",
       "2 2018-05-22 06:29:00           6         6        06:19:00      06:29:00   \n",
       "3 2018-05-22 06:29:00           6         6        06:19:00      06:29:00   \n",
       "4 2018-05-22 06:29:00           6         6        06:19:00      06:29:00   \n",
       "\n",
       "         Duration  Duration_Hours  Month  Dates WeekDay_Name  iso  Season  \n",
       "0 0 days 00:10:00        0.166667      5     22      Tuesday   21  Spring  \n",
       "1 0 days 00:10:00        0.166667      5     22      Tuesday   21  Spring  \n",
       "2 0 days 00:10:00        0.166667      5     22      Tuesday   21  Spring  \n",
       "3 0 days 00:10:00        0.166667      5     22      Tuesday   21  Spring  \n",
       "4 0 days 00:10:00        0.166667      5     22      Tuesday   21  Spring  "
      ]
     },
     "execution_count": 122,
     "metadata": {},
     "output_type": "execute_result"
    }
   ],
   "source": [
    "UnCleaned_Combined_land_type['Previously_Obs'] = UnCleaned_Combined_land_type['Previously_Obs'].fillna(False).astype(bool)\n",
    "UnCleaned_Combined_land_type.head()"
   ]
  },
  {
   "cell_type": "code",
   "execution_count": 123,
   "id": "9c261bfd",
   "metadata": {},
   "outputs": [
    {
     "data": {
      "text/plain": [
       "Previously_Obs\n",
       "False    17077\n",
       "Name: count, dtype: int64"
      ]
     },
     "execution_count": 123,
     "metadata": {},
     "output_type": "execute_result"
    }
   ],
   "source": [
    "# Count with NaN included\n",
    "Previously_Obs = UnCleaned_Combined_land_type['Previously_Obs'].value_counts(dropna=False)\n",
    "Previously_Obs"
   ]
  },
  {
   "cell_type": "markdown",
   "id": "f0bd5956",
   "metadata": {},
   "source": [
    "- 2. Replacing the nan values in TaxonCode column:"
   ]
  },
  {
   "cell_type": "code",
   "execution_count": 124,
   "id": "4ae99afb",
   "metadata": {},
   "outputs": [
    {
     "data": {
      "text/plain": [
       "array([    nan,  84781.,  87184.,  83867.,  84790.,  87106.,  85757.,\n",
       "        94257.,  94228.,  82737.,  83803.,  85643.,  87391.,  88350.,\n",
       "       773819.,  94215.,  93655.,  87112.,  85791.,  87136.,  79468.,\n",
       "        84865., 266957.,  76625.,  86252., 265876.,  89977.,  87156.,\n",
       "        87098., 264079.,  85846.,  93634.,  88296.,  92708.,  88038.,\n",
       "        85824.,  88394.,  94206.,  80444.,  93613.,  93601.,  87409.,\n",
       "        84704.,  95286.,  89979.,  85813., 263793.,  88306.,  85739.,\n",
       "        93589.,  83046.,  79476.,  86204., 926917.,  84820.,  93587.,\n",
       "        79563.,  77646.,  82543.,  88071., 890949.,  90935.,  92746.,\n",
       "        94251.,  89102.,  84936., 890952.,  77836.,  84833.,  86194.,\n",
       "        79572., 890945.,  92730.,  79517.,  83884.,  82677.,      0.,\n",
       "        87404.,  93573.,  87177.,  84416.,  86451.,  88076.,  93552.,\n",
       "        85827.,  92689., 774021.,  87168.,  87427.,  83846.,  87382.,\n",
       "       773820.,  93599., 773778.,  85755.,  92700.,  83980.,  91010.,\n",
       "       773765., 890946.,  91012.,  85610.,  82956.,  85638., 890943.,\n",
       "       773818.,  85830.])"
      ]
     },
     "execution_count": 124,
     "metadata": {},
     "output_type": "execute_result"
    }
   ],
   "source": [
    "UnCleaned_Combined_land_type['TaxonCode'].unique()"
   ]
  },
  {
   "cell_type": "code",
   "execution_count": 125,
   "id": "6f0d73ac",
   "metadata": {},
   "outputs": [
    {
     "data": {
      "text/html": [
       "<div>\n",
       "<style scoped>\n",
       "    .dataframe tbody tr th:only-of-type {\n",
       "        vertical-align: middle;\n",
       "    }\n",
       "\n",
       "    .dataframe tbody tr th {\n",
       "        vertical-align: top;\n",
       "    }\n",
       "\n",
       "    .dataframe thead th {\n",
       "        text-align: right;\n",
       "    }\n",
       "</style>\n",
       "<table border=\"1\" class=\"dataframe\">\n",
       "  <thead>\n",
       "    <tr style=\"text-align: right;\">\n",
       "      <th></th>\n",
       "      <th>TaxonCode</th>\n",
       "      <th>count</th>\n",
       "    </tr>\n",
       "  </thead>\n",
       "  <tbody>\n",
       "    <tr>\n",
       "      <th>0</th>\n",
       "      <td>NaN</td>\n",
       "      <td>8546</td>\n",
       "    </tr>\n",
       "    <tr>\n",
       "      <th>1</th>\n",
       "      <td>94228.0</td>\n",
       "      <td>565</td>\n",
       "    </tr>\n",
       "    <tr>\n",
       "      <th>2</th>\n",
       "      <td>86204.0</td>\n",
       "      <td>516</td>\n",
       "    </tr>\n",
       "    <tr>\n",
       "      <th>3</th>\n",
       "      <td>84790.0</td>\n",
       "      <td>506</td>\n",
       "    </tr>\n",
       "    <tr>\n",
       "      <th>4</th>\n",
       "      <td>94257.0</td>\n",
       "      <td>485</td>\n",
       "    </tr>\n",
       "  </tbody>\n",
       "</table>\n",
       "</div>"
      ],
      "text/plain": [
       "   TaxonCode  count\n",
       "0        NaN   8546\n",
       "1    94228.0    565\n",
       "2    86204.0    516\n",
       "3    84790.0    506\n",
       "4    94257.0    485"
      ]
     },
     "execution_count": 125,
     "metadata": {},
     "output_type": "execute_result"
    }
   ],
   "source": [
    "# Count with NaN included\n",
    "TaxonCode = UnCleaned_Combined_land_type['TaxonCode'].value_counts(dropna=False).reset_index()\n",
    "TaxonCode.head()"
   ]
  },
  {
   "cell_type": "code",
   "execution_count": 126,
   "id": "39e2e12e",
   "metadata": {},
   "outputs": [
    {
     "name": "stdout",
     "output_type": "stream",
     "text": [
      "<class 'pandas.core.series.Series'>\n",
      "RangeIndex: 17077 entries, 0 to 17076\n",
      "Series name: TaxonCode\n",
      "Non-Null Count  Dtype  \n",
      "--------------  -----  \n",
      "8531 non-null   float64\n",
      "dtypes: float64(1)\n",
      "memory usage: 133.5 KB\n"
     ]
    }
   ],
   "source": [
    "UnCleaned_Combined_land_type['TaxonCode'].info()"
   ]
  },
  {
   "cell_type": "code",
   "execution_count": 127,
   "id": "f4f3beee",
   "metadata": {},
   "outputs": [
    {
     "data": {
      "text/plain": [
       "np.float64(94228.0)"
      ]
     },
     "execution_count": 127,
     "metadata": {},
     "output_type": "execute_result"
    }
   ],
   "source": [
    "UnCleaned_Combined_land_type['TaxonCode'].mode()[0]"
   ]
  },
  {
   "cell_type": "code",
   "execution_count": 128,
   "id": "aac41e21",
   "metadata": {},
   "outputs": [
    {
     "data": {
      "text/html": [
       "<div>\n",
       "<style scoped>\n",
       "    .dataframe tbody tr th:only-of-type {\n",
       "        vertical-align: middle;\n",
       "    }\n",
       "\n",
       "    .dataframe tbody tr th {\n",
       "        vertical-align: top;\n",
       "    }\n",
       "\n",
       "    .dataframe thead th {\n",
       "        text-align: right;\n",
       "    }\n",
       "</style>\n",
       "<table border=\"1\" class=\"dataframe\">\n",
       "  <thead>\n",
       "    <tr style=\"text-align: right;\">\n",
       "      <th></th>\n",
       "      <th>Admin_Unit_Code</th>\n",
       "      <th>Site_Name</th>\n",
       "      <th>Plot_Name</th>\n",
       "      <th>Location_Type</th>\n",
       "      <th>Year</th>\n",
       "      <th>Date</th>\n",
       "      <th>Start_Time</th>\n",
       "      <th>End_Time</th>\n",
       "      <th>Observer</th>\n",
       "      <th>Visit</th>\n",
       "      <th>Interval_Length</th>\n",
       "      <th>ID_Method</th>\n",
       "      <th>Distance</th>\n",
       "      <th>Flyover_Observed</th>\n",
       "      <th>Sex</th>\n",
       "      <th>Common_Name</th>\n",
       "      <th>Scientific_Name</th>\n",
       "      <th>AcceptedTSN</th>\n",
       "      <th>NPSTaxonCode</th>\n",
       "      <th>AOU_Code</th>\n",
       "      <th>PIF_Watchlist_Status</th>\n",
       "      <th>Regional_Stewardship_Status</th>\n",
       "      <th>Temperature</th>\n",
       "      <th>Humidity</th>\n",
       "      <th>Sky</th>\n",
       "      <th>Wind</th>\n",
       "      <th>Disturbance</th>\n",
       "      <th>Initial_Three_Min_Cnt</th>\n",
       "      <th>TaxonCode</th>\n",
       "      <th>Previously_Obs</th>\n",
       "      <th>Start_Timestamp</th>\n",
       "      <th>End_Timestamp</th>\n",
       "      <th>Start_Hour</th>\n",
       "      <th>End_Hour</th>\n",
       "      <th>Start_Time_Only</th>\n",
       "      <th>End_Time_Only</th>\n",
       "      <th>Duration</th>\n",
       "      <th>Duration_Hours</th>\n",
       "      <th>Month</th>\n",
       "      <th>Dates</th>\n",
       "      <th>WeekDay_Name</th>\n",
       "      <th>iso</th>\n",
       "      <th>Season</th>\n",
       "    </tr>\n",
       "  </thead>\n",
       "  <tbody>\n",
       "    <tr>\n",
       "      <th>0</th>\n",
       "      <td>ANTI</td>\n",
       "      <td>ANTI 1</td>\n",
       "      <td>ANTI-0036</td>\n",
       "      <td>Forest</td>\n",
       "      <td>2018</td>\n",
       "      <td>2018-05-22</td>\n",
       "      <td>06:19:00</td>\n",
       "      <td>06:29:00</td>\n",
       "      <td>Elizabeth Oswald</td>\n",
       "      <td>1</td>\n",
       "      <td>0-2.5 min</td>\n",
       "      <td>Singing</td>\n",
       "      <td>&lt;= 50 Meters</td>\n",
       "      <td>False</td>\n",
       "      <td>Undetermined</td>\n",
       "      <td>Eastern Towhee</td>\n",
       "      <td>Pipilo erythrophthalmus</td>\n",
       "      <td>179276.0</td>\n",
       "      <td>83803.0</td>\n",
       "      <td>EATO</td>\n",
       "      <td>False</td>\n",
       "      <td>True</td>\n",
       "      <td>19.9</td>\n",
       "      <td>79.400002</td>\n",
       "      <td>Cloudy/Overcast</td>\n",
       "      <td>Calm (&lt; 1 mph) smoke rises vertically</td>\n",
       "      <td>No effect on count</td>\n",
       "      <td>True</td>\n",
       "      <td>94228.0</td>\n",
       "      <td>False</td>\n",
       "      <td>2018-05-22 06:19:00</td>\n",
       "      <td>2018-05-22 06:29:00</td>\n",
       "      <td>6</td>\n",
       "      <td>6</td>\n",
       "      <td>06:19:00</td>\n",
       "      <td>06:29:00</td>\n",
       "      <td>0 days 00:10:00</td>\n",
       "      <td>0.166667</td>\n",
       "      <td>5</td>\n",
       "      <td>22</td>\n",
       "      <td>Tuesday</td>\n",
       "      <td>21</td>\n",
       "      <td>Spring</td>\n",
       "    </tr>\n",
       "    <tr>\n",
       "      <th>1</th>\n",
       "      <td>ANTI</td>\n",
       "      <td>ANTI 1</td>\n",
       "      <td>ANTI-0036</td>\n",
       "      <td>Forest</td>\n",
       "      <td>2018</td>\n",
       "      <td>2018-05-22</td>\n",
       "      <td>06:19:00</td>\n",
       "      <td>06:29:00</td>\n",
       "      <td>Elizabeth Oswald</td>\n",
       "      <td>1</td>\n",
       "      <td>0-2.5 min</td>\n",
       "      <td>Calling</td>\n",
       "      <td>&lt;= 50 Meters</td>\n",
       "      <td>False</td>\n",
       "      <td>Undetermined</td>\n",
       "      <td>White-breasted Nuthatch</td>\n",
       "      <td>Sitta carolinensis</td>\n",
       "      <td>178775.0</td>\n",
       "      <td>90935.0</td>\n",
       "      <td>WBNU</td>\n",
       "      <td>False</td>\n",
       "      <td>False</td>\n",
       "      <td>19.9</td>\n",
       "      <td>79.400002</td>\n",
       "      <td>Cloudy/Overcast</td>\n",
       "      <td>Calm (&lt; 1 mph) smoke rises vertically</td>\n",
       "      <td>No effect on count</td>\n",
       "      <td>True</td>\n",
       "      <td>94228.0</td>\n",
       "      <td>False</td>\n",
       "      <td>2018-05-22 06:19:00</td>\n",
       "      <td>2018-05-22 06:29:00</td>\n",
       "      <td>6</td>\n",
       "      <td>6</td>\n",
       "      <td>06:19:00</td>\n",
       "      <td>06:29:00</td>\n",
       "      <td>0 days 00:10:00</td>\n",
       "      <td>0.166667</td>\n",
       "      <td>5</td>\n",
       "      <td>22</td>\n",
       "      <td>Tuesday</td>\n",
       "      <td>21</td>\n",
       "      <td>Spring</td>\n",
       "    </tr>\n",
       "    <tr>\n",
       "      <th>2</th>\n",
       "      <td>ANTI</td>\n",
       "      <td>ANTI 1</td>\n",
       "      <td>ANTI-0036</td>\n",
       "      <td>Forest</td>\n",
       "      <td>2018</td>\n",
       "      <td>2018-05-22</td>\n",
       "      <td>06:19:00</td>\n",
       "      <td>06:29:00</td>\n",
       "      <td>Elizabeth Oswald</td>\n",
       "      <td>1</td>\n",
       "      <td>2.5 - 5 min</td>\n",
       "      <td>Calling</td>\n",
       "      <td>50 - 100 Meters</td>\n",
       "      <td>False</td>\n",
       "      <td>Undetermined</td>\n",
       "      <td>Red-bellied Woodpecker</td>\n",
       "      <td>Melanerpes carolinus</td>\n",
       "      <td>178195.0</td>\n",
       "      <td>84865.0</td>\n",
       "      <td>RBWO</td>\n",
       "      <td>False</td>\n",
       "      <td>False</td>\n",
       "      <td>19.9</td>\n",
       "      <td>79.400002</td>\n",
       "      <td>Cloudy/Overcast</td>\n",
       "      <td>Calm (&lt; 1 mph) smoke rises vertically</td>\n",
       "      <td>No effect on count</td>\n",
       "      <td>False</td>\n",
       "      <td>94228.0</td>\n",
       "      <td>False</td>\n",
       "      <td>2018-05-22 06:19:00</td>\n",
       "      <td>2018-05-22 06:29:00</td>\n",
       "      <td>6</td>\n",
       "      <td>6</td>\n",
       "      <td>06:19:00</td>\n",
       "      <td>06:29:00</td>\n",
       "      <td>0 days 00:10:00</td>\n",
       "      <td>0.166667</td>\n",
       "      <td>5</td>\n",
       "      <td>22</td>\n",
       "      <td>Tuesday</td>\n",
       "      <td>21</td>\n",
       "      <td>Spring</td>\n",
       "    </tr>\n",
       "    <tr>\n",
       "      <th>3</th>\n",
       "      <td>ANTI</td>\n",
       "      <td>ANTI 1</td>\n",
       "      <td>ANTI-0036</td>\n",
       "      <td>Forest</td>\n",
       "      <td>2018</td>\n",
       "      <td>2018-05-22</td>\n",
       "      <td>06:19:00</td>\n",
       "      <td>06:29:00</td>\n",
       "      <td>Elizabeth Oswald</td>\n",
       "      <td>1</td>\n",
       "      <td>2.5 - 5 min</td>\n",
       "      <td>Singing</td>\n",
       "      <td>&lt;= 50 Meters</td>\n",
       "      <td>False</td>\n",
       "      <td>Undetermined</td>\n",
       "      <td>Orchard Oriole</td>\n",
       "      <td>Icterus spurius</td>\n",
       "      <td>179064.0</td>\n",
       "      <td>93634.0</td>\n",
       "      <td>OROR</td>\n",
       "      <td>False</td>\n",
       "      <td>False</td>\n",
       "      <td>19.9</td>\n",
       "      <td>79.400002</td>\n",
       "      <td>Cloudy/Overcast</td>\n",
       "      <td>Calm (&lt; 1 mph) smoke rises vertically</td>\n",
       "      <td>No effect on count</td>\n",
       "      <td>False</td>\n",
       "      <td>94228.0</td>\n",
       "      <td>False</td>\n",
       "      <td>2018-05-22 06:19:00</td>\n",
       "      <td>2018-05-22 06:29:00</td>\n",
       "      <td>6</td>\n",
       "      <td>6</td>\n",
       "      <td>06:19:00</td>\n",
       "      <td>06:29:00</td>\n",
       "      <td>0 days 00:10:00</td>\n",
       "      <td>0.166667</td>\n",
       "      <td>5</td>\n",
       "      <td>22</td>\n",
       "      <td>Tuesday</td>\n",
       "      <td>21</td>\n",
       "      <td>Spring</td>\n",
       "    </tr>\n",
       "    <tr>\n",
       "      <th>4</th>\n",
       "      <td>ANTI</td>\n",
       "      <td>ANTI 1</td>\n",
       "      <td>ANTI-0036</td>\n",
       "      <td>Forest</td>\n",
       "      <td>2018</td>\n",
       "      <td>2018-05-22</td>\n",
       "      <td>06:19:00</td>\n",
       "      <td>06:29:00</td>\n",
       "      <td>Elizabeth Oswald</td>\n",
       "      <td>1</td>\n",
       "      <td>2.5 - 5 min</td>\n",
       "      <td>Visualization</td>\n",
       "      <td>&lt;= 50 Meters</td>\n",
       "      <td>False</td>\n",
       "      <td>Undetermined</td>\n",
       "      <td>Northern Mockingbird</td>\n",
       "      <td>Mimus polyglottos</td>\n",
       "      <td>178620.0</td>\n",
       "      <td>88394.0</td>\n",
       "      <td>NOMO</td>\n",
       "      <td>False</td>\n",
       "      <td>False</td>\n",
       "      <td>19.9</td>\n",
       "      <td>79.400002</td>\n",
       "      <td>Cloudy/Overcast</td>\n",
       "      <td>Calm (&lt; 1 mph) smoke rises vertically</td>\n",
       "      <td>No effect on count</td>\n",
       "      <td>False</td>\n",
       "      <td>94228.0</td>\n",
       "      <td>False</td>\n",
       "      <td>2018-05-22 06:19:00</td>\n",
       "      <td>2018-05-22 06:29:00</td>\n",
       "      <td>6</td>\n",
       "      <td>6</td>\n",
       "      <td>06:19:00</td>\n",
       "      <td>06:29:00</td>\n",
       "      <td>0 days 00:10:00</td>\n",
       "      <td>0.166667</td>\n",
       "      <td>5</td>\n",
       "      <td>22</td>\n",
       "      <td>Tuesday</td>\n",
       "      <td>21</td>\n",
       "      <td>Spring</td>\n",
       "    </tr>\n",
       "  </tbody>\n",
       "</table>\n",
       "</div>"
      ],
      "text/plain": [
       "  Admin_Unit_Code Site_Name  Plot_Name Location_Type  Year       Date  \\\n",
       "0            ANTI    ANTI 1  ANTI-0036        Forest  2018 2018-05-22   \n",
       "1            ANTI    ANTI 1  ANTI-0036        Forest  2018 2018-05-22   \n",
       "2            ANTI    ANTI 1  ANTI-0036        Forest  2018 2018-05-22   \n",
       "3            ANTI    ANTI 1  ANTI-0036        Forest  2018 2018-05-22   \n",
       "4            ANTI    ANTI 1  ANTI-0036        Forest  2018 2018-05-22   \n",
       "\n",
       "  Start_Time  End_Time          Observer  Visit Interval_Length  \\\n",
       "0   06:19:00  06:29:00  Elizabeth Oswald      1       0-2.5 min   \n",
       "1   06:19:00  06:29:00  Elizabeth Oswald      1       0-2.5 min   \n",
       "2   06:19:00  06:29:00  Elizabeth Oswald      1     2.5 - 5 min   \n",
       "3   06:19:00  06:29:00  Elizabeth Oswald      1     2.5 - 5 min   \n",
       "4   06:19:00  06:29:00  Elizabeth Oswald      1     2.5 - 5 min   \n",
       "\n",
       "       ID_Method         Distance  Flyover_Observed           Sex  \\\n",
       "0        Singing     <= 50 Meters             False  Undetermined   \n",
       "1        Calling     <= 50 Meters             False  Undetermined   \n",
       "2        Calling  50 - 100 Meters             False  Undetermined   \n",
       "3        Singing     <= 50 Meters             False  Undetermined   \n",
       "4  Visualization     <= 50 Meters             False  Undetermined   \n",
       "\n",
       "               Common_Name          Scientific_Name  AcceptedTSN  \\\n",
       "0           Eastern Towhee  Pipilo erythrophthalmus     179276.0   \n",
       "1  White-breasted Nuthatch       Sitta carolinensis     178775.0   \n",
       "2   Red-bellied Woodpecker     Melanerpes carolinus     178195.0   \n",
       "3           Orchard Oriole          Icterus spurius     179064.0   \n",
       "4     Northern Mockingbird        Mimus polyglottos     178620.0   \n",
       "\n",
       "   NPSTaxonCode AOU_Code  PIF_Watchlist_Status  Regional_Stewardship_Status  \\\n",
       "0       83803.0     EATO                 False                         True   \n",
       "1       90935.0     WBNU                 False                        False   \n",
       "2       84865.0     RBWO                 False                        False   \n",
       "3       93634.0     OROR                 False                        False   \n",
       "4       88394.0     NOMO                 False                        False   \n",
       "\n",
       "   Temperature   Humidity              Sky  \\\n",
       "0         19.9  79.400002  Cloudy/Overcast   \n",
       "1         19.9  79.400002  Cloudy/Overcast   \n",
       "2         19.9  79.400002  Cloudy/Overcast   \n",
       "3         19.9  79.400002  Cloudy/Overcast   \n",
       "4         19.9  79.400002  Cloudy/Overcast   \n",
       "\n",
       "                                    Wind         Disturbance  \\\n",
       "0  Calm (< 1 mph) smoke rises vertically  No effect on count   \n",
       "1  Calm (< 1 mph) smoke rises vertically  No effect on count   \n",
       "2  Calm (< 1 mph) smoke rises vertically  No effect on count   \n",
       "3  Calm (< 1 mph) smoke rises vertically  No effect on count   \n",
       "4  Calm (< 1 mph) smoke rises vertically  No effect on count   \n",
       "\n",
       "   Initial_Three_Min_Cnt  TaxonCode  Previously_Obs     Start_Timestamp  \\\n",
       "0                   True    94228.0           False 2018-05-22 06:19:00   \n",
       "1                   True    94228.0           False 2018-05-22 06:19:00   \n",
       "2                  False    94228.0           False 2018-05-22 06:19:00   \n",
       "3                  False    94228.0           False 2018-05-22 06:19:00   \n",
       "4                  False    94228.0           False 2018-05-22 06:19:00   \n",
       "\n",
       "        End_Timestamp  Start_Hour  End_Hour Start_Time_Only End_Time_Only  \\\n",
       "0 2018-05-22 06:29:00           6         6        06:19:00      06:29:00   \n",
       "1 2018-05-22 06:29:00           6         6        06:19:00      06:29:00   \n",
       "2 2018-05-22 06:29:00           6         6        06:19:00      06:29:00   \n",
       "3 2018-05-22 06:29:00           6         6        06:19:00      06:29:00   \n",
       "4 2018-05-22 06:29:00           6         6        06:19:00      06:29:00   \n",
       "\n",
       "         Duration  Duration_Hours  Month  Dates WeekDay_Name  iso  Season  \n",
       "0 0 days 00:10:00        0.166667      5     22      Tuesday   21  Spring  \n",
       "1 0 days 00:10:00        0.166667      5     22      Tuesday   21  Spring  \n",
       "2 0 days 00:10:00        0.166667      5     22      Tuesday   21  Spring  \n",
       "3 0 days 00:10:00        0.166667      5     22      Tuesday   21  Spring  \n",
       "4 0 days 00:10:00        0.166667      5     22      Tuesday   21  Spring  "
      ]
     },
     "execution_count": 128,
     "metadata": {},
     "output_type": "execute_result"
    }
   ],
   "source": [
    "UnCleaned_Combined_land_type['TaxonCode'] = UnCleaned_Combined_land_type['TaxonCode'].fillna(UnCleaned_Combined_land_type['TaxonCode'].mode()[0])\n",
    "UnCleaned_Combined_land_type.head()"
   ]
  },
  {
   "cell_type": "code",
   "execution_count": 130,
   "id": "47098352",
   "metadata": {},
   "outputs": [
    {
     "data": {
      "text/plain": [
       "TaxonCode\n",
       "94228.0    9111\n",
       "86204.0     516\n",
       "84790.0     506\n",
       "94257.0     485\n",
       "83867.0     382\n",
       "Name: count, dtype: int64"
      ]
     },
     "execution_count": 130,
     "metadata": {},
     "output_type": "execute_result"
    }
   ],
   "source": [
    "# Count with NaN included\n",
    "TaxonCode = UnCleaned_Combined_land_type['TaxonCode'].value_counts(dropna=False)\n",
    "TaxonCode.head()"
   ]
  },
  {
   "cell_type": "markdown",
   "id": "90895a08",
   "metadata": {},
   "source": [
    "- 3. Replacing the nan values in NPSTaxonCode column:"
   ]
  },
  {
   "cell_type": "code",
   "execution_count": 131,
   "id": "b0957f73",
   "metadata": {},
   "outputs": [
    {
     "data": {
      "text/plain": [
       "array([ 83803.,  90935.,  84865.,  93634.,  88394.,  94228., 264079.,\n",
       "        82737.,  84790.,  88350., 265876.,  85846.,  87106.,  94257.,\n",
       "       266957., 773778.,  87184.,  84936.,  84781.,  93655.,  85791.,\n",
       "        88038.,  88296.,  86252.,  95300.,  93613.,  84833.,  94215.,\n",
       "        93587., 263793.,  85824.,  85739.,  93573.,  85643.,  83867.,\n",
       "        87409.,  87156.,  87136.,  85813., 926917.,  89102.,  94206.,\n",
       "        88071.,  85757., 890949.,  86451., 773816.,  92689.,  84820.,\n",
       "        92746.,  87168., 773814.,  91012.,  91019.,  88306., 892360.,\n",
       "        89979.,  89977.,  92708., 773819.,  87112.,  77836.,  84438.,\n",
       "        83980., 890944.,  93589.,  79572., 265874., 773765.,  76625.,\n",
       "       773822.,  84416.,  82956.,  93552., 890952.,  85638.,  83419.,\n",
       "        87098.,  77770.,  87404.,  83884.,  83046.,  92700.,  81838.,\n",
       "        79476.,  92730., 892161.,  86204.,  86194.,  84754.,  79468.,\n",
       "        81854.,  93601.,  87177., 890945., 890943., 890946., 816311.,\n",
       "       773818., 773779., 774021.,  88076.,  77646.,  85755., 773768.,\n",
       "       773770.,  84855.,  79563.,     nan])"
      ]
     },
     "execution_count": 131,
     "metadata": {},
     "output_type": "execute_result"
    }
   ],
   "source": [
    "UnCleaned_Combined_land_type['NPSTaxonCode'].unique()"
   ]
  },
  {
   "cell_type": "code",
   "execution_count": 132,
   "id": "76a8ae50",
   "metadata": {},
   "outputs": [
    {
     "data": {
      "text/html": [
       "<div>\n",
       "<style scoped>\n",
       "    .dataframe tbody tr th:only-of-type {\n",
       "        vertical-align: middle;\n",
       "    }\n",
       "\n",
       "    .dataframe tbody tr th {\n",
       "        vertical-align: top;\n",
       "    }\n",
       "\n",
       "    .dataframe thead th {\n",
       "        text-align: right;\n",
       "    }\n",
       "</style>\n",
       "<table border=\"1\" class=\"dataframe\">\n",
       "  <thead>\n",
       "    <tr style=\"text-align: right;\">\n",
       "      <th></th>\n",
       "      <th>NPSTaxonCode</th>\n",
       "      <th>count</th>\n",
       "    </tr>\n",
       "  </thead>\n",
       "  <tbody>\n",
       "    <tr>\n",
       "      <th>0</th>\n",
       "      <td>NaN</td>\n",
       "      <td>8531</td>\n",
       "    </tr>\n",
       "    <tr>\n",
       "      <th>1</th>\n",
       "      <td>93587.0</td>\n",
       "      <td>694</td>\n",
       "    </tr>\n",
       "    <tr>\n",
       "      <th>2</th>\n",
       "      <td>88350.0</td>\n",
       "      <td>646</td>\n",
       "    </tr>\n",
       "    <tr>\n",
       "      <th>3</th>\n",
       "      <td>94228.0</td>\n",
       "      <td>595</td>\n",
       "    </tr>\n",
       "    <tr>\n",
       "      <th>4</th>\n",
       "      <td>266957.0</td>\n",
       "      <td>541</td>\n",
       "    </tr>\n",
       "  </tbody>\n",
       "</table>\n",
       "</div>"
      ],
      "text/plain": [
       "   NPSTaxonCode  count\n",
       "0           NaN   8531\n",
       "1       93587.0    694\n",
       "2       88350.0    646\n",
       "3       94228.0    595\n",
       "4      266957.0    541"
      ]
     },
     "execution_count": 132,
     "metadata": {},
     "output_type": "execute_result"
    }
   ],
   "source": [
    "# Count with NaN included\n",
    "NPSTaxonCode = UnCleaned_Combined_land_type['NPSTaxonCode'].value_counts(dropna=False).reset_index()\n",
    "NPSTaxonCode.head()"
   ]
  },
  {
   "cell_type": "code",
   "execution_count": 133,
   "id": "88256840",
   "metadata": {},
   "outputs": [
    {
     "name": "stdout",
     "output_type": "stream",
     "text": [
      "<class 'pandas.core.series.Series'>\n",
      "RangeIndex: 17077 entries, 0 to 17076\n",
      "Series name: NPSTaxonCode\n",
      "Non-Null Count  Dtype  \n",
      "--------------  -----  \n",
      "8546 non-null   float64\n",
      "dtypes: float64(1)\n",
      "memory usage: 133.5 KB\n"
     ]
    }
   ],
   "source": [
    "UnCleaned_Combined_land_type['NPSTaxonCode'].info()"
   ]
  },
  {
   "cell_type": "code",
   "execution_count": 134,
   "id": "4d256643",
   "metadata": {},
   "outputs": [
    {
     "data": {
      "text/plain": [
       "np.float64(93587.0)"
      ]
     },
     "execution_count": 134,
     "metadata": {},
     "output_type": "execute_result"
    }
   ],
   "source": [
    "UnCleaned_Combined_land_type['NPSTaxonCode'].mode()[0]"
   ]
  },
  {
   "cell_type": "code",
   "execution_count": 135,
   "id": "9c83b539",
   "metadata": {},
   "outputs": [
    {
     "data": {
      "text/html": [
       "<div>\n",
       "<style scoped>\n",
       "    .dataframe tbody tr th:only-of-type {\n",
       "        vertical-align: middle;\n",
       "    }\n",
       "\n",
       "    .dataframe tbody tr th {\n",
       "        vertical-align: top;\n",
       "    }\n",
       "\n",
       "    .dataframe thead th {\n",
       "        text-align: right;\n",
       "    }\n",
       "</style>\n",
       "<table border=\"1\" class=\"dataframe\">\n",
       "  <thead>\n",
       "    <tr style=\"text-align: right;\">\n",
       "      <th></th>\n",
       "      <th>Admin_Unit_Code</th>\n",
       "      <th>Site_Name</th>\n",
       "      <th>Plot_Name</th>\n",
       "      <th>Location_Type</th>\n",
       "      <th>Year</th>\n",
       "      <th>Date</th>\n",
       "      <th>Start_Time</th>\n",
       "      <th>End_Time</th>\n",
       "      <th>Observer</th>\n",
       "      <th>Visit</th>\n",
       "      <th>Interval_Length</th>\n",
       "      <th>ID_Method</th>\n",
       "      <th>Distance</th>\n",
       "      <th>Flyover_Observed</th>\n",
       "      <th>Sex</th>\n",
       "      <th>Common_Name</th>\n",
       "      <th>Scientific_Name</th>\n",
       "      <th>AcceptedTSN</th>\n",
       "      <th>NPSTaxonCode</th>\n",
       "      <th>AOU_Code</th>\n",
       "      <th>PIF_Watchlist_Status</th>\n",
       "      <th>Regional_Stewardship_Status</th>\n",
       "      <th>Temperature</th>\n",
       "      <th>Humidity</th>\n",
       "      <th>Sky</th>\n",
       "      <th>Wind</th>\n",
       "      <th>Disturbance</th>\n",
       "      <th>Initial_Three_Min_Cnt</th>\n",
       "      <th>TaxonCode</th>\n",
       "      <th>Previously_Obs</th>\n",
       "      <th>Start_Timestamp</th>\n",
       "      <th>End_Timestamp</th>\n",
       "      <th>Start_Hour</th>\n",
       "      <th>End_Hour</th>\n",
       "      <th>Start_Time_Only</th>\n",
       "      <th>End_Time_Only</th>\n",
       "      <th>Duration</th>\n",
       "      <th>Duration_Hours</th>\n",
       "      <th>Month</th>\n",
       "      <th>Dates</th>\n",
       "      <th>WeekDay_Name</th>\n",
       "      <th>iso</th>\n",
       "      <th>Season</th>\n",
       "    </tr>\n",
       "  </thead>\n",
       "  <tbody>\n",
       "    <tr>\n",
       "      <th>0</th>\n",
       "      <td>ANTI</td>\n",
       "      <td>ANTI 1</td>\n",
       "      <td>ANTI-0036</td>\n",
       "      <td>Forest</td>\n",
       "      <td>2018</td>\n",
       "      <td>2018-05-22</td>\n",
       "      <td>06:19:00</td>\n",
       "      <td>06:29:00</td>\n",
       "      <td>Elizabeth Oswald</td>\n",
       "      <td>1</td>\n",
       "      <td>0-2.5 min</td>\n",
       "      <td>Singing</td>\n",
       "      <td>&lt;= 50 Meters</td>\n",
       "      <td>False</td>\n",
       "      <td>Undetermined</td>\n",
       "      <td>Eastern Towhee</td>\n",
       "      <td>Pipilo erythrophthalmus</td>\n",
       "      <td>179276.0</td>\n",
       "      <td>83803.0</td>\n",
       "      <td>EATO</td>\n",
       "      <td>False</td>\n",
       "      <td>True</td>\n",
       "      <td>19.9</td>\n",
       "      <td>79.400002</td>\n",
       "      <td>Cloudy/Overcast</td>\n",
       "      <td>Calm (&lt; 1 mph) smoke rises vertically</td>\n",
       "      <td>No effect on count</td>\n",
       "      <td>True</td>\n",
       "      <td>94228.0</td>\n",
       "      <td>False</td>\n",
       "      <td>2018-05-22 06:19:00</td>\n",
       "      <td>2018-05-22 06:29:00</td>\n",
       "      <td>6</td>\n",
       "      <td>6</td>\n",
       "      <td>06:19:00</td>\n",
       "      <td>06:29:00</td>\n",
       "      <td>0 days 00:10:00</td>\n",
       "      <td>0.166667</td>\n",
       "      <td>5</td>\n",
       "      <td>22</td>\n",
       "      <td>Tuesday</td>\n",
       "      <td>21</td>\n",
       "      <td>Spring</td>\n",
       "    </tr>\n",
       "    <tr>\n",
       "      <th>1</th>\n",
       "      <td>ANTI</td>\n",
       "      <td>ANTI 1</td>\n",
       "      <td>ANTI-0036</td>\n",
       "      <td>Forest</td>\n",
       "      <td>2018</td>\n",
       "      <td>2018-05-22</td>\n",
       "      <td>06:19:00</td>\n",
       "      <td>06:29:00</td>\n",
       "      <td>Elizabeth Oswald</td>\n",
       "      <td>1</td>\n",
       "      <td>0-2.5 min</td>\n",
       "      <td>Calling</td>\n",
       "      <td>&lt;= 50 Meters</td>\n",
       "      <td>False</td>\n",
       "      <td>Undetermined</td>\n",
       "      <td>White-breasted Nuthatch</td>\n",
       "      <td>Sitta carolinensis</td>\n",
       "      <td>178775.0</td>\n",
       "      <td>90935.0</td>\n",
       "      <td>WBNU</td>\n",
       "      <td>False</td>\n",
       "      <td>False</td>\n",
       "      <td>19.9</td>\n",
       "      <td>79.400002</td>\n",
       "      <td>Cloudy/Overcast</td>\n",
       "      <td>Calm (&lt; 1 mph) smoke rises vertically</td>\n",
       "      <td>No effect on count</td>\n",
       "      <td>True</td>\n",
       "      <td>94228.0</td>\n",
       "      <td>False</td>\n",
       "      <td>2018-05-22 06:19:00</td>\n",
       "      <td>2018-05-22 06:29:00</td>\n",
       "      <td>6</td>\n",
       "      <td>6</td>\n",
       "      <td>06:19:00</td>\n",
       "      <td>06:29:00</td>\n",
       "      <td>0 days 00:10:00</td>\n",
       "      <td>0.166667</td>\n",
       "      <td>5</td>\n",
       "      <td>22</td>\n",
       "      <td>Tuesday</td>\n",
       "      <td>21</td>\n",
       "      <td>Spring</td>\n",
       "    </tr>\n",
       "    <tr>\n",
       "      <th>2</th>\n",
       "      <td>ANTI</td>\n",
       "      <td>ANTI 1</td>\n",
       "      <td>ANTI-0036</td>\n",
       "      <td>Forest</td>\n",
       "      <td>2018</td>\n",
       "      <td>2018-05-22</td>\n",
       "      <td>06:19:00</td>\n",
       "      <td>06:29:00</td>\n",
       "      <td>Elizabeth Oswald</td>\n",
       "      <td>1</td>\n",
       "      <td>2.5 - 5 min</td>\n",
       "      <td>Calling</td>\n",
       "      <td>50 - 100 Meters</td>\n",
       "      <td>False</td>\n",
       "      <td>Undetermined</td>\n",
       "      <td>Red-bellied Woodpecker</td>\n",
       "      <td>Melanerpes carolinus</td>\n",
       "      <td>178195.0</td>\n",
       "      <td>84865.0</td>\n",
       "      <td>RBWO</td>\n",
       "      <td>False</td>\n",
       "      <td>False</td>\n",
       "      <td>19.9</td>\n",
       "      <td>79.400002</td>\n",
       "      <td>Cloudy/Overcast</td>\n",
       "      <td>Calm (&lt; 1 mph) smoke rises vertically</td>\n",
       "      <td>No effect on count</td>\n",
       "      <td>False</td>\n",
       "      <td>94228.0</td>\n",
       "      <td>False</td>\n",
       "      <td>2018-05-22 06:19:00</td>\n",
       "      <td>2018-05-22 06:29:00</td>\n",
       "      <td>6</td>\n",
       "      <td>6</td>\n",
       "      <td>06:19:00</td>\n",
       "      <td>06:29:00</td>\n",
       "      <td>0 days 00:10:00</td>\n",
       "      <td>0.166667</td>\n",
       "      <td>5</td>\n",
       "      <td>22</td>\n",
       "      <td>Tuesday</td>\n",
       "      <td>21</td>\n",
       "      <td>Spring</td>\n",
       "    </tr>\n",
       "    <tr>\n",
       "      <th>3</th>\n",
       "      <td>ANTI</td>\n",
       "      <td>ANTI 1</td>\n",
       "      <td>ANTI-0036</td>\n",
       "      <td>Forest</td>\n",
       "      <td>2018</td>\n",
       "      <td>2018-05-22</td>\n",
       "      <td>06:19:00</td>\n",
       "      <td>06:29:00</td>\n",
       "      <td>Elizabeth Oswald</td>\n",
       "      <td>1</td>\n",
       "      <td>2.5 - 5 min</td>\n",
       "      <td>Singing</td>\n",
       "      <td>&lt;= 50 Meters</td>\n",
       "      <td>False</td>\n",
       "      <td>Undetermined</td>\n",
       "      <td>Orchard Oriole</td>\n",
       "      <td>Icterus spurius</td>\n",
       "      <td>179064.0</td>\n",
       "      <td>93634.0</td>\n",
       "      <td>OROR</td>\n",
       "      <td>False</td>\n",
       "      <td>False</td>\n",
       "      <td>19.9</td>\n",
       "      <td>79.400002</td>\n",
       "      <td>Cloudy/Overcast</td>\n",
       "      <td>Calm (&lt; 1 mph) smoke rises vertically</td>\n",
       "      <td>No effect on count</td>\n",
       "      <td>False</td>\n",
       "      <td>94228.0</td>\n",
       "      <td>False</td>\n",
       "      <td>2018-05-22 06:19:00</td>\n",
       "      <td>2018-05-22 06:29:00</td>\n",
       "      <td>6</td>\n",
       "      <td>6</td>\n",
       "      <td>06:19:00</td>\n",
       "      <td>06:29:00</td>\n",
       "      <td>0 days 00:10:00</td>\n",
       "      <td>0.166667</td>\n",
       "      <td>5</td>\n",
       "      <td>22</td>\n",
       "      <td>Tuesday</td>\n",
       "      <td>21</td>\n",
       "      <td>Spring</td>\n",
       "    </tr>\n",
       "    <tr>\n",
       "      <th>4</th>\n",
       "      <td>ANTI</td>\n",
       "      <td>ANTI 1</td>\n",
       "      <td>ANTI-0036</td>\n",
       "      <td>Forest</td>\n",
       "      <td>2018</td>\n",
       "      <td>2018-05-22</td>\n",
       "      <td>06:19:00</td>\n",
       "      <td>06:29:00</td>\n",
       "      <td>Elizabeth Oswald</td>\n",
       "      <td>1</td>\n",
       "      <td>2.5 - 5 min</td>\n",
       "      <td>Visualization</td>\n",
       "      <td>&lt;= 50 Meters</td>\n",
       "      <td>False</td>\n",
       "      <td>Undetermined</td>\n",
       "      <td>Northern Mockingbird</td>\n",
       "      <td>Mimus polyglottos</td>\n",
       "      <td>178620.0</td>\n",
       "      <td>88394.0</td>\n",
       "      <td>NOMO</td>\n",
       "      <td>False</td>\n",
       "      <td>False</td>\n",
       "      <td>19.9</td>\n",
       "      <td>79.400002</td>\n",
       "      <td>Cloudy/Overcast</td>\n",
       "      <td>Calm (&lt; 1 mph) smoke rises vertically</td>\n",
       "      <td>No effect on count</td>\n",
       "      <td>False</td>\n",
       "      <td>94228.0</td>\n",
       "      <td>False</td>\n",
       "      <td>2018-05-22 06:19:00</td>\n",
       "      <td>2018-05-22 06:29:00</td>\n",
       "      <td>6</td>\n",
       "      <td>6</td>\n",
       "      <td>06:19:00</td>\n",
       "      <td>06:29:00</td>\n",
       "      <td>0 days 00:10:00</td>\n",
       "      <td>0.166667</td>\n",
       "      <td>5</td>\n",
       "      <td>22</td>\n",
       "      <td>Tuesday</td>\n",
       "      <td>21</td>\n",
       "      <td>Spring</td>\n",
       "    </tr>\n",
       "  </tbody>\n",
       "</table>\n",
       "</div>"
      ],
      "text/plain": [
       "  Admin_Unit_Code Site_Name  Plot_Name Location_Type  Year       Date  \\\n",
       "0            ANTI    ANTI 1  ANTI-0036        Forest  2018 2018-05-22   \n",
       "1            ANTI    ANTI 1  ANTI-0036        Forest  2018 2018-05-22   \n",
       "2            ANTI    ANTI 1  ANTI-0036        Forest  2018 2018-05-22   \n",
       "3            ANTI    ANTI 1  ANTI-0036        Forest  2018 2018-05-22   \n",
       "4            ANTI    ANTI 1  ANTI-0036        Forest  2018 2018-05-22   \n",
       "\n",
       "  Start_Time  End_Time          Observer  Visit Interval_Length  \\\n",
       "0   06:19:00  06:29:00  Elizabeth Oswald      1       0-2.5 min   \n",
       "1   06:19:00  06:29:00  Elizabeth Oswald      1       0-2.5 min   \n",
       "2   06:19:00  06:29:00  Elizabeth Oswald      1     2.5 - 5 min   \n",
       "3   06:19:00  06:29:00  Elizabeth Oswald      1     2.5 - 5 min   \n",
       "4   06:19:00  06:29:00  Elizabeth Oswald      1     2.5 - 5 min   \n",
       "\n",
       "       ID_Method         Distance  Flyover_Observed           Sex  \\\n",
       "0        Singing     <= 50 Meters             False  Undetermined   \n",
       "1        Calling     <= 50 Meters             False  Undetermined   \n",
       "2        Calling  50 - 100 Meters             False  Undetermined   \n",
       "3        Singing     <= 50 Meters             False  Undetermined   \n",
       "4  Visualization     <= 50 Meters             False  Undetermined   \n",
       "\n",
       "               Common_Name          Scientific_Name  AcceptedTSN  \\\n",
       "0           Eastern Towhee  Pipilo erythrophthalmus     179276.0   \n",
       "1  White-breasted Nuthatch       Sitta carolinensis     178775.0   \n",
       "2   Red-bellied Woodpecker     Melanerpes carolinus     178195.0   \n",
       "3           Orchard Oriole          Icterus spurius     179064.0   \n",
       "4     Northern Mockingbird        Mimus polyglottos     178620.0   \n",
       "\n",
       "   NPSTaxonCode AOU_Code  PIF_Watchlist_Status  Regional_Stewardship_Status  \\\n",
       "0       83803.0     EATO                 False                         True   \n",
       "1       90935.0     WBNU                 False                        False   \n",
       "2       84865.0     RBWO                 False                        False   \n",
       "3       93634.0     OROR                 False                        False   \n",
       "4       88394.0     NOMO                 False                        False   \n",
       "\n",
       "   Temperature   Humidity              Sky  \\\n",
       "0         19.9  79.400002  Cloudy/Overcast   \n",
       "1         19.9  79.400002  Cloudy/Overcast   \n",
       "2         19.9  79.400002  Cloudy/Overcast   \n",
       "3         19.9  79.400002  Cloudy/Overcast   \n",
       "4         19.9  79.400002  Cloudy/Overcast   \n",
       "\n",
       "                                    Wind         Disturbance  \\\n",
       "0  Calm (< 1 mph) smoke rises vertically  No effect on count   \n",
       "1  Calm (< 1 mph) smoke rises vertically  No effect on count   \n",
       "2  Calm (< 1 mph) smoke rises vertically  No effect on count   \n",
       "3  Calm (< 1 mph) smoke rises vertically  No effect on count   \n",
       "4  Calm (< 1 mph) smoke rises vertically  No effect on count   \n",
       "\n",
       "   Initial_Three_Min_Cnt  TaxonCode  Previously_Obs     Start_Timestamp  \\\n",
       "0                   True    94228.0           False 2018-05-22 06:19:00   \n",
       "1                   True    94228.0           False 2018-05-22 06:19:00   \n",
       "2                  False    94228.0           False 2018-05-22 06:19:00   \n",
       "3                  False    94228.0           False 2018-05-22 06:19:00   \n",
       "4                  False    94228.0           False 2018-05-22 06:19:00   \n",
       "\n",
       "        End_Timestamp  Start_Hour  End_Hour Start_Time_Only End_Time_Only  \\\n",
       "0 2018-05-22 06:29:00           6         6        06:19:00      06:29:00   \n",
       "1 2018-05-22 06:29:00           6         6        06:19:00      06:29:00   \n",
       "2 2018-05-22 06:29:00           6         6        06:19:00      06:29:00   \n",
       "3 2018-05-22 06:29:00           6         6        06:19:00      06:29:00   \n",
       "4 2018-05-22 06:29:00           6         6        06:19:00      06:29:00   \n",
       "\n",
       "         Duration  Duration_Hours  Month  Dates WeekDay_Name  iso  Season  \n",
       "0 0 days 00:10:00        0.166667      5     22      Tuesday   21  Spring  \n",
       "1 0 days 00:10:00        0.166667      5     22      Tuesday   21  Spring  \n",
       "2 0 days 00:10:00        0.166667      5     22      Tuesday   21  Spring  \n",
       "3 0 days 00:10:00        0.166667      5     22      Tuesday   21  Spring  \n",
       "4 0 days 00:10:00        0.166667      5     22      Tuesday   21  Spring  "
      ]
     },
     "execution_count": 135,
     "metadata": {},
     "output_type": "execute_result"
    }
   ],
   "source": [
    "UnCleaned_Combined_land_type['NPSTaxonCode'] = UnCleaned_Combined_land_type['NPSTaxonCode'].fillna(UnCleaned_Combined_land_type['NPSTaxonCode'].mode()[0])\n",
    "UnCleaned_Combined_land_type.head()"
   ]
  },
  {
   "cell_type": "code",
   "execution_count": 136,
   "id": "05830ed7",
   "metadata": {},
   "outputs": [
    {
     "data": {
      "text/plain": [
       "NPSTaxonCode\n",
       "93587.0     9225\n",
       "88350.0      646\n",
       "94228.0      595\n",
       "266957.0     541\n",
       "85846.0      486\n",
       "Name: count, dtype: int64"
      ]
     },
     "execution_count": 136,
     "metadata": {},
     "output_type": "execute_result"
    }
   ],
   "source": [
    "# Count with NaN included\n",
    "NPSTaxonCode = UnCleaned_Combined_land_type['NPSTaxonCode'].value_counts(dropna=False)\n",
    "NPSTaxonCode.head()"
   ]
  },
  {
   "cell_type": "markdown",
   "id": "82286bcb",
   "metadata": {},
   "source": [
    "- 4. Replacing the nan values in Site_Name column:"
   ]
  },
  {
   "cell_type": "code",
   "execution_count": 140,
   "id": "053f1f32",
   "metadata": {},
   "outputs": [
    {
     "data": {
      "text/plain": [
       "array(['ANTI 1', 'ANTI 2', 'CATO 1', 'CATO 4', 'CATO 3', 'CATO 8',\n",
       "       'CATO 6', 'CATO 2', 'CATO 5', 'CATO 7', 'CHOH 1', 'CHOH 6',\n",
       "       'CHOH 8', 'CHOH 7', 'CHOH 10', 'CHOH 5', 'GWMP 2', 'GWMP 4',\n",
       "       'GWMP 3', 'CHOH 18', 'CHOH 12', 'CHOH 14', 'CHOH 11', 'CHOH 15',\n",
       "       'CHOH 16', 'CHOH 17', 'GWMP 5', 'GWMP 6', 'GWMP 1', 'HAFE 2',\n",
       "       'HAFE 1', 'HAFE 3', 'MANA 4', 'MANA 2', 'MANA 1', 'MANA 3',\n",
       "       'MONO 1', 'MONO 2', 'MONO 3', 'NACE 5', 'NACE 2', 'NACE 4b',\n",
       "       'NACE 4a', 'NACE 3', 'NACE 1', 'PRWI 6', 'PRWI 3', 'PRWI 1',\n",
       "       'PRWI 5', 'PRWI 7', 'PRWI 8', 'PRWI 12', 'PRWI 15', 'PRWI 9',\n",
       "       'PRWI 10', 'PRWI 22', 'PRWI 17', 'PRWI 11', 'PRWI 21', 'PRWI 20',\n",
       "       'PRWI 19', 'PRWI 14', 'PRWI 18', 'PRWI 13', 'PRWI 16', 'PRWI 2',\n",
       "       'PRWI 4', 'ROCR 2', 'ROCR 1', 'WOTR', nan], dtype=object)"
      ]
     },
     "execution_count": 140,
     "metadata": {},
     "output_type": "execute_result"
    }
   ],
   "source": [
    "UnCleaned_Combined_land_type['Site_Name'].unique()"
   ]
  },
  {
   "cell_type": "code",
   "execution_count": 141,
   "id": "01400fd5",
   "metadata": {},
   "outputs": [
    {
     "data": {
      "text/html": [
       "<div>\n",
       "<style scoped>\n",
       "    .dataframe tbody tr th:only-of-type {\n",
       "        vertical-align: middle;\n",
       "    }\n",
       "\n",
       "    .dataframe tbody tr th {\n",
       "        vertical-align: top;\n",
       "    }\n",
       "\n",
       "    .dataframe thead th {\n",
       "        text-align: right;\n",
       "    }\n",
       "</style>\n",
       "<table border=\"1\" class=\"dataframe\">\n",
       "  <thead>\n",
       "    <tr style=\"text-align: right;\">\n",
       "      <th></th>\n",
       "      <th>Site_Name</th>\n",
       "      <th>count</th>\n",
       "    </tr>\n",
       "  </thead>\n",
       "  <tbody>\n",
       "    <tr>\n",
       "      <th>0</th>\n",
       "      <td>NaN</td>\n",
       "      <td>8531</td>\n",
       "    </tr>\n",
       "    <tr>\n",
       "      <th>1</th>\n",
       "      <td>CHOH 1</td>\n",
       "      <td>420</td>\n",
       "    </tr>\n",
       "    <tr>\n",
       "      <th>2</th>\n",
       "      <td>CHOH 14</td>\n",
       "      <td>226</td>\n",
       "    </tr>\n",
       "    <tr>\n",
       "      <th>3</th>\n",
       "      <td>MONO 1</td>\n",
       "      <td>203</td>\n",
       "    </tr>\n",
       "    <tr>\n",
       "      <th>4</th>\n",
       "      <td>ANTI 1</td>\n",
       "      <td>182</td>\n",
       "    </tr>\n",
       "  </tbody>\n",
       "</table>\n",
       "</div>"
      ],
      "text/plain": [
       "  Site_Name  count\n",
       "0       NaN   8531\n",
       "1    CHOH 1    420\n",
       "2   CHOH 14    226\n",
       "3    MONO 1    203\n",
       "4    ANTI 1    182"
      ]
     },
     "execution_count": 141,
     "metadata": {},
     "output_type": "execute_result"
    }
   ],
   "source": [
    "# Count with NaN included\n",
    "TaxonCode = UnCleaned_Combined_land_type['Site_Name'].value_counts(dropna=False).reset_index()\n",
    "TaxonCode.head()"
   ]
  },
  {
   "cell_type": "code",
   "execution_count": 142,
   "id": "9407541a",
   "metadata": {},
   "outputs": [
    {
     "name": "stdout",
     "output_type": "stream",
     "text": [
      "<class 'pandas.core.series.Series'>\n",
      "RangeIndex: 17077 entries, 0 to 17076\n",
      "Series name: Site_Name\n",
      "Non-Null Count  Dtype \n",
      "--------------  ----- \n",
      "8546 non-null   object\n",
      "dtypes: object(1)\n",
      "memory usage: 133.5+ KB\n"
     ]
    }
   ],
   "source": [
    "UnCleaned_Combined_land_type['Site_Name'].info()"
   ]
  },
  {
   "cell_type": "code",
   "execution_count": 143,
   "id": "e60d37ff",
   "metadata": {},
   "outputs": [
    {
     "data": {
      "text/html": [
       "<div>\n",
       "<style scoped>\n",
       "    .dataframe tbody tr th:only-of-type {\n",
       "        vertical-align: middle;\n",
       "    }\n",
       "\n",
       "    .dataframe tbody tr th {\n",
       "        vertical-align: top;\n",
       "    }\n",
       "\n",
       "    .dataframe thead th {\n",
       "        text-align: right;\n",
       "    }\n",
       "</style>\n",
       "<table border=\"1\" class=\"dataframe\">\n",
       "  <thead>\n",
       "    <tr style=\"text-align: right;\">\n",
       "      <th></th>\n",
       "      <th>Admin_Unit_Code</th>\n",
       "      <th>Site_Name</th>\n",
       "      <th>Plot_Name</th>\n",
       "      <th>Location_Type</th>\n",
       "      <th>Year</th>\n",
       "      <th>Date</th>\n",
       "      <th>Start_Time</th>\n",
       "      <th>End_Time</th>\n",
       "      <th>Observer</th>\n",
       "      <th>Visit</th>\n",
       "      <th>Interval_Length</th>\n",
       "      <th>ID_Method</th>\n",
       "      <th>Distance</th>\n",
       "      <th>Flyover_Observed</th>\n",
       "      <th>Sex</th>\n",
       "      <th>Common_Name</th>\n",
       "      <th>Scientific_Name</th>\n",
       "      <th>AcceptedTSN</th>\n",
       "      <th>NPSTaxonCode</th>\n",
       "      <th>AOU_Code</th>\n",
       "      <th>PIF_Watchlist_Status</th>\n",
       "      <th>Regional_Stewardship_Status</th>\n",
       "      <th>Temperature</th>\n",
       "      <th>Humidity</th>\n",
       "      <th>Sky</th>\n",
       "      <th>Wind</th>\n",
       "      <th>Disturbance</th>\n",
       "      <th>Initial_Three_Min_Cnt</th>\n",
       "      <th>TaxonCode</th>\n",
       "      <th>Previously_Obs</th>\n",
       "      <th>Start_Timestamp</th>\n",
       "      <th>End_Timestamp</th>\n",
       "      <th>Start_Hour</th>\n",
       "      <th>End_Hour</th>\n",
       "      <th>Start_Time_Only</th>\n",
       "      <th>End_Time_Only</th>\n",
       "      <th>Duration</th>\n",
       "      <th>Duration_Hours</th>\n",
       "      <th>Month</th>\n",
       "      <th>Dates</th>\n",
       "      <th>WeekDay_Name</th>\n",
       "      <th>iso</th>\n",
       "      <th>Season</th>\n",
       "    </tr>\n",
       "  </thead>\n",
       "  <tbody>\n",
       "    <tr>\n",
       "      <th>0</th>\n",
       "      <td>ANTI</td>\n",
       "      <td>ANTI 1</td>\n",
       "      <td>ANTI-0036</td>\n",
       "      <td>Forest</td>\n",
       "      <td>2018</td>\n",
       "      <td>2018-05-22</td>\n",
       "      <td>06:19:00</td>\n",
       "      <td>06:29:00</td>\n",
       "      <td>Elizabeth Oswald</td>\n",
       "      <td>1</td>\n",
       "      <td>0-2.5 min</td>\n",
       "      <td>Singing</td>\n",
       "      <td>&lt;= 50 Meters</td>\n",
       "      <td>False</td>\n",
       "      <td>Undetermined</td>\n",
       "      <td>Eastern Towhee</td>\n",
       "      <td>Pipilo erythrophthalmus</td>\n",
       "      <td>179276.0</td>\n",
       "      <td>83803.0</td>\n",
       "      <td>EATO</td>\n",
       "      <td>False</td>\n",
       "      <td>True</td>\n",
       "      <td>19.9</td>\n",
       "      <td>79.400002</td>\n",
       "      <td>Cloudy/Overcast</td>\n",
       "      <td>Calm (&lt; 1 mph) smoke rises vertically</td>\n",
       "      <td>No effect on count</td>\n",
       "      <td>True</td>\n",
       "      <td>94228.0</td>\n",
       "      <td>False</td>\n",
       "      <td>2018-05-22 06:19:00</td>\n",
       "      <td>2018-05-22 06:29:00</td>\n",
       "      <td>6</td>\n",
       "      <td>6</td>\n",
       "      <td>06:19:00</td>\n",
       "      <td>06:29:00</td>\n",
       "      <td>0 days 00:10:00</td>\n",
       "      <td>0.166667</td>\n",
       "      <td>5</td>\n",
       "      <td>22</td>\n",
       "      <td>Tuesday</td>\n",
       "      <td>21</td>\n",
       "      <td>Spring</td>\n",
       "    </tr>\n",
       "    <tr>\n",
       "      <th>1</th>\n",
       "      <td>ANTI</td>\n",
       "      <td>ANTI 1</td>\n",
       "      <td>ANTI-0036</td>\n",
       "      <td>Forest</td>\n",
       "      <td>2018</td>\n",
       "      <td>2018-05-22</td>\n",
       "      <td>06:19:00</td>\n",
       "      <td>06:29:00</td>\n",
       "      <td>Elizabeth Oswald</td>\n",
       "      <td>1</td>\n",
       "      <td>0-2.5 min</td>\n",
       "      <td>Calling</td>\n",
       "      <td>&lt;= 50 Meters</td>\n",
       "      <td>False</td>\n",
       "      <td>Undetermined</td>\n",
       "      <td>White-breasted Nuthatch</td>\n",
       "      <td>Sitta carolinensis</td>\n",
       "      <td>178775.0</td>\n",
       "      <td>90935.0</td>\n",
       "      <td>WBNU</td>\n",
       "      <td>False</td>\n",
       "      <td>False</td>\n",
       "      <td>19.9</td>\n",
       "      <td>79.400002</td>\n",
       "      <td>Cloudy/Overcast</td>\n",
       "      <td>Calm (&lt; 1 mph) smoke rises vertically</td>\n",
       "      <td>No effect on count</td>\n",
       "      <td>True</td>\n",
       "      <td>94228.0</td>\n",
       "      <td>False</td>\n",
       "      <td>2018-05-22 06:19:00</td>\n",
       "      <td>2018-05-22 06:29:00</td>\n",
       "      <td>6</td>\n",
       "      <td>6</td>\n",
       "      <td>06:19:00</td>\n",
       "      <td>06:29:00</td>\n",
       "      <td>0 days 00:10:00</td>\n",
       "      <td>0.166667</td>\n",
       "      <td>5</td>\n",
       "      <td>22</td>\n",
       "      <td>Tuesday</td>\n",
       "      <td>21</td>\n",
       "      <td>Spring</td>\n",
       "    </tr>\n",
       "    <tr>\n",
       "      <th>2</th>\n",
       "      <td>ANTI</td>\n",
       "      <td>ANTI 1</td>\n",
       "      <td>ANTI-0036</td>\n",
       "      <td>Forest</td>\n",
       "      <td>2018</td>\n",
       "      <td>2018-05-22</td>\n",
       "      <td>06:19:00</td>\n",
       "      <td>06:29:00</td>\n",
       "      <td>Elizabeth Oswald</td>\n",
       "      <td>1</td>\n",
       "      <td>2.5 - 5 min</td>\n",
       "      <td>Calling</td>\n",
       "      <td>50 - 100 Meters</td>\n",
       "      <td>False</td>\n",
       "      <td>Undetermined</td>\n",
       "      <td>Red-bellied Woodpecker</td>\n",
       "      <td>Melanerpes carolinus</td>\n",
       "      <td>178195.0</td>\n",
       "      <td>84865.0</td>\n",
       "      <td>RBWO</td>\n",
       "      <td>False</td>\n",
       "      <td>False</td>\n",
       "      <td>19.9</td>\n",
       "      <td>79.400002</td>\n",
       "      <td>Cloudy/Overcast</td>\n",
       "      <td>Calm (&lt; 1 mph) smoke rises vertically</td>\n",
       "      <td>No effect on count</td>\n",
       "      <td>False</td>\n",
       "      <td>94228.0</td>\n",
       "      <td>False</td>\n",
       "      <td>2018-05-22 06:19:00</td>\n",
       "      <td>2018-05-22 06:29:00</td>\n",
       "      <td>6</td>\n",
       "      <td>6</td>\n",
       "      <td>06:19:00</td>\n",
       "      <td>06:29:00</td>\n",
       "      <td>0 days 00:10:00</td>\n",
       "      <td>0.166667</td>\n",
       "      <td>5</td>\n",
       "      <td>22</td>\n",
       "      <td>Tuesday</td>\n",
       "      <td>21</td>\n",
       "      <td>Spring</td>\n",
       "    </tr>\n",
       "    <tr>\n",
       "      <th>3</th>\n",
       "      <td>ANTI</td>\n",
       "      <td>ANTI 1</td>\n",
       "      <td>ANTI-0036</td>\n",
       "      <td>Forest</td>\n",
       "      <td>2018</td>\n",
       "      <td>2018-05-22</td>\n",
       "      <td>06:19:00</td>\n",
       "      <td>06:29:00</td>\n",
       "      <td>Elizabeth Oswald</td>\n",
       "      <td>1</td>\n",
       "      <td>2.5 - 5 min</td>\n",
       "      <td>Singing</td>\n",
       "      <td>&lt;= 50 Meters</td>\n",
       "      <td>False</td>\n",
       "      <td>Undetermined</td>\n",
       "      <td>Orchard Oriole</td>\n",
       "      <td>Icterus spurius</td>\n",
       "      <td>179064.0</td>\n",
       "      <td>93634.0</td>\n",
       "      <td>OROR</td>\n",
       "      <td>False</td>\n",
       "      <td>False</td>\n",
       "      <td>19.9</td>\n",
       "      <td>79.400002</td>\n",
       "      <td>Cloudy/Overcast</td>\n",
       "      <td>Calm (&lt; 1 mph) smoke rises vertically</td>\n",
       "      <td>No effect on count</td>\n",
       "      <td>False</td>\n",
       "      <td>94228.0</td>\n",
       "      <td>False</td>\n",
       "      <td>2018-05-22 06:19:00</td>\n",
       "      <td>2018-05-22 06:29:00</td>\n",
       "      <td>6</td>\n",
       "      <td>6</td>\n",
       "      <td>06:19:00</td>\n",
       "      <td>06:29:00</td>\n",
       "      <td>0 days 00:10:00</td>\n",
       "      <td>0.166667</td>\n",
       "      <td>5</td>\n",
       "      <td>22</td>\n",
       "      <td>Tuesday</td>\n",
       "      <td>21</td>\n",
       "      <td>Spring</td>\n",
       "    </tr>\n",
       "    <tr>\n",
       "      <th>4</th>\n",
       "      <td>ANTI</td>\n",
       "      <td>ANTI 1</td>\n",
       "      <td>ANTI-0036</td>\n",
       "      <td>Forest</td>\n",
       "      <td>2018</td>\n",
       "      <td>2018-05-22</td>\n",
       "      <td>06:19:00</td>\n",
       "      <td>06:29:00</td>\n",
       "      <td>Elizabeth Oswald</td>\n",
       "      <td>1</td>\n",
       "      <td>2.5 - 5 min</td>\n",
       "      <td>Visualization</td>\n",
       "      <td>&lt;= 50 Meters</td>\n",
       "      <td>False</td>\n",
       "      <td>Undetermined</td>\n",
       "      <td>Northern Mockingbird</td>\n",
       "      <td>Mimus polyglottos</td>\n",
       "      <td>178620.0</td>\n",
       "      <td>88394.0</td>\n",
       "      <td>NOMO</td>\n",
       "      <td>False</td>\n",
       "      <td>False</td>\n",
       "      <td>19.9</td>\n",
       "      <td>79.400002</td>\n",
       "      <td>Cloudy/Overcast</td>\n",
       "      <td>Calm (&lt; 1 mph) smoke rises vertically</td>\n",
       "      <td>No effect on count</td>\n",
       "      <td>False</td>\n",
       "      <td>94228.0</td>\n",
       "      <td>False</td>\n",
       "      <td>2018-05-22 06:19:00</td>\n",
       "      <td>2018-05-22 06:29:00</td>\n",
       "      <td>6</td>\n",
       "      <td>6</td>\n",
       "      <td>06:19:00</td>\n",
       "      <td>06:29:00</td>\n",
       "      <td>0 days 00:10:00</td>\n",
       "      <td>0.166667</td>\n",
       "      <td>5</td>\n",
       "      <td>22</td>\n",
       "      <td>Tuesday</td>\n",
       "      <td>21</td>\n",
       "      <td>Spring</td>\n",
       "    </tr>\n",
       "  </tbody>\n",
       "</table>\n",
       "</div>"
      ],
      "text/plain": [
       "  Admin_Unit_Code Site_Name  Plot_Name Location_Type  Year       Date  \\\n",
       "0            ANTI    ANTI 1  ANTI-0036        Forest  2018 2018-05-22   \n",
       "1            ANTI    ANTI 1  ANTI-0036        Forest  2018 2018-05-22   \n",
       "2            ANTI    ANTI 1  ANTI-0036        Forest  2018 2018-05-22   \n",
       "3            ANTI    ANTI 1  ANTI-0036        Forest  2018 2018-05-22   \n",
       "4            ANTI    ANTI 1  ANTI-0036        Forest  2018 2018-05-22   \n",
       "\n",
       "  Start_Time  End_Time          Observer  Visit Interval_Length  \\\n",
       "0   06:19:00  06:29:00  Elizabeth Oswald      1       0-2.5 min   \n",
       "1   06:19:00  06:29:00  Elizabeth Oswald      1       0-2.5 min   \n",
       "2   06:19:00  06:29:00  Elizabeth Oswald      1     2.5 - 5 min   \n",
       "3   06:19:00  06:29:00  Elizabeth Oswald      1     2.5 - 5 min   \n",
       "4   06:19:00  06:29:00  Elizabeth Oswald      1     2.5 - 5 min   \n",
       "\n",
       "       ID_Method         Distance  Flyover_Observed           Sex  \\\n",
       "0        Singing     <= 50 Meters             False  Undetermined   \n",
       "1        Calling     <= 50 Meters             False  Undetermined   \n",
       "2        Calling  50 - 100 Meters             False  Undetermined   \n",
       "3        Singing     <= 50 Meters             False  Undetermined   \n",
       "4  Visualization     <= 50 Meters             False  Undetermined   \n",
       "\n",
       "               Common_Name          Scientific_Name  AcceptedTSN  \\\n",
       "0           Eastern Towhee  Pipilo erythrophthalmus     179276.0   \n",
       "1  White-breasted Nuthatch       Sitta carolinensis     178775.0   \n",
       "2   Red-bellied Woodpecker     Melanerpes carolinus     178195.0   \n",
       "3           Orchard Oriole          Icterus spurius     179064.0   \n",
       "4     Northern Mockingbird        Mimus polyglottos     178620.0   \n",
       "\n",
       "   NPSTaxonCode AOU_Code  PIF_Watchlist_Status  Regional_Stewardship_Status  \\\n",
       "0       83803.0     EATO                 False                         True   \n",
       "1       90935.0     WBNU                 False                        False   \n",
       "2       84865.0     RBWO                 False                        False   \n",
       "3       93634.0     OROR                 False                        False   \n",
       "4       88394.0     NOMO                 False                        False   \n",
       "\n",
       "   Temperature   Humidity              Sky  \\\n",
       "0         19.9  79.400002  Cloudy/Overcast   \n",
       "1         19.9  79.400002  Cloudy/Overcast   \n",
       "2         19.9  79.400002  Cloudy/Overcast   \n",
       "3         19.9  79.400002  Cloudy/Overcast   \n",
       "4         19.9  79.400002  Cloudy/Overcast   \n",
       "\n",
       "                                    Wind         Disturbance  \\\n",
       "0  Calm (< 1 mph) smoke rises vertically  No effect on count   \n",
       "1  Calm (< 1 mph) smoke rises vertically  No effect on count   \n",
       "2  Calm (< 1 mph) smoke rises vertically  No effect on count   \n",
       "3  Calm (< 1 mph) smoke rises vertically  No effect on count   \n",
       "4  Calm (< 1 mph) smoke rises vertically  No effect on count   \n",
       "\n",
       "   Initial_Three_Min_Cnt  TaxonCode  Previously_Obs     Start_Timestamp  \\\n",
       "0                   True    94228.0           False 2018-05-22 06:19:00   \n",
       "1                   True    94228.0           False 2018-05-22 06:19:00   \n",
       "2                  False    94228.0           False 2018-05-22 06:19:00   \n",
       "3                  False    94228.0           False 2018-05-22 06:19:00   \n",
       "4                  False    94228.0           False 2018-05-22 06:19:00   \n",
       "\n",
       "        End_Timestamp  Start_Hour  End_Hour Start_Time_Only End_Time_Only  \\\n",
       "0 2018-05-22 06:29:00           6         6        06:19:00      06:29:00   \n",
       "1 2018-05-22 06:29:00           6         6        06:19:00      06:29:00   \n",
       "2 2018-05-22 06:29:00           6         6        06:19:00      06:29:00   \n",
       "3 2018-05-22 06:29:00           6         6        06:19:00      06:29:00   \n",
       "4 2018-05-22 06:29:00           6         6        06:19:00      06:29:00   \n",
       "\n",
       "         Duration  Duration_Hours  Month  Dates WeekDay_Name  iso  Season  \n",
       "0 0 days 00:10:00        0.166667      5     22      Tuesday   21  Spring  \n",
       "1 0 days 00:10:00        0.166667      5     22      Tuesday   21  Spring  \n",
       "2 0 days 00:10:00        0.166667      5     22      Tuesday   21  Spring  \n",
       "3 0 days 00:10:00        0.166667      5     22      Tuesday   21  Spring  \n",
       "4 0 days 00:10:00        0.166667      5     22      Tuesday   21  Spring  "
      ]
     },
     "execution_count": 143,
     "metadata": {},
     "output_type": "execute_result"
    }
   ],
   "source": [
    "UnCleaned_Combined_land_type['Site_Name'] = UnCleaned_Combined_land_type['Site_Name'].fillna('Grass')\n",
    "UnCleaned_Combined_land_type.head()"
   ]
  },
  {
   "cell_type": "code",
   "execution_count": 145,
   "id": "881e6ea2",
   "metadata": {},
   "outputs": [
    {
     "data": {
      "text/plain": [
       "Site_Name\n",
       "Grass      8531\n",
       "CHOH 1      420\n",
       "CHOH 14     226\n",
       "MONO 1      203\n",
       "ANTI 1      182\n",
       "Name: count, dtype: int64"
      ]
     },
     "execution_count": 145,
     "metadata": {},
     "output_type": "execute_result"
    }
   ],
   "source": [
    "# Count with NaN included\n",
    "Site_Name = UnCleaned_Combined_land_type['Site_Name'].value_counts(dropna=False)\n",
    "Site_Name.head()"
   ]
  },
  {
   "cell_type": "code",
   "execution_count": 149,
   "id": "1b2a060e",
   "metadata": {},
   "outputs": [
    {
     "data": {
      "text/plain": [
       "Admin_Unit_Code                0\n",
       "Site_Name                      0\n",
       "Plot_Name                      0\n",
       "Location_Type                  0\n",
       "Year                           0\n",
       "Date                           0\n",
       "Start_Time                     0\n",
       "End_Time                       0\n",
       "Observer                       0\n",
       "Visit                          0\n",
       "Interval_Length                0\n",
       "ID_Method                      0\n",
       "Distance                       0\n",
       "Flyover_Observed               0\n",
       "Sex                            0\n",
       "Common_Name                    0\n",
       "Scientific_Name                0\n",
       "AcceptedTSN                    0\n",
       "NPSTaxonCode                   0\n",
       "AOU_Code                       0\n",
       "PIF_Watchlist_Status           0\n",
       "Regional_Stewardship_Status    0\n",
       "Temperature                    0\n",
       "Humidity                       0\n",
       "Sky                            0\n",
       "Wind                           0\n",
       "Disturbance                    0\n",
       "Initial_Three_Min_Cnt          0\n",
       "TaxonCode                      0\n",
       "Previously_Obs                 0\n",
       "Start_Timestamp                0\n",
       "End_Timestamp                  0\n",
       "Start_Hour                     0\n",
       "End_Hour                       0\n",
       "Start_Time_Only                0\n",
       "End_Time_Only                  0\n",
       "Duration                       0\n",
       "Duration_Hours                 0\n",
       "Month                          0\n",
       "Dates                          0\n",
       "WeekDay_Name                   0\n",
       "iso                            0\n",
       "Season                         0\n",
       "dtype: int64"
      ]
     },
     "execution_count": 149,
     "metadata": {},
     "output_type": "execute_result"
    }
   ],
   "source": [
    "UnCleaned_Combined_land_type.isna().sum().sort_values(ascending=False)"
   ]
  },
  {
   "cell_type": "markdown",
   "id": "58e10441",
   "metadata": {},
   "source": [
    "**Saving the cleaned DataSet:**"
   ]
  },
  {
   "cell_type": "code",
   "execution_count": 150,
   "id": "055ff256",
   "metadata": {},
   "outputs": [],
   "source": [
    "# Create the directory if it doesn't exist\n",
    "output_dir = 'C:/Users/dhars/Downloads/Dhass/codeing/GUVI/2. MainBoot/4.Project_Code/Project2/Bird_Species_Observation/DataSet/CleanDataSet'\n",
    "os.makedirs(output_dir, exist_ok=True)\n",
    "\n",
    "# Now save the file\n",
    "UnCleaned_Combined_land_type.to_csv(os.path.join(output_dir, 'Cleaned_Combined_DataSet.csv'), index=False)"
   ]
  },
  {
   "cell_type": "code",
   "execution_count": 151,
   "id": "3a4494de",
   "metadata": {},
   "outputs": [
    {
     "name": "stdout",
     "output_type": "stream",
     "text": [
      "<class 'pandas.core.frame.DataFrame'>\n",
      "RangeIndex: 17077 entries, 0 to 17076\n",
      "Data columns (total 43 columns):\n",
      " #   Column                       Non-Null Count  Dtype  \n",
      "---  ------                       --------------  -----  \n",
      " 0   Admin_Unit_Code              17077 non-null  object \n",
      " 1   Site_Name                    17077 non-null  object \n",
      " 2   Plot_Name                    17077 non-null  object \n",
      " 3   Location_Type                17077 non-null  object \n",
      " 4   Year                         17077 non-null  int64  \n",
      " 5   Date                         17077 non-null  object \n",
      " 6   Start_Time                   17077 non-null  object \n",
      " 7   End_Time                     17077 non-null  object \n",
      " 8   Observer                     17077 non-null  object \n",
      " 9   Visit                        17077 non-null  int64  \n",
      " 10  Interval_Length              17077 non-null  object \n",
      " 11  ID_Method                    17077 non-null  object \n",
      " 12  Distance                     17077 non-null  object \n",
      " 13  Flyover_Observed             17077 non-null  bool   \n",
      " 14  Sex                          17077 non-null  object \n",
      " 15  Common_Name                  17077 non-null  object \n",
      " 16  Scientific_Name              17077 non-null  object \n",
      " 17  AcceptedTSN                  17077 non-null  float64\n",
      " 18  NPSTaxonCode                 17077 non-null  float64\n",
      " 19  AOU_Code                     17077 non-null  object \n",
      " 20  PIF_Watchlist_Status         17077 non-null  bool   \n",
      " 21  Regional_Stewardship_Status  17077 non-null  bool   \n",
      " 22  Temperature                  17077 non-null  float64\n",
      " 23  Humidity                     17077 non-null  float64\n",
      " 24  Sky                          17077 non-null  object \n",
      " 25  Wind                         17077 non-null  object \n",
      " 26  Disturbance                  17077 non-null  object \n",
      " 27  Initial_Three_Min_Cnt        17077 non-null  bool   \n",
      " 28  TaxonCode                    17077 non-null  float64\n",
      " 29  Previously_Obs               17077 non-null  bool   \n",
      " 30  Start_Timestamp              17077 non-null  object \n",
      " 31  End_Timestamp                17077 non-null  object \n",
      " 32  Start_Hour                   17077 non-null  int64  \n",
      " 33  End_Hour                     17077 non-null  int64  \n",
      " 34  Start_Time_Only              17077 non-null  object \n",
      " 35  End_Time_Only                17077 non-null  object \n",
      " 36  Duration                     17077 non-null  object \n",
      " 37  Duration_Hours               17077 non-null  float64\n",
      " 38  Month                        17077 non-null  int64  \n",
      " 39  Dates                        17077 non-null  int64  \n",
      " 40  WeekDay_Name                 17077 non-null  object \n",
      " 41  iso                          17077 non-null  int64  \n",
      " 42  Season                       17077 non-null  object \n",
      "dtypes: bool(5), float64(6), int64(7), object(25)\n",
      "memory usage: 5.0+ MB\n"
     ]
    }
   ],
   "source": [
    "Cleaned_Combined_DataSet=pd.read_csv(\"C:/Users/dhars/Downloads/Dhass/codeing/GUVI/2. MainBoot/4.Project_Code/Project2/Bird_Species_Observation/DataSet/CleanDataSet/Cleaned_Combined_DataSet.csv\")\n",
    "Cleaned_Combined_DataSet.info()"
   ]
  },
  {
   "cell_type": "markdown",
   "id": "78628a09",
   "metadata": {},
   "source": [
    "> *Location Insights: Group data by Location_Type (e.g., Forest + Grassland) to identify biodiversity hotspots?*"
   ]
  },
  {
   "cell_type": "code",
   "execution_count": 152,
   "id": "ce4efe4b",
   "metadata": {},
   "outputs": [
    {
     "data": {
      "text/html": [
       "<div>\n",
       "<style scoped>\n",
       "    .dataframe tbody tr th:only-of-type {\n",
       "        vertical-align: middle;\n",
       "    }\n",
       "\n",
       "    .dataframe tbody tr th {\n",
       "        vertical-align: top;\n",
       "    }\n",
       "\n",
       "    .dataframe thead th {\n",
       "        text-align: right;\n",
       "    }\n",
       "</style>\n",
       "<table border=\"1\" class=\"dataframe\">\n",
       "  <thead>\n",
       "    <tr style=\"text-align: right;\">\n",
       "      <th></th>\n",
       "      <th>Location_Type</th>\n",
       "      <th>Unique_Species_Count</th>\n",
       "    </tr>\n",
       "  </thead>\n",
       "  <tbody>\n",
       "    <tr>\n",
       "      <th>0</th>\n",
       "      <td>Forest</td>\n",
       "      <td>108</td>\n",
       "    </tr>\n",
       "    <tr>\n",
       "      <th>1</th>\n",
       "      <td>Grassland</td>\n",
       "      <td>107</td>\n",
       "    </tr>\n",
       "  </tbody>\n",
       "</table>\n",
       "</div>"
      ],
      "text/plain": [
       "  Location_Type  Unique_Species_Count\n",
       "0        Forest                   108\n",
       "1     Grassland                   107"
      ]
     },
     "execution_count": 152,
     "metadata": {},
     "output_type": "execute_result"
    }
   ],
   "source": [
    "# Group by Location_Type and count unique species\n",
    "biodiversity_hotspots = Cleaned_Combined_DataSet.groupby('Location_Type')['Common_Name'].nunique().reset_index()\n",
    "# biodiversity_hotspots\n",
    "\n",
    "# Rename the column for clarity\n",
    "biodiversity_hotspots.columns = ['Location_Type', 'Unique_Species_Count']\n",
    "biodiversity_hotspots"
   ]
  },
  {
   "cell_type": "code",
   "execution_count": 164,
   "id": "dda9e127",
   "metadata": {},
   "outputs": [
    {
     "data": {
      "application/vnd.plotly.v1+json": {
       "config": {
        "plotlyServerURL": "https://plot.ly"
       },
       "data": [
        {
         "domain": {
          "x": [
           0,
           1
          ],
          "y": [
           0,
           1
          ]
         },
         "hole": 0.8,
         "hovertemplate": "Location_Type=%{label}<br>Unique_Species_Count=%{value}<extra></extra>",
         "labels": [
          "Forest",
          "Grassland"
         ],
         "legendgroup": "",
         "name": "",
         "showlegend": true,
         "type": "pie",
         "values": {
          "bdata": "bGs=",
          "dtype": "i1"
         }
        }
       ],
       "layout": {
        "legend": {
         "tracegroupgap": 0
        },
        "margin": {
         "t": 60
        },
        "template": {
         "data": {
          "bar": [
           {
            "error_x": {
             "color": "#2a3f5f"
            },
            "error_y": {
             "color": "#2a3f5f"
            },
            "marker": {
             "line": {
              "color": "#E5ECF6",
              "width": 0.5
             },
             "pattern": {
              "fillmode": "overlay",
              "size": 10,
              "solidity": 0.2
             }
            },
            "type": "bar"
           }
          ],
          "barpolar": [
           {
            "marker": {
             "line": {
              "color": "#E5ECF6",
              "width": 0.5
             },
             "pattern": {
              "fillmode": "overlay",
              "size": 10,
              "solidity": 0.2
             }
            },
            "type": "barpolar"
           }
          ],
          "carpet": [
           {
            "aaxis": {
             "endlinecolor": "#2a3f5f",
             "gridcolor": "white",
             "linecolor": "white",
             "minorgridcolor": "white",
             "startlinecolor": "#2a3f5f"
            },
            "baxis": {
             "endlinecolor": "#2a3f5f",
             "gridcolor": "white",
             "linecolor": "white",
             "minorgridcolor": "white",
             "startlinecolor": "#2a3f5f"
            },
            "type": "carpet"
           }
          ],
          "choropleth": [
           {
            "colorbar": {
             "outlinewidth": 0,
             "ticks": ""
            },
            "type": "choropleth"
           }
          ],
          "contour": [
           {
            "colorbar": {
             "outlinewidth": 0,
             "ticks": ""
            },
            "colorscale": [
             [
              0,
              "#0d0887"
             ],
             [
              0.1111111111111111,
              "#46039f"
             ],
             [
              0.2222222222222222,
              "#7201a8"
             ],
             [
              0.3333333333333333,
              "#9c179e"
             ],
             [
              0.4444444444444444,
              "#bd3786"
             ],
             [
              0.5555555555555556,
              "#d8576b"
             ],
             [
              0.6666666666666666,
              "#ed7953"
             ],
             [
              0.7777777777777778,
              "#fb9f3a"
             ],
             [
              0.8888888888888888,
              "#fdca26"
             ],
             [
              1,
              "#f0f921"
             ]
            ],
            "type": "contour"
           }
          ],
          "contourcarpet": [
           {
            "colorbar": {
             "outlinewidth": 0,
             "ticks": ""
            },
            "type": "contourcarpet"
           }
          ],
          "heatmap": [
           {
            "colorbar": {
             "outlinewidth": 0,
             "ticks": ""
            },
            "colorscale": [
             [
              0,
              "#0d0887"
             ],
             [
              0.1111111111111111,
              "#46039f"
             ],
             [
              0.2222222222222222,
              "#7201a8"
             ],
             [
              0.3333333333333333,
              "#9c179e"
             ],
             [
              0.4444444444444444,
              "#bd3786"
             ],
             [
              0.5555555555555556,
              "#d8576b"
             ],
             [
              0.6666666666666666,
              "#ed7953"
             ],
             [
              0.7777777777777778,
              "#fb9f3a"
             ],
             [
              0.8888888888888888,
              "#fdca26"
             ],
             [
              1,
              "#f0f921"
             ]
            ],
            "type": "heatmap"
           }
          ],
          "histogram": [
           {
            "marker": {
             "pattern": {
              "fillmode": "overlay",
              "size": 10,
              "solidity": 0.2
             }
            },
            "type": "histogram"
           }
          ],
          "histogram2d": [
           {
            "colorbar": {
             "outlinewidth": 0,
             "ticks": ""
            },
            "colorscale": [
             [
              0,
              "#0d0887"
             ],
             [
              0.1111111111111111,
              "#46039f"
             ],
             [
              0.2222222222222222,
              "#7201a8"
             ],
             [
              0.3333333333333333,
              "#9c179e"
             ],
             [
              0.4444444444444444,
              "#bd3786"
             ],
             [
              0.5555555555555556,
              "#d8576b"
             ],
             [
              0.6666666666666666,
              "#ed7953"
             ],
             [
              0.7777777777777778,
              "#fb9f3a"
             ],
             [
              0.8888888888888888,
              "#fdca26"
             ],
             [
              1,
              "#f0f921"
             ]
            ],
            "type": "histogram2d"
           }
          ],
          "histogram2dcontour": [
           {
            "colorbar": {
             "outlinewidth": 0,
             "ticks": ""
            },
            "colorscale": [
             [
              0,
              "#0d0887"
             ],
             [
              0.1111111111111111,
              "#46039f"
             ],
             [
              0.2222222222222222,
              "#7201a8"
             ],
             [
              0.3333333333333333,
              "#9c179e"
             ],
             [
              0.4444444444444444,
              "#bd3786"
             ],
             [
              0.5555555555555556,
              "#d8576b"
             ],
             [
              0.6666666666666666,
              "#ed7953"
             ],
             [
              0.7777777777777778,
              "#fb9f3a"
             ],
             [
              0.8888888888888888,
              "#fdca26"
             ],
             [
              1,
              "#f0f921"
             ]
            ],
            "type": "histogram2dcontour"
           }
          ],
          "mesh3d": [
           {
            "colorbar": {
             "outlinewidth": 0,
             "ticks": ""
            },
            "type": "mesh3d"
           }
          ],
          "parcoords": [
           {
            "line": {
             "colorbar": {
              "outlinewidth": 0,
              "ticks": ""
             }
            },
            "type": "parcoords"
           }
          ],
          "pie": [
           {
            "automargin": true,
            "type": "pie"
           }
          ],
          "scatter": [
           {
            "fillpattern": {
             "fillmode": "overlay",
             "size": 10,
             "solidity": 0.2
            },
            "type": "scatter"
           }
          ],
          "scatter3d": [
           {
            "line": {
             "colorbar": {
              "outlinewidth": 0,
              "ticks": ""
             }
            },
            "marker": {
             "colorbar": {
              "outlinewidth": 0,
              "ticks": ""
             }
            },
            "type": "scatter3d"
           }
          ],
          "scattercarpet": [
           {
            "marker": {
             "colorbar": {
              "outlinewidth": 0,
              "ticks": ""
             }
            },
            "type": "scattercarpet"
           }
          ],
          "scattergeo": [
           {
            "marker": {
             "colorbar": {
              "outlinewidth": 0,
              "ticks": ""
             }
            },
            "type": "scattergeo"
           }
          ],
          "scattergl": [
           {
            "marker": {
             "colorbar": {
              "outlinewidth": 0,
              "ticks": ""
             }
            },
            "type": "scattergl"
           }
          ],
          "scattermap": [
           {
            "marker": {
             "colorbar": {
              "outlinewidth": 0,
              "ticks": ""
             }
            },
            "type": "scattermap"
           }
          ],
          "scattermapbox": [
           {
            "marker": {
             "colorbar": {
              "outlinewidth": 0,
              "ticks": ""
             }
            },
            "type": "scattermapbox"
           }
          ],
          "scatterpolar": [
           {
            "marker": {
             "colorbar": {
              "outlinewidth": 0,
              "ticks": ""
             }
            },
            "type": "scatterpolar"
           }
          ],
          "scatterpolargl": [
           {
            "marker": {
             "colorbar": {
              "outlinewidth": 0,
              "ticks": ""
             }
            },
            "type": "scatterpolargl"
           }
          ],
          "scatterternary": [
           {
            "marker": {
             "colorbar": {
              "outlinewidth": 0,
              "ticks": ""
             }
            },
            "type": "scatterternary"
           }
          ],
          "surface": [
           {
            "colorbar": {
             "outlinewidth": 0,
             "ticks": ""
            },
            "colorscale": [
             [
              0,
              "#0d0887"
             ],
             [
              0.1111111111111111,
              "#46039f"
             ],
             [
              0.2222222222222222,
              "#7201a8"
             ],
             [
              0.3333333333333333,
              "#9c179e"
             ],
             [
              0.4444444444444444,
              "#bd3786"
             ],
             [
              0.5555555555555556,
              "#d8576b"
             ],
             [
              0.6666666666666666,
              "#ed7953"
             ],
             [
              0.7777777777777778,
              "#fb9f3a"
             ],
             [
              0.8888888888888888,
              "#fdca26"
             ],
             [
              1,
              "#f0f921"
             ]
            ],
            "type": "surface"
           }
          ],
          "table": [
           {
            "cells": {
             "fill": {
              "color": "#EBF0F8"
             },
             "line": {
              "color": "white"
             }
            },
            "header": {
             "fill": {
              "color": "#C8D4E3"
             },
             "line": {
              "color": "white"
             }
            },
            "type": "table"
           }
          ]
         },
         "layout": {
          "annotationdefaults": {
           "arrowcolor": "#2a3f5f",
           "arrowhead": 0,
           "arrowwidth": 1
          },
          "autotypenumbers": "strict",
          "coloraxis": {
           "colorbar": {
            "outlinewidth": 0,
            "ticks": ""
           }
          },
          "colorscale": {
           "diverging": [
            [
             0,
             "#8e0152"
            ],
            [
             0.1,
             "#c51b7d"
            ],
            [
             0.2,
             "#de77ae"
            ],
            [
             0.3,
             "#f1b6da"
            ],
            [
             0.4,
             "#fde0ef"
            ],
            [
             0.5,
             "#f7f7f7"
            ],
            [
             0.6,
             "#e6f5d0"
            ],
            [
             0.7,
             "#b8e186"
            ],
            [
             0.8,
             "#7fbc41"
            ],
            [
             0.9,
             "#4d9221"
            ],
            [
             1,
             "#276419"
            ]
           ],
           "sequential": [
            [
             0,
             "#0d0887"
            ],
            [
             0.1111111111111111,
             "#46039f"
            ],
            [
             0.2222222222222222,
             "#7201a8"
            ],
            [
             0.3333333333333333,
             "#9c179e"
            ],
            [
             0.4444444444444444,
             "#bd3786"
            ],
            [
             0.5555555555555556,
             "#d8576b"
            ],
            [
             0.6666666666666666,
             "#ed7953"
            ],
            [
             0.7777777777777778,
             "#fb9f3a"
            ],
            [
             0.8888888888888888,
             "#fdca26"
            ],
            [
             1,
             "#f0f921"
            ]
           ],
           "sequentialminus": [
            [
             0,
             "#0d0887"
            ],
            [
             0.1111111111111111,
             "#46039f"
            ],
            [
             0.2222222222222222,
             "#7201a8"
            ],
            [
             0.3333333333333333,
             "#9c179e"
            ],
            [
             0.4444444444444444,
             "#bd3786"
            ],
            [
             0.5555555555555556,
             "#d8576b"
            ],
            [
             0.6666666666666666,
             "#ed7953"
            ],
            [
             0.7777777777777778,
             "#fb9f3a"
            ],
            [
             0.8888888888888888,
             "#fdca26"
            ],
            [
             1,
             "#f0f921"
            ]
           ]
          },
          "colorway": [
           "#636efa",
           "#EF553B",
           "#00cc96",
           "#ab63fa",
           "#FFA15A",
           "#19d3f3",
           "#FF6692",
           "#B6E880",
           "#FF97FF",
           "#FECB52"
          ],
          "font": {
           "color": "#2a3f5f"
          },
          "geo": {
           "bgcolor": "white",
           "lakecolor": "white",
           "landcolor": "#E5ECF6",
           "showlakes": true,
           "showland": true,
           "subunitcolor": "white"
          },
          "hoverlabel": {
           "align": "left"
          },
          "hovermode": "closest",
          "mapbox": {
           "style": "light"
          },
          "paper_bgcolor": "white",
          "plot_bgcolor": "#E5ECF6",
          "polar": {
           "angularaxis": {
            "gridcolor": "white",
            "linecolor": "white",
            "ticks": ""
           },
           "bgcolor": "#E5ECF6",
           "radialaxis": {
            "gridcolor": "white",
            "linecolor": "white",
            "ticks": ""
           }
          },
          "scene": {
           "xaxis": {
            "backgroundcolor": "#E5ECF6",
            "gridcolor": "white",
            "gridwidth": 2,
            "linecolor": "white",
            "showbackground": true,
            "ticks": "",
            "zerolinecolor": "white"
           },
           "yaxis": {
            "backgroundcolor": "#E5ECF6",
            "gridcolor": "white",
            "gridwidth": 2,
            "linecolor": "white",
            "showbackground": true,
            "ticks": "",
            "zerolinecolor": "white"
           },
           "zaxis": {
            "backgroundcolor": "#E5ECF6",
            "gridcolor": "white",
            "gridwidth": 2,
            "linecolor": "white",
            "showbackground": true,
            "ticks": "",
            "zerolinecolor": "white"
           }
          },
          "shapedefaults": {
           "line": {
            "color": "#2a3f5f"
           }
          },
          "ternary": {
           "aaxis": {
            "gridcolor": "white",
            "linecolor": "white",
            "ticks": ""
           },
           "baxis": {
            "gridcolor": "white",
            "linecolor": "white",
            "ticks": ""
           },
           "bgcolor": "#E5ECF6",
           "caxis": {
            "gridcolor": "white",
            "linecolor": "white",
            "ticks": ""
           }
          },
          "title": {
           "x": 0.05
          },
          "xaxis": {
           "automargin": true,
           "gridcolor": "white",
           "linecolor": "white",
           "ticks": "",
           "title": {
            "standoff": 15
           },
           "zerolinecolor": "white",
           "zerolinewidth": 2
          },
          "yaxis": {
           "automargin": true,
           "gridcolor": "white",
           "linecolor": "white",
           "ticks": "",
           "title": {
            "standoff": 15
           },
           "zerolinecolor": "white",
           "zerolinewidth": 2
          }
         }
        },
        "title": {
         "text": "Forest vs Grassland - Unique Species by Location Type",
         "x": 0.5
        }
       }
      }
     },
     "metadata": {},
     "output_type": "display_data"
    }
   ],
   "source": [
    "fig = px.pie(biodiversity_hotspots,names='Location_Type',values='Unique_Species_Count',\n",
    "hole=0.8)\n",
    "\n",
    "fig.update_layout(\n",
    "    title_text='Forest vs Grassland - Unique Species by Location Type',\n",
    "    title_x=0.5  # center align\n",
    ")\n",
    "fig.show()"
   ]
  },
  {
   "cell_type": "markdown",
   "id": "d6e271ef",
   "metadata": {},
   "source": [
    "> *Forest vs Grassland - Sex Distribution:*"
   ]
  },
  {
   "cell_type": "code",
   "execution_count": null,
   "id": "3c0258b9",
   "metadata": {},
   "outputs": [],
   "source": [
    "# Group by Location_Type and count unique species\n",
    "biodiversity_hotspots = Cleaned_Combined_DataSet.groupby('Location_Type')['Common_Name'].nunique().reset_index()\n",
    "# biodiversity_hotspots\n",
    "\n",
    "# Rename the column for clarity\n",
    "biodiversity_hotspots.columns = ['Location_Type', 'Unique_Species_Count']\n",
    "biodiversity_hotspots"
   ]
  },
  {
   "cell_type": "code",
   "execution_count": 174,
   "id": "e2f09235",
   "metadata": {},
   "outputs": [
    {
     "data": {
      "text/html": [
       "<div>\n",
       "<style scoped>\n",
       "    .dataframe tbody tr th:only-of-type {\n",
       "        vertical-align: middle;\n",
       "    }\n",
       "\n",
       "    .dataframe tbody tr th {\n",
       "        vertical-align: top;\n",
       "    }\n",
       "\n",
       "    .dataframe thead th {\n",
       "        text-align: right;\n",
       "    }\n",
       "</style>\n",
       "<table border=\"1\" class=\"dataframe\">\n",
       "  <thead>\n",
       "    <tr style=\"text-align: right;\">\n",
       "      <th></th>\n",
       "      <th>Sex</th>\n",
       "      <th>Count</th>\n",
       "    </tr>\n",
       "  </thead>\n",
       "  <tbody>\n",
       "    <tr>\n",
       "      <th>0</th>\n",
       "      <td>Undetermined</td>\n",
       "      <td>13593</td>\n",
       "    </tr>\n",
       "    <tr>\n",
       "      <th>1</th>\n",
       "      <td>Male</td>\n",
       "      <td>3338</td>\n",
       "    </tr>\n",
       "    <tr>\n",
       "      <th>2</th>\n",
       "      <td>Female</td>\n",
       "      <td>146</td>\n",
       "    </tr>\n",
       "  </tbody>\n",
       "</table>\n",
       "</div>"
      ],
      "text/plain": [
       "            Sex  Count\n",
       "0  Undetermined  13593\n",
       "1          Male   3338\n",
       "2        Female    146"
      ]
     },
     "execution_count": 174,
     "metadata": {},
     "output_type": "execute_result"
    }
   ],
   "source": [
    "sex_ratio = Cleaned_Combined_DataSet['Sex'].value_counts().reset_index()\n",
    "# sex_ratio\n",
    "\n",
    "sex_ratio.columns = ['Sex', 'Count']\n",
    "sex_ratio"
   ]
  },
  {
   "cell_type": "code",
   "execution_count": 175,
   "id": "2733a862",
   "metadata": {},
   "outputs": [
    {
     "data": {
      "application/vnd.plotly.v1+json": {
       "config": {
        "plotlyServerURL": "https://plot.ly"
       },
       "data": [
        {
         "hole": 0.8,
         "labels": [
          "Undetermined",
          "Male",
          "Female"
         ],
         "type": "pie",
         "values": {
          "bdata": "GTUKDZIA",
          "dtype": "i2"
         }
        }
       ],
       "layout": {
        "template": {
         "data": {
          "bar": [
           {
            "error_x": {
             "color": "#2a3f5f"
            },
            "error_y": {
             "color": "#2a3f5f"
            },
            "marker": {
             "line": {
              "color": "#E5ECF6",
              "width": 0.5
             },
             "pattern": {
              "fillmode": "overlay",
              "size": 10,
              "solidity": 0.2
             }
            },
            "type": "bar"
           }
          ],
          "barpolar": [
           {
            "marker": {
             "line": {
              "color": "#E5ECF6",
              "width": 0.5
             },
             "pattern": {
              "fillmode": "overlay",
              "size": 10,
              "solidity": 0.2
             }
            },
            "type": "barpolar"
           }
          ],
          "carpet": [
           {
            "aaxis": {
             "endlinecolor": "#2a3f5f",
             "gridcolor": "white",
             "linecolor": "white",
             "minorgridcolor": "white",
             "startlinecolor": "#2a3f5f"
            },
            "baxis": {
             "endlinecolor": "#2a3f5f",
             "gridcolor": "white",
             "linecolor": "white",
             "minorgridcolor": "white",
             "startlinecolor": "#2a3f5f"
            },
            "type": "carpet"
           }
          ],
          "choropleth": [
           {
            "colorbar": {
             "outlinewidth": 0,
             "ticks": ""
            },
            "type": "choropleth"
           }
          ],
          "contour": [
           {
            "colorbar": {
             "outlinewidth": 0,
             "ticks": ""
            },
            "colorscale": [
             [
              0,
              "#0d0887"
             ],
             [
              0.1111111111111111,
              "#46039f"
             ],
             [
              0.2222222222222222,
              "#7201a8"
             ],
             [
              0.3333333333333333,
              "#9c179e"
             ],
             [
              0.4444444444444444,
              "#bd3786"
             ],
             [
              0.5555555555555556,
              "#d8576b"
             ],
             [
              0.6666666666666666,
              "#ed7953"
             ],
             [
              0.7777777777777778,
              "#fb9f3a"
             ],
             [
              0.8888888888888888,
              "#fdca26"
             ],
             [
              1,
              "#f0f921"
             ]
            ],
            "type": "contour"
           }
          ],
          "contourcarpet": [
           {
            "colorbar": {
             "outlinewidth": 0,
             "ticks": ""
            },
            "type": "contourcarpet"
           }
          ],
          "heatmap": [
           {
            "colorbar": {
             "outlinewidth": 0,
             "ticks": ""
            },
            "colorscale": [
             [
              0,
              "#0d0887"
             ],
             [
              0.1111111111111111,
              "#46039f"
             ],
             [
              0.2222222222222222,
              "#7201a8"
             ],
             [
              0.3333333333333333,
              "#9c179e"
             ],
             [
              0.4444444444444444,
              "#bd3786"
             ],
             [
              0.5555555555555556,
              "#d8576b"
             ],
             [
              0.6666666666666666,
              "#ed7953"
             ],
             [
              0.7777777777777778,
              "#fb9f3a"
             ],
             [
              0.8888888888888888,
              "#fdca26"
             ],
             [
              1,
              "#f0f921"
             ]
            ],
            "type": "heatmap"
           }
          ],
          "histogram": [
           {
            "marker": {
             "pattern": {
              "fillmode": "overlay",
              "size": 10,
              "solidity": 0.2
             }
            },
            "type": "histogram"
           }
          ],
          "histogram2d": [
           {
            "colorbar": {
             "outlinewidth": 0,
             "ticks": ""
            },
            "colorscale": [
             [
              0,
              "#0d0887"
             ],
             [
              0.1111111111111111,
              "#46039f"
             ],
             [
              0.2222222222222222,
              "#7201a8"
             ],
             [
              0.3333333333333333,
              "#9c179e"
             ],
             [
              0.4444444444444444,
              "#bd3786"
             ],
             [
              0.5555555555555556,
              "#d8576b"
             ],
             [
              0.6666666666666666,
              "#ed7953"
             ],
             [
              0.7777777777777778,
              "#fb9f3a"
             ],
             [
              0.8888888888888888,
              "#fdca26"
             ],
             [
              1,
              "#f0f921"
             ]
            ],
            "type": "histogram2d"
           }
          ],
          "histogram2dcontour": [
           {
            "colorbar": {
             "outlinewidth": 0,
             "ticks": ""
            },
            "colorscale": [
             [
              0,
              "#0d0887"
             ],
             [
              0.1111111111111111,
              "#46039f"
             ],
             [
              0.2222222222222222,
              "#7201a8"
             ],
             [
              0.3333333333333333,
              "#9c179e"
             ],
             [
              0.4444444444444444,
              "#bd3786"
             ],
             [
              0.5555555555555556,
              "#d8576b"
             ],
             [
              0.6666666666666666,
              "#ed7953"
             ],
             [
              0.7777777777777778,
              "#fb9f3a"
             ],
             [
              0.8888888888888888,
              "#fdca26"
             ],
             [
              1,
              "#f0f921"
             ]
            ],
            "type": "histogram2dcontour"
           }
          ],
          "mesh3d": [
           {
            "colorbar": {
             "outlinewidth": 0,
             "ticks": ""
            },
            "type": "mesh3d"
           }
          ],
          "parcoords": [
           {
            "line": {
             "colorbar": {
              "outlinewidth": 0,
              "ticks": ""
             }
            },
            "type": "parcoords"
           }
          ],
          "pie": [
           {
            "automargin": true,
            "type": "pie"
           }
          ],
          "scatter": [
           {
            "fillpattern": {
             "fillmode": "overlay",
             "size": 10,
             "solidity": 0.2
            },
            "type": "scatter"
           }
          ],
          "scatter3d": [
           {
            "line": {
             "colorbar": {
              "outlinewidth": 0,
              "ticks": ""
             }
            },
            "marker": {
             "colorbar": {
              "outlinewidth": 0,
              "ticks": ""
             }
            },
            "type": "scatter3d"
           }
          ],
          "scattercarpet": [
           {
            "marker": {
             "colorbar": {
              "outlinewidth": 0,
              "ticks": ""
             }
            },
            "type": "scattercarpet"
           }
          ],
          "scattergeo": [
           {
            "marker": {
             "colorbar": {
              "outlinewidth": 0,
              "ticks": ""
             }
            },
            "type": "scattergeo"
           }
          ],
          "scattergl": [
           {
            "marker": {
             "colorbar": {
              "outlinewidth": 0,
              "ticks": ""
             }
            },
            "type": "scattergl"
           }
          ],
          "scattermap": [
           {
            "marker": {
             "colorbar": {
              "outlinewidth": 0,
              "ticks": ""
             }
            },
            "type": "scattermap"
           }
          ],
          "scattermapbox": [
           {
            "marker": {
             "colorbar": {
              "outlinewidth": 0,
              "ticks": ""
             }
            },
            "type": "scattermapbox"
           }
          ],
          "scatterpolar": [
           {
            "marker": {
             "colorbar": {
              "outlinewidth": 0,
              "ticks": ""
             }
            },
            "type": "scatterpolar"
           }
          ],
          "scatterpolargl": [
           {
            "marker": {
             "colorbar": {
              "outlinewidth": 0,
              "ticks": ""
             }
            },
            "type": "scatterpolargl"
           }
          ],
          "scatterternary": [
           {
            "marker": {
             "colorbar": {
              "outlinewidth": 0,
              "ticks": ""
             }
            },
            "type": "scatterternary"
           }
          ],
          "surface": [
           {
            "colorbar": {
             "outlinewidth": 0,
             "ticks": ""
            },
            "colorscale": [
             [
              0,
              "#0d0887"
             ],
             [
              0.1111111111111111,
              "#46039f"
             ],
             [
              0.2222222222222222,
              "#7201a8"
             ],
             [
              0.3333333333333333,
              "#9c179e"
             ],
             [
              0.4444444444444444,
              "#bd3786"
             ],
             [
              0.5555555555555556,
              "#d8576b"
             ],
             [
              0.6666666666666666,
              "#ed7953"
             ],
             [
              0.7777777777777778,
              "#fb9f3a"
             ],
             [
              0.8888888888888888,
              "#fdca26"
             ],
             [
              1,
              "#f0f921"
             ]
            ],
            "type": "surface"
           }
          ],
          "table": [
           {
            "cells": {
             "fill": {
              "color": "#EBF0F8"
             },
             "line": {
              "color": "white"
             }
            },
            "header": {
             "fill": {
              "color": "#C8D4E3"
             },
             "line": {
              "color": "white"
             }
            },
            "type": "table"
           }
          ]
         },
         "layout": {
          "annotationdefaults": {
           "arrowcolor": "#2a3f5f",
           "arrowhead": 0,
           "arrowwidth": 1
          },
          "autotypenumbers": "strict",
          "coloraxis": {
           "colorbar": {
            "outlinewidth": 0,
            "ticks": ""
           }
          },
          "colorscale": {
           "diverging": [
            [
             0,
             "#8e0152"
            ],
            [
             0.1,
             "#c51b7d"
            ],
            [
             0.2,
             "#de77ae"
            ],
            [
             0.3,
             "#f1b6da"
            ],
            [
             0.4,
             "#fde0ef"
            ],
            [
             0.5,
             "#f7f7f7"
            ],
            [
             0.6,
             "#e6f5d0"
            ],
            [
             0.7,
             "#b8e186"
            ],
            [
             0.8,
             "#7fbc41"
            ],
            [
             0.9,
             "#4d9221"
            ],
            [
             1,
             "#276419"
            ]
           ],
           "sequential": [
            [
             0,
             "#0d0887"
            ],
            [
             0.1111111111111111,
             "#46039f"
            ],
            [
             0.2222222222222222,
             "#7201a8"
            ],
            [
             0.3333333333333333,
             "#9c179e"
            ],
            [
             0.4444444444444444,
             "#bd3786"
            ],
            [
             0.5555555555555556,
             "#d8576b"
            ],
            [
             0.6666666666666666,
             "#ed7953"
            ],
            [
             0.7777777777777778,
             "#fb9f3a"
            ],
            [
             0.8888888888888888,
             "#fdca26"
            ],
            [
             1,
             "#f0f921"
            ]
           ],
           "sequentialminus": [
            [
             0,
             "#0d0887"
            ],
            [
             0.1111111111111111,
             "#46039f"
            ],
            [
             0.2222222222222222,
             "#7201a8"
            ],
            [
             0.3333333333333333,
             "#9c179e"
            ],
            [
             0.4444444444444444,
             "#bd3786"
            ],
            [
             0.5555555555555556,
             "#d8576b"
            ],
            [
             0.6666666666666666,
             "#ed7953"
            ],
            [
             0.7777777777777778,
             "#fb9f3a"
            ],
            [
             0.8888888888888888,
             "#fdca26"
            ],
            [
             1,
             "#f0f921"
            ]
           ]
          },
          "colorway": [
           "#636efa",
           "#EF553B",
           "#00cc96",
           "#ab63fa",
           "#FFA15A",
           "#19d3f3",
           "#FF6692",
           "#B6E880",
           "#FF97FF",
           "#FECB52"
          ],
          "font": {
           "color": "#2a3f5f"
          },
          "geo": {
           "bgcolor": "white",
           "lakecolor": "white",
           "landcolor": "#E5ECF6",
           "showlakes": true,
           "showland": true,
           "subunitcolor": "white"
          },
          "hoverlabel": {
           "align": "left"
          },
          "hovermode": "closest",
          "mapbox": {
           "style": "light"
          },
          "paper_bgcolor": "white",
          "plot_bgcolor": "#E5ECF6",
          "polar": {
           "angularaxis": {
            "gridcolor": "white",
            "linecolor": "white",
            "ticks": ""
           },
           "bgcolor": "#E5ECF6",
           "radialaxis": {
            "gridcolor": "white",
            "linecolor": "white",
            "ticks": ""
           }
          },
          "scene": {
           "xaxis": {
            "backgroundcolor": "#E5ECF6",
            "gridcolor": "white",
            "gridwidth": 2,
            "linecolor": "white",
            "showbackground": true,
            "ticks": "",
            "zerolinecolor": "white"
           },
           "yaxis": {
            "backgroundcolor": "#E5ECF6",
            "gridcolor": "white",
            "gridwidth": 2,
            "linecolor": "white",
            "showbackground": true,
            "ticks": "",
            "zerolinecolor": "white"
           },
           "zaxis": {
            "backgroundcolor": "#E5ECF6",
            "gridcolor": "white",
            "gridwidth": 2,
            "linecolor": "white",
            "showbackground": true,
            "ticks": "",
            "zerolinecolor": "white"
           }
          },
          "shapedefaults": {
           "line": {
            "color": "#2a3f5f"
           }
          },
          "ternary": {
           "aaxis": {
            "gridcolor": "white",
            "linecolor": "white",
            "ticks": ""
           },
           "baxis": {
            "gridcolor": "white",
            "linecolor": "white",
            "ticks": ""
           },
           "bgcolor": "#E5ECF6",
           "caxis": {
            "gridcolor": "white",
            "linecolor": "white",
            "ticks": ""
           }
          },
          "title": {
           "x": 0.05
          },
          "xaxis": {
           "automargin": true,
           "gridcolor": "white",
           "linecolor": "white",
           "ticks": "",
           "title": {
            "standoff": 15
           },
           "zerolinecolor": "white",
           "zerolinewidth": 2
          },
          "yaxis": {
           "automargin": true,
           "gridcolor": "white",
           "linecolor": "white",
           "ticks": "",
           "title": {
            "standoff": 15
           },
           "zerolinecolor": "white",
           "zerolinewidth": 2
          }
         }
        },
        "title": {
         "text": "Forest vs Grassland - Unique Species by Location Type",
         "x": 0.5
        }
       }
      }
     },
     "metadata": {},
     "output_type": "display_data"
    }
   ],
   "source": [
    "fig = go.Figure(go.Pie(labels=sex_ratio['Sex'], values=sex_ratio['Count'],hole=0.8))\n",
    "fig.update_layout(\n",
    "    title_text='Forest vs Grassland - Sex Distribution',\n",
    "    title_x=0.5  # center align\n",
    ")\n",
    "fig.show()"
   ]
  },
  {
   "cell_type": "markdown",
   "id": "c0a77826",
   "metadata": {},
   "source": [
    "> *Forest vs Grassland - Observer Visit based on Season*"
   ]
  },
  {
   "cell_type": "code",
   "execution_count": 182,
   "id": "7d18cf15",
   "metadata": {},
   "outputs": [
    {
     "data": {
      "application/vnd.plotly.v1+json": {
       "config": {
        "plotlyServerURL": "https://plot.ly"
       },
       "data": [
        {
         "branchvalues": "total",
         "domain": {
          "x": [
           0,
           1
          ],
          "y": [
           0,
           1
          ]
         },
         "hovertemplate": "labels=%{label}<br>Visit=%{value}<br>parent=%{parent}<br>id=%{id}<extra></extra>",
         "ids": [
          "Forest/Elizabeth Oswald/Spring",
          "Forest/Kimberly Serno/Spring",
          "Forest/Brian Swimelar/Spring",
          "Forest/Kimberly Serno/Summer",
          "Forest/Elizabeth Oswald/Summer",
          "Forest/Brian Swimelar/Summer",
          "Grassland/Elizabeth Oswald/Spring",
          "Grassland/Kimberly Serno/Spring",
          "Grassland/Brian Swimelar/Spring",
          "Grassland/Kimberly Serno/Summer",
          "Grassland/Elizabeth Oswald/Summer",
          "Grassland/Brian Swimelar/Summer",
          "Forest/Elizabeth Oswald",
          "Forest/Kimberly Serno",
          "Forest/Brian Swimelar",
          "Grassland/Elizabeth Oswald",
          "Grassland/Kimberly Serno",
          "Grassland/Brian Swimelar",
          "Forest",
          "Grassland"
         ],
         "labels": [
          "Spring",
          "Spring",
          "Spring",
          "Summer",
          "Summer",
          "Summer",
          "Spring",
          "Spring",
          "Spring",
          "Summer",
          "Summer",
          "Summer",
          "Elizabeth Oswald",
          "Kimberly Serno",
          "Brian Swimelar",
          "Elizabeth Oswald",
          "Kimberly Serno",
          "Brian Swimelar",
          "Forest",
          "Grassland"
         ],
         "name": "",
         "parents": [
          "Forest/Elizabeth Oswald",
          "Forest/Kimberly Serno",
          "Forest/Brian Swimelar",
          "Forest/Kimberly Serno",
          "Forest/Elizabeth Oswald",
          "Forest/Brian Swimelar",
          "Grassland/Elizabeth Oswald",
          "Grassland/Kimberly Serno",
          "Grassland/Brian Swimelar",
          "Grassland/Kimberly Serno",
          "Grassland/Elizabeth Oswald",
          "Grassland/Brian Swimelar",
          "Forest",
          "Forest",
          "Forest",
          "Grassland",
          "Grassland",
          "Grassland",
          "",
          ""
         ],
         "type": "sunburst",
         "values": {
          "bdata": "AAAAAABAjUAAAAAAAKiKQAAAAAAAyIJAAAAAAAC+qkAAAAAAAByuQAAAAAAAxqdAAAAAAACol0AAAAAAACCJQAAAAAAAwItAAAAAAAAVtUAAAAAAAHKvQAAAAAAAmK5AAAAAAAC2skAAAAAAALSwQAAAAAAAeKxAAAAAAACjtUAAAAAAADm4QAAAAAAAxLJAAAAAAADTyEAAAAAAACjQQA==",
          "dtype": "f8"
         }
        }
       ],
       "layout": {
        "legend": {
         "tracegroupgap": 0
        },
        "template": {
         "data": {
          "bar": [
           {
            "error_x": {
             "color": "#2a3f5f"
            },
            "error_y": {
             "color": "#2a3f5f"
            },
            "marker": {
             "line": {
              "color": "#E5ECF6",
              "width": 0.5
             },
             "pattern": {
              "fillmode": "overlay",
              "size": 10,
              "solidity": 0.2
             }
            },
            "type": "bar"
           }
          ],
          "barpolar": [
           {
            "marker": {
             "line": {
              "color": "#E5ECF6",
              "width": 0.5
             },
             "pattern": {
              "fillmode": "overlay",
              "size": 10,
              "solidity": 0.2
             }
            },
            "type": "barpolar"
           }
          ],
          "carpet": [
           {
            "aaxis": {
             "endlinecolor": "#2a3f5f",
             "gridcolor": "white",
             "linecolor": "white",
             "minorgridcolor": "white",
             "startlinecolor": "#2a3f5f"
            },
            "baxis": {
             "endlinecolor": "#2a3f5f",
             "gridcolor": "white",
             "linecolor": "white",
             "minorgridcolor": "white",
             "startlinecolor": "#2a3f5f"
            },
            "type": "carpet"
           }
          ],
          "choropleth": [
           {
            "colorbar": {
             "outlinewidth": 0,
             "ticks": ""
            },
            "type": "choropleth"
           }
          ],
          "contour": [
           {
            "colorbar": {
             "outlinewidth": 0,
             "ticks": ""
            },
            "colorscale": [
             [
              0,
              "#0d0887"
             ],
             [
              0.1111111111111111,
              "#46039f"
             ],
             [
              0.2222222222222222,
              "#7201a8"
             ],
             [
              0.3333333333333333,
              "#9c179e"
             ],
             [
              0.4444444444444444,
              "#bd3786"
             ],
             [
              0.5555555555555556,
              "#d8576b"
             ],
             [
              0.6666666666666666,
              "#ed7953"
             ],
             [
              0.7777777777777778,
              "#fb9f3a"
             ],
             [
              0.8888888888888888,
              "#fdca26"
             ],
             [
              1,
              "#f0f921"
             ]
            ],
            "type": "contour"
           }
          ],
          "contourcarpet": [
           {
            "colorbar": {
             "outlinewidth": 0,
             "ticks": ""
            },
            "type": "contourcarpet"
           }
          ],
          "heatmap": [
           {
            "colorbar": {
             "outlinewidth": 0,
             "ticks": ""
            },
            "colorscale": [
             [
              0,
              "#0d0887"
             ],
             [
              0.1111111111111111,
              "#46039f"
             ],
             [
              0.2222222222222222,
              "#7201a8"
             ],
             [
              0.3333333333333333,
              "#9c179e"
             ],
             [
              0.4444444444444444,
              "#bd3786"
             ],
             [
              0.5555555555555556,
              "#d8576b"
             ],
             [
              0.6666666666666666,
              "#ed7953"
             ],
             [
              0.7777777777777778,
              "#fb9f3a"
             ],
             [
              0.8888888888888888,
              "#fdca26"
             ],
             [
              1,
              "#f0f921"
             ]
            ],
            "type": "heatmap"
           }
          ],
          "histogram": [
           {
            "marker": {
             "pattern": {
              "fillmode": "overlay",
              "size": 10,
              "solidity": 0.2
             }
            },
            "type": "histogram"
           }
          ],
          "histogram2d": [
           {
            "colorbar": {
             "outlinewidth": 0,
             "ticks": ""
            },
            "colorscale": [
             [
              0,
              "#0d0887"
             ],
             [
              0.1111111111111111,
              "#46039f"
             ],
             [
              0.2222222222222222,
              "#7201a8"
             ],
             [
              0.3333333333333333,
              "#9c179e"
             ],
             [
              0.4444444444444444,
              "#bd3786"
             ],
             [
              0.5555555555555556,
              "#d8576b"
             ],
             [
              0.6666666666666666,
              "#ed7953"
             ],
             [
              0.7777777777777778,
              "#fb9f3a"
             ],
             [
              0.8888888888888888,
              "#fdca26"
             ],
             [
              1,
              "#f0f921"
             ]
            ],
            "type": "histogram2d"
           }
          ],
          "histogram2dcontour": [
           {
            "colorbar": {
             "outlinewidth": 0,
             "ticks": ""
            },
            "colorscale": [
             [
              0,
              "#0d0887"
             ],
             [
              0.1111111111111111,
              "#46039f"
             ],
             [
              0.2222222222222222,
              "#7201a8"
             ],
             [
              0.3333333333333333,
              "#9c179e"
             ],
             [
              0.4444444444444444,
              "#bd3786"
             ],
             [
              0.5555555555555556,
              "#d8576b"
             ],
             [
              0.6666666666666666,
              "#ed7953"
             ],
             [
              0.7777777777777778,
              "#fb9f3a"
             ],
             [
              0.8888888888888888,
              "#fdca26"
             ],
             [
              1,
              "#f0f921"
             ]
            ],
            "type": "histogram2dcontour"
           }
          ],
          "mesh3d": [
           {
            "colorbar": {
             "outlinewidth": 0,
             "ticks": ""
            },
            "type": "mesh3d"
           }
          ],
          "parcoords": [
           {
            "line": {
             "colorbar": {
              "outlinewidth": 0,
              "ticks": ""
             }
            },
            "type": "parcoords"
           }
          ],
          "pie": [
           {
            "automargin": true,
            "type": "pie"
           }
          ],
          "scatter": [
           {
            "fillpattern": {
             "fillmode": "overlay",
             "size": 10,
             "solidity": 0.2
            },
            "type": "scatter"
           }
          ],
          "scatter3d": [
           {
            "line": {
             "colorbar": {
              "outlinewidth": 0,
              "ticks": ""
             }
            },
            "marker": {
             "colorbar": {
              "outlinewidth": 0,
              "ticks": ""
             }
            },
            "type": "scatter3d"
           }
          ],
          "scattercarpet": [
           {
            "marker": {
             "colorbar": {
              "outlinewidth": 0,
              "ticks": ""
             }
            },
            "type": "scattercarpet"
           }
          ],
          "scattergeo": [
           {
            "marker": {
             "colorbar": {
              "outlinewidth": 0,
              "ticks": ""
             }
            },
            "type": "scattergeo"
           }
          ],
          "scattergl": [
           {
            "marker": {
             "colorbar": {
              "outlinewidth": 0,
              "ticks": ""
             }
            },
            "type": "scattergl"
           }
          ],
          "scattermap": [
           {
            "marker": {
             "colorbar": {
              "outlinewidth": 0,
              "ticks": ""
             }
            },
            "type": "scattermap"
           }
          ],
          "scattermapbox": [
           {
            "marker": {
             "colorbar": {
              "outlinewidth": 0,
              "ticks": ""
             }
            },
            "type": "scattermapbox"
           }
          ],
          "scatterpolar": [
           {
            "marker": {
             "colorbar": {
              "outlinewidth": 0,
              "ticks": ""
             }
            },
            "type": "scatterpolar"
           }
          ],
          "scatterpolargl": [
           {
            "marker": {
             "colorbar": {
              "outlinewidth": 0,
              "ticks": ""
             }
            },
            "type": "scatterpolargl"
           }
          ],
          "scatterternary": [
           {
            "marker": {
             "colorbar": {
              "outlinewidth": 0,
              "ticks": ""
             }
            },
            "type": "scatterternary"
           }
          ],
          "surface": [
           {
            "colorbar": {
             "outlinewidth": 0,
             "ticks": ""
            },
            "colorscale": [
             [
              0,
              "#0d0887"
             ],
             [
              0.1111111111111111,
              "#46039f"
             ],
             [
              0.2222222222222222,
              "#7201a8"
             ],
             [
              0.3333333333333333,
              "#9c179e"
             ],
             [
              0.4444444444444444,
              "#bd3786"
             ],
             [
              0.5555555555555556,
              "#d8576b"
             ],
             [
              0.6666666666666666,
              "#ed7953"
             ],
             [
              0.7777777777777778,
              "#fb9f3a"
             ],
             [
              0.8888888888888888,
              "#fdca26"
             ],
             [
              1,
              "#f0f921"
             ]
            ],
            "type": "surface"
           }
          ],
          "table": [
           {
            "cells": {
             "fill": {
              "color": "#EBF0F8"
             },
             "line": {
              "color": "white"
             }
            },
            "header": {
             "fill": {
              "color": "#C8D4E3"
             },
             "line": {
              "color": "white"
             }
            },
            "type": "table"
           }
          ]
         },
         "layout": {
          "annotationdefaults": {
           "arrowcolor": "#2a3f5f",
           "arrowhead": 0,
           "arrowwidth": 1
          },
          "autotypenumbers": "strict",
          "coloraxis": {
           "colorbar": {
            "outlinewidth": 0,
            "ticks": ""
           }
          },
          "colorscale": {
           "diverging": [
            [
             0,
             "#8e0152"
            ],
            [
             0.1,
             "#c51b7d"
            ],
            [
             0.2,
             "#de77ae"
            ],
            [
             0.3,
             "#f1b6da"
            ],
            [
             0.4,
             "#fde0ef"
            ],
            [
             0.5,
             "#f7f7f7"
            ],
            [
             0.6,
             "#e6f5d0"
            ],
            [
             0.7,
             "#b8e186"
            ],
            [
             0.8,
             "#7fbc41"
            ],
            [
             0.9,
             "#4d9221"
            ],
            [
             1,
             "#276419"
            ]
           ],
           "sequential": [
            [
             0,
             "#0d0887"
            ],
            [
             0.1111111111111111,
             "#46039f"
            ],
            [
             0.2222222222222222,
             "#7201a8"
            ],
            [
             0.3333333333333333,
             "#9c179e"
            ],
            [
             0.4444444444444444,
             "#bd3786"
            ],
            [
             0.5555555555555556,
             "#d8576b"
            ],
            [
             0.6666666666666666,
             "#ed7953"
            ],
            [
             0.7777777777777778,
             "#fb9f3a"
            ],
            [
             0.8888888888888888,
             "#fdca26"
            ],
            [
             1,
             "#f0f921"
            ]
           ],
           "sequentialminus": [
            [
             0,
             "#0d0887"
            ],
            [
             0.1111111111111111,
             "#46039f"
            ],
            [
             0.2222222222222222,
             "#7201a8"
            ],
            [
             0.3333333333333333,
             "#9c179e"
            ],
            [
             0.4444444444444444,
             "#bd3786"
            ],
            [
             0.5555555555555556,
             "#d8576b"
            ],
            [
             0.6666666666666666,
             "#ed7953"
            ],
            [
             0.7777777777777778,
             "#fb9f3a"
            ],
            [
             0.8888888888888888,
             "#fdca26"
            ],
            [
             1,
             "#f0f921"
            ]
           ]
          },
          "colorway": [
           "#636efa",
           "#EF553B",
           "#00cc96",
           "#ab63fa",
           "#FFA15A",
           "#19d3f3",
           "#FF6692",
           "#B6E880",
           "#FF97FF",
           "#FECB52"
          ],
          "font": {
           "color": "#2a3f5f"
          },
          "geo": {
           "bgcolor": "white",
           "lakecolor": "white",
           "landcolor": "#E5ECF6",
           "showlakes": true,
           "showland": true,
           "subunitcolor": "white"
          },
          "hoverlabel": {
           "align": "left"
          },
          "hovermode": "closest",
          "mapbox": {
           "style": "light"
          },
          "paper_bgcolor": "white",
          "plot_bgcolor": "#E5ECF6",
          "polar": {
           "angularaxis": {
            "gridcolor": "white",
            "linecolor": "white",
            "ticks": ""
           },
           "bgcolor": "#E5ECF6",
           "radialaxis": {
            "gridcolor": "white",
            "linecolor": "white",
            "ticks": ""
           }
          },
          "scene": {
           "xaxis": {
            "backgroundcolor": "#E5ECF6",
            "gridcolor": "white",
            "gridwidth": 2,
            "linecolor": "white",
            "showbackground": true,
            "ticks": "",
            "zerolinecolor": "white"
           },
           "yaxis": {
            "backgroundcolor": "#E5ECF6",
            "gridcolor": "white",
            "gridwidth": 2,
            "linecolor": "white",
            "showbackground": true,
            "ticks": "",
            "zerolinecolor": "white"
           },
           "zaxis": {
            "backgroundcolor": "#E5ECF6",
            "gridcolor": "white",
            "gridwidth": 2,
            "linecolor": "white",
            "showbackground": true,
            "ticks": "",
            "zerolinecolor": "white"
           }
          },
          "shapedefaults": {
           "line": {
            "color": "#2a3f5f"
           }
          },
          "ternary": {
           "aaxis": {
            "gridcolor": "white",
            "linecolor": "white",
            "ticks": ""
           },
           "baxis": {
            "gridcolor": "white",
            "linecolor": "white",
            "ticks": ""
           },
           "bgcolor": "#E5ECF6",
           "caxis": {
            "gridcolor": "white",
            "linecolor": "white",
            "ticks": ""
           }
          },
          "title": {
           "x": 0.05
          },
          "xaxis": {
           "automargin": true,
           "gridcolor": "white",
           "linecolor": "white",
           "ticks": "",
           "title": {
            "standoff": 15
           },
           "zerolinecolor": "white",
           "zerolinewidth": 2
          },
          "yaxis": {
           "automargin": true,
           "gridcolor": "white",
           "linecolor": "white",
           "ticks": "",
           "title": {
            "standoff": 15
           },
           "zerolinecolor": "white",
           "zerolinewidth": 2
          }
         }
        },
        "title": {
         "text": "Forest vs Grassland - Observer Visit"
        }
       }
      }
     },
     "metadata": {},
     "output_type": "display_data"
    }
   ],
   "source": [
    "fig = px.sunburst(Cleaned_Combined_DataSet, path=['Location_Type','Observer','Season'], values='Visit',\n",
    "                  title='Forest vs Grassland - Observer Visit based on Season')\n",
    "fig.show()"
   ]
  },
  {
   "cell_type": "markdown",
   "id": "9007b0b2",
   "metadata": {},
   "source": [
    "> *Weather Conditions*"
   ]
  },
  {
   "cell_type": "markdown",
   "id": "a0827440",
   "metadata": {},
   "source": [
    "- Temperature Distribution: Forest vs Grassland"
   ]
  },
  {
   "cell_type": "code",
   "execution_count": 202,
   "id": "0dba3182",
   "metadata": {},
   "outputs": [
    {
     "data": {
      "image/png": "[encoded data removed]",
      "text/plain": [
       "<Figure size 640x480 with 1 Axes>"
      ]
     },
     "metadata": {},
     "output_type": "display_data"
    }
   ],
   "source": [
    "sns.histplot(data=Cleaned_Combined_DataSet, x='Temperature', hue='Location_Type', kde=True)\n",
    "plt.title('Temperature Distribution: Forest vs Grassland')\n",
    "plt.xlabel('Temperature (°C)')\n",
    "plt.ylabel('Frequency')\n",
    "plt.show()"
   ]
  },
  {
   "cell_type": "markdown",
   "id": "8d050edd",
   "metadata": {},
   "source": [
    "- Humidity Distribution: Forest vs Grassland"
   ]
  },
  {
   "cell_type": "code",
   "execution_count": 205,
   "id": "56f46b8d",
   "metadata": {},
   "outputs": [
    {
     "data": {
      "image/png": "[encoded data removed]",
      "text/plain": [
       "<Figure size 640x480 with 1 Axes>"
      ]
     },
     "metadata": {},
     "output_type": "display_data"
    }
   ],
   "source": [
    "sns.histplot(data=Cleaned_Combined_DataSet, x='Humidity', hue='Location_Type', kde=True)\n",
    "plt.title('Humidity Distribution: Forest vs Grassland')\n",
    "plt.xlabel('Humidity')\n",
    "plt.ylabel('Frequency')\n",
    "plt.show()"
   ]
  },
  {
   "cell_type": "markdown",
   "id": "700b4bc3",
   "metadata": {},
   "source": [
    "- Frequency by Sky Condition: Forest vs Grassland"
   ]
  },
  {
   "cell_type": "code",
   "execution_count": 210,
   "id": "2989dd65",
   "metadata": {},
   "outputs": [
    {
     "name": "stderr",
     "output_type": "stream",
     "text": [
      "C:\\Users\\dhars\\AppData\\Local\\Temp\\ipykernel_13436\\1417377247.py:2: FutureWarning:\n",
      "\n",
      "\n",
      "\n",
      "Passing `palette` without assigning `hue` is deprecated and will be removed in v0.14.0. Assign the `x` variable to `hue` and set `legend=False` for the same effect.\n",
      "\n",
      "\n"
     ]
    },
    {
     "data": {
      "image/png": "[encoded data removed]",
      "text/plain": [
       "<Figure size 800x500 with 1 Axes>"
      ]
     },
     "metadata": {},
     "output_type": "display_data"
    }
   ],
   "source": [
    "plt.figure(figsize=(8, 5))\n",
    "sns.countplot(data=Cleaned_Combined_DataSet, x=\"Sky\", order=Cleaned_Combined_DataSet[\"Sky\"].value_counts().index, palette=\"coolwarm\")\n",
    "plt.title(\"Frequency by Sky Condition: Forest vs Grassland\")\n",
    "plt.xticks(rotation=45)\n",
    "plt.show()"
   ]
  },
  {
   "cell_type": "markdown",
   "id": "b72d696b",
   "metadata": {},
   "source": [
    "- Frequency by Wind Condition: Forest vs Grassland"
   ]
  },
  {
   "cell_type": "code",
   "execution_count": 211,
   "id": "c249b888",
   "metadata": {},
   "outputs": [
    {
     "name": "stderr",
     "output_type": "stream",
     "text": [
      "C:\\Users\\dhars\\AppData\\Local\\Temp\\ipykernel_13436\\1976767773.py:2: FutureWarning:\n",
      "\n",
      "\n",
      "\n",
      "Passing `palette` without assigning `hue` is deprecated and will be removed in v0.14.0. Assign the `x` variable to `hue` and set `legend=False` for the same effect.\n",
      "\n",
      "\n"
     ]
    },
    {
     "data": {
      "image/png": "[encoded data removed]",
      "text/plain": [
       "<Figure size 800x500 with 1 Axes>"
      ]
     },
     "metadata": {},
     "output_type": "display_data"
    }
   ],
   "source": [
    "plt.figure(figsize=(8, 5))\n",
    "sns.countplot(data=Cleaned_Combined_DataSet, x=\"Wind\", order=Cleaned_Combined_DataSet[\"Wind\"].value_counts().index, palette=\"viridis\")\n",
    "plt.title(\"Frequency by Wind Condition: Forest vs Grassland\")\n",
    "plt.xticks(rotation=45)\n",
    "plt.show()"
   ]
  },
  {
   "cell_type": "markdown",
   "id": "04a5fb91",
   "metadata": {},
   "source": [
    "- EDA DataSet:"
   ]
  },
  {
   "cell_type": "code",
   "execution_count": 214,
   "id": "6e99458b",
   "metadata": {},
   "outputs": [],
   "source": [
    "# Create the directory if it doesn't exist\n",
    "output_dir = 'C:/Users/dhars/Downloads/Dhass/codeing/GUVI/2. MainBoot/4.Project_Code/Project2/Bird_Species_Observation/DataSet/CleanDataSet'\n",
    "os.makedirs(output_dir, exist_ok=True)\n",
    "\n",
    "# Now save the file\n",
    "Cleaned_Combined_DataSet.to_csv(os.path.join(output_dir, 'EDA_Combined_DataSet.csv'), index=False)"
   ]
  },
  {
   "cell_type": "code",
   "execution_count": 215,
   "id": "b268d3bb",
   "metadata": {},
   "outputs": [
    {
     "data": {
      "text/html": [
       "<div>\n",
       "<style scoped>\n",
       "    .dataframe tbody tr th:only-of-type {\n",
       "        vertical-align: middle;\n",
       "    }\n",
       "\n",
       "    .dataframe tbody tr th {\n",
       "        vertical-align: top;\n",
       "    }\n",
       "\n",
       "    .dataframe thead th {\n",
       "        text-align: right;\n",
       "    }\n",
       "</style>\n",
       "<table border=\"1\" class=\"dataframe\">\n",
       "  <thead>\n",
       "    <tr style=\"text-align: right;\">\n",
       "      <th></th>\n",
       "      <th>Admin_Unit_Code</th>\n",
       "      <th>Site_Name</th>\n",
       "      <th>Plot_Name</th>\n",
       "      <th>Location_Type</th>\n",
       "      <th>Year</th>\n",
       "      <th>Date</th>\n",
       "      <th>Start_Time</th>\n",
       "      <th>End_Time</th>\n",
       "      <th>Observer</th>\n",
       "      <th>Visit</th>\n",
       "      <th>Interval_Length</th>\n",
       "      <th>ID_Method</th>\n",
       "      <th>Distance</th>\n",
       "      <th>Flyover_Observed</th>\n",
       "      <th>Sex</th>\n",
       "      <th>Common_Name</th>\n",
       "      <th>Scientific_Name</th>\n",
       "      <th>AcceptedTSN</th>\n",
       "      <th>NPSTaxonCode</th>\n",
       "      <th>AOU_Code</th>\n",
       "      <th>PIF_Watchlist_Status</th>\n",
       "      <th>Regional_Stewardship_Status</th>\n",
       "      <th>Temperature</th>\n",
       "      <th>Humidity</th>\n",
       "      <th>Sky</th>\n",
       "      <th>Wind</th>\n",
       "      <th>Disturbance</th>\n",
       "      <th>Initial_Three_Min_Cnt</th>\n",
       "      <th>TaxonCode</th>\n",
       "      <th>Previously_Obs</th>\n",
       "      <th>Start_Timestamp</th>\n",
       "      <th>End_Timestamp</th>\n",
       "      <th>Start_Hour</th>\n",
       "      <th>End_Hour</th>\n",
       "      <th>Start_Time_Only</th>\n",
       "      <th>End_Time_Only</th>\n",
       "      <th>Duration</th>\n",
       "      <th>Duration_Hours</th>\n",
       "      <th>Month</th>\n",
       "      <th>Dates</th>\n",
       "      <th>WeekDay_Name</th>\n",
       "      <th>iso</th>\n",
       "      <th>Season</th>\n",
       "    </tr>\n",
       "  </thead>\n",
       "  <tbody>\n",
       "    <tr>\n",
       "      <th>0</th>\n",
       "      <td>ANTI</td>\n",
       "      <td>ANTI 1</td>\n",
       "      <td>ANTI-0036</td>\n",
       "      <td>Forest</td>\n",
       "      <td>2018</td>\n",
       "      <td>2018-05-22</td>\n",
       "      <td>06:19:00</td>\n",
       "      <td>06:29:00</td>\n",
       "      <td>Elizabeth Oswald</td>\n",
       "      <td>1</td>\n",
       "      <td>0-2.5 min</td>\n",
       "      <td>Singing</td>\n",
       "      <td>&lt;= 50 Meters</td>\n",
       "      <td>False</td>\n",
       "      <td>Undetermined</td>\n",
       "      <td>Eastern Towhee</td>\n",
       "      <td>Pipilo erythrophthalmus</td>\n",
       "      <td>179276.0</td>\n",
       "      <td>83803.0</td>\n",
       "      <td>EATO</td>\n",
       "      <td>False</td>\n",
       "      <td>True</td>\n",
       "      <td>19.9</td>\n",
       "      <td>79.400002</td>\n",
       "      <td>Cloudy/Overcast</td>\n",
       "      <td>Calm (&lt; 1 mph) smoke rises vertically</td>\n",
       "      <td>No effect on count</td>\n",
       "      <td>True</td>\n",
       "      <td>94228.0</td>\n",
       "      <td>False</td>\n",
       "      <td>2018-05-22 06:19:00</td>\n",
       "      <td>2018-05-22 06:29:00</td>\n",
       "      <td>6</td>\n",
       "      <td>6</td>\n",
       "      <td>06:19:00</td>\n",
       "      <td>06:29:00</td>\n",
       "      <td>0 days 00:10:00</td>\n",
       "      <td>0.166667</td>\n",
       "      <td>5</td>\n",
       "      <td>22</td>\n",
       "      <td>Tuesday</td>\n",
       "      <td>21</td>\n",
       "      <td>Spring</td>\n",
       "    </tr>\n",
       "    <tr>\n",
       "      <th>1</th>\n",
       "      <td>ANTI</td>\n",
       "      <td>ANTI 1</td>\n",
       "      <td>ANTI-0036</td>\n",
       "      <td>Forest</td>\n",
       "      <td>2018</td>\n",
       "      <td>2018-05-22</td>\n",
       "      <td>06:19:00</td>\n",
       "      <td>06:29:00</td>\n",
       "      <td>Elizabeth Oswald</td>\n",
       "      <td>1</td>\n",
       "      <td>0-2.5 min</td>\n",
       "      <td>Calling</td>\n",
       "      <td>&lt;= 50 Meters</td>\n",
       "      <td>False</td>\n",
       "      <td>Undetermined</td>\n",
       "      <td>White-breasted Nuthatch</td>\n",
       "      <td>Sitta carolinensis</td>\n",
       "      <td>178775.0</td>\n",
       "      <td>90935.0</td>\n",
       "      <td>WBNU</td>\n",
       "      <td>False</td>\n",
       "      <td>False</td>\n",
       "      <td>19.9</td>\n",
       "      <td>79.400002</td>\n",
       "      <td>Cloudy/Overcast</td>\n",
       "      <td>Calm (&lt; 1 mph) smoke rises vertically</td>\n",
       "      <td>No effect on count</td>\n",
       "      <td>True</td>\n",
       "      <td>94228.0</td>\n",
       "      <td>False</td>\n",
       "      <td>2018-05-22 06:19:00</td>\n",
       "      <td>2018-05-22 06:29:00</td>\n",
       "      <td>6</td>\n",
       "      <td>6</td>\n",
       "      <td>06:19:00</td>\n",
       "      <td>06:29:00</td>\n",
       "      <td>0 days 00:10:00</td>\n",
       "      <td>0.166667</td>\n",
       "      <td>5</td>\n",
       "      <td>22</td>\n",
       "      <td>Tuesday</td>\n",
       "      <td>21</td>\n",
       "      <td>Spring</td>\n",
       "    </tr>\n",
       "    <tr>\n",
       "      <th>2</th>\n",
       "      <td>ANTI</td>\n",
       "      <td>ANTI 1</td>\n",
       "      <td>ANTI-0036</td>\n",
       "      <td>Forest</td>\n",
       "      <td>2018</td>\n",
       "      <td>2018-05-22</td>\n",
       "      <td>06:19:00</td>\n",
       "      <td>06:29:00</td>\n",
       "      <td>Elizabeth Oswald</td>\n",
       "      <td>1</td>\n",
       "      <td>2.5 - 5 min</td>\n",
       "      <td>Calling</td>\n",
       "      <td>50 - 100 Meters</td>\n",
       "      <td>False</td>\n",
       "      <td>Undetermined</td>\n",
       "      <td>Red-bellied Woodpecker</td>\n",
       "      <td>Melanerpes carolinus</td>\n",
       "      <td>178195.0</td>\n",
       "      <td>84865.0</td>\n",
       "      <td>RBWO</td>\n",
       "      <td>False</td>\n",
       "      <td>False</td>\n",
       "      <td>19.9</td>\n",
       "      <td>79.400002</td>\n",
       "      <td>Cloudy/Overcast</td>\n",
       "      <td>Calm (&lt; 1 mph) smoke rises vertically</td>\n",
       "      <td>No effect on count</td>\n",
       "      <td>False</td>\n",
       "      <td>94228.0</td>\n",
       "      <td>False</td>\n",
       "      <td>2018-05-22 06:19:00</td>\n",
       "      <td>2018-05-22 06:29:00</td>\n",
       "      <td>6</td>\n",
       "      <td>6</td>\n",
       "      <td>06:19:00</td>\n",
       "      <td>06:29:00</td>\n",
       "      <td>0 days 00:10:00</td>\n",
       "      <td>0.166667</td>\n",
       "      <td>5</td>\n",
       "      <td>22</td>\n",
       "      <td>Tuesday</td>\n",
       "      <td>21</td>\n",
       "      <td>Spring</td>\n",
       "    </tr>\n",
       "    <tr>\n",
       "      <th>3</th>\n",
       "      <td>ANTI</td>\n",
       "      <td>ANTI 1</td>\n",
       "      <td>ANTI-0036</td>\n",
       "      <td>Forest</td>\n",
       "      <td>2018</td>\n",
       "      <td>2018-05-22</td>\n",
       "      <td>06:19:00</td>\n",
       "      <td>06:29:00</td>\n",
       "      <td>Elizabeth Oswald</td>\n",
       "      <td>1</td>\n",
       "      <td>2.5 - 5 min</td>\n",
       "      <td>Singing</td>\n",
       "      <td>&lt;= 50 Meters</td>\n",
       "      <td>False</td>\n",
       "      <td>Undetermined</td>\n",
       "      <td>Orchard Oriole</td>\n",
       "      <td>Icterus spurius</td>\n",
       "      <td>179064.0</td>\n",
       "      <td>93634.0</td>\n",
       "      <td>OROR</td>\n",
       "      <td>False</td>\n",
       "      <td>False</td>\n",
       "      <td>19.9</td>\n",
       "      <td>79.400002</td>\n",
       "      <td>Cloudy/Overcast</td>\n",
       "      <td>Calm (&lt; 1 mph) smoke rises vertically</td>\n",
       "      <td>No effect on count</td>\n",
       "      <td>False</td>\n",
       "      <td>94228.0</td>\n",
       "      <td>False</td>\n",
       "      <td>2018-05-22 06:19:00</td>\n",
       "      <td>2018-05-22 06:29:00</td>\n",
       "      <td>6</td>\n",
       "      <td>6</td>\n",
       "      <td>06:19:00</td>\n",
       "      <td>06:29:00</td>\n",
       "      <td>0 days 00:10:00</td>\n",
       "      <td>0.166667</td>\n",
       "      <td>5</td>\n",
       "      <td>22</td>\n",
       "      <td>Tuesday</td>\n",
       "      <td>21</td>\n",
       "      <td>Spring</td>\n",
       "    </tr>\n",
       "    <tr>\n",
       "      <th>4</th>\n",
       "      <td>ANTI</td>\n",
       "      <td>ANTI 1</td>\n",
       "      <td>ANTI-0036</td>\n",
       "      <td>Forest</td>\n",
       "      <td>2018</td>\n",
       "      <td>2018-05-22</td>\n",
       "      <td>06:19:00</td>\n",
       "      <td>06:29:00</td>\n",
       "      <td>Elizabeth Oswald</td>\n",
       "      <td>1</td>\n",
       "      <td>2.5 - 5 min</td>\n",
       "      <td>Visualization</td>\n",
       "      <td>&lt;= 50 Meters</td>\n",
       "      <td>False</td>\n",
       "      <td>Undetermined</td>\n",
       "      <td>Northern Mockingbird</td>\n",
       "      <td>Mimus polyglottos</td>\n",
       "      <td>178620.0</td>\n",
       "      <td>88394.0</td>\n",
       "      <td>NOMO</td>\n",
       "      <td>False</td>\n",
       "      <td>False</td>\n",
       "      <td>19.9</td>\n",
       "      <td>79.400002</td>\n",
       "      <td>Cloudy/Overcast</td>\n",
       "      <td>Calm (&lt; 1 mph) smoke rises vertically</td>\n",
       "      <td>No effect on count</td>\n",
       "      <td>False</td>\n",
       "      <td>94228.0</td>\n",
       "      <td>False</td>\n",
       "      <td>2018-05-22 06:19:00</td>\n",
       "      <td>2018-05-22 06:29:00</td>\n",
       "      <td>6</td>\n",
       "      <td>6</td>\n",
       "      <td>06:19:00</td>\n",
       "      <td>06:29:00</td>\n",
       "      <td>0 days 00:10:00</td>\n",
       "      <td>0.166667</td>\n",
       "      <td>5</td>\n",
       "      <td>22</td>\n",
       "      <td>Tuesday</td>\n",
       "      <td>21</td>\n",
       "      <td>Spring</td>\n",
       "    </tr>\n",
       "  </tbody>\n",
       "</table>\n",
       "</div>"
      ],
      "text/plain": [
       "  Admin_Unit_Code Site_Name  Plot_Name Location_Type  Year        Date  \\\n",
       "0            ANTI    ANTI 1  ANTI-0036        Forest  2018  2018-05-22   \n",
       "1            ANTI    ANTI 1  ANTI-0036        Forest  2018  2018-05-22   \n",
       "2            ANTI    ANTI 1  ANTI-0036        Forest  2018  2018-05-22   \n",
       "3            ANTI    ANTI 1  ANTI-0036        Forest  2018  2018-05-22   \n",
       "4            ANTI    ANTI 1  ANTI-0036        Forest  2018  2018-05-22   \n",
       "\n",
       "  Start_Time  End_Time          Observer  Visit Interval_Length  \\\n",
       "0   06:19:00  06:29:00  Elizabeth Oswald      1       0-2.5 min   \n",
       "1   06:19:00  06:29:00  Elizabeth Oswald      1       0-2.5 min   \n",
       "2   06:19:00  06:29:00  Elizabeth Oswald      1     2.5 - 5 min   \n",
       "3   06:19:00  06:29:00  Elizabeth Oswald      1     2.5 - 5 min   \n",
       "4   06:19:00  06:29:00  Elizabeth Oswald      1     2.5 - 5 min   \n",
       "\n",
       "       ID_Method         Distance  Flyover_Observed           Sex  \\\n",
       "0        Singing     <= 50 Meters             False  Undetermined   \n",
       "1        Calling     <= 50 Meters             False  Undetermined   \n",
       "2        Calling  50 - 100 Meters             False  Undetermined   \n",
       "3        Singing     <= 50 Meters             False  Undetermined   \n",
       "4  Visualization     <= 50 Meters             False  Undetermined   \n",
       "\n",
       "               Common_Name          Scientific_Name  AcceptedTSN  \\\n",
       "0           Eastern Towhee  Pipilo erythrophthalmus     179276.0   \n",
       "1  White-breasted Nuthatch       Sitta carolinensis     178775.0   \n",
       "2   Red-bellied Woodpecker     Melanerpes carolinus     178195.0   \n",
       "3           Orchard Oriole          Icterus spurius     179064.0   \n",
       "4     Northern Mockingbird        Mimus polyglottos     178620.0   \n",
       "\n",
       "   NPSTaxonCode AOU_Code  PIF_Watchlist_Status  Regional_Stewardship_Status  \\\n",
       "0       83803.0     EATO                 False                         True   \n",
       "1       90935.0     WBNU                 False                        False   \n",
       "2       84865.0     RBWO                 False                        False   \n",
       "3       93634.0     OROR                 False                        False   \n",
       "4       88394.0     NOMO                 False                        False   \n",
       "\n",
       "   Temperature   Humidity              Sky  \\\n",
       "0         19.9  79.400002  Cloudy/Overcast   \n",
       "1         19.9  79.400002  Cloudy/Overcast   \n",
       "2         19.9  79.400002  Cloudy/Overcast   \n",
       "3         19.9  79.400002  Cloudy/Overcast   \n",
       "4         19.9  79.400002  Cloudy/Overcast   \n",
       "\n",
       "                                    Wind         Disturbance  \\\n",
       "0  Calm (< 1 mph) smoke rises vertically  No effect on count   \n",
       "1  Calm (< 1 mph) smoke rises vertically  No effect on count   \n",
       "2  Calm (< 1 mph) smoke rises vertically  No effect on count   \n",
       "3  Calm (< 1 mph) smoke rises vertically  No effect on count   \n",
       "4  Calm (< 1 mph) smoke rises vertically  No effect on count   \n",
       "\n",
       "   Initial_Three_Min_Cnt  TaxonCode  Previously_Obs      Start_Timestamp  \\\n",
       "0                   True    94228.0           False  2018-05-22 06:19:00   \n",
       "1                   True    94228.0           False  2018-05-22 06:19:00   \n",
       "2                  False    94228.0           False  2018-05-22 06:19:00   \n",
       "3                  False    94228.0           False  2018-05-22 06:19:00   \n",
       "4                  False    94228.0           False  2018-05-22 06:19:00   \n",
       "\n",
       "         End_Timestamp  Start_Hour  End_Hour Start_Time_Only End_Time_Only  \\\n",
       "0  2018-05-22 06:29:00           6         6        06:19:00      06:29:00   \n",
       "1  2018-05-22 06:29:00           6         6        06:19:00      06:29:00   \n",
       "2  2018-05-22 06:29:00           6         6        06:19:00      06:29:00   \n",
       "3  2018-05-22 06:29:00           6         6        06:19:00      06:29:00   \n",
       "4  2018-05-22 06:29:00           6         6        06:19:00      06:29:00   \n",
       "\n",
       "          Duration  Duration_Hours  Month  Dates WeekDay_Name  iso  Season  \n",
       "0  0 days 00:10:00        0.166667      5     22      Tuesday   21  Spring  \n",
       "1  0 days 00:10:00        0.166667      5     22      Tuesday   21  Spring  \n",
       "2  0 days 00:10:00        0.166667      5     22      Tuesday   21  Spring  \n",
       "3  0 days 00:10:00        0.166667      5     22      Tuesday   21  Spring  \n",
       "4  0 days 00:10:00        0.166667      5     22      Tuesday   21  Spring  "
      ]
     },
     "execution_count": 215,
     "metadata": {},
     "output_type": "execute_result"
    }
   ],
   "source": [
    "EDA_Combined_DataSet=pd.read_csv(\"C:/Users/dhars/Downloads/Dhass/codeing/GUVI/2. MainBoot/4.Project_Code/Project2/Bird_Species_Observation/DataSet/CleanDataSet/EDA_Combined_DataSet.csv\")\n",
    "EDA_Combined_DataSet.head()"
   ]
  }
 ],
 "metadata": {
  "kernelspec": {
   "display_name": ".venv",
   "language": "python",
   "name": "python3"
  },
  "language_info": {
   "codemirror_mode": {
    "name": "ipython",
    "version": 3
   },
   "file_extension": ".py",
   "mimetype": "text/x-python",
   "name": "python",
   "nbconvert_exporter": "python",
   "pygments_lexer": "ipython3",
   "version": "3.12.1"
  }
 },
 "nbformat": 4,
 "nbformat_minor": 5
}
